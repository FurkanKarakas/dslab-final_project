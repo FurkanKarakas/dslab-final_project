{
 "cells": [
  {
   "cell_type": "code",
   "execution_count": 7,
   "metadata": {},
   "outputs": [
    {
     "data": {
      "application/vnd.jupyter.widget-view+json": {
       "model_id": "",
       "version_major": 2,
       "version_minor": 0
      },
      "text/plain": [
       "FloatProgress(value=0.0, bar_style='info', description='Progress:', layout=Layout(height='25px', width='50%'),…"
      ]
     },
     "metadata": {},
     "output_type": "display_data"
    }
   ],
   "source": [
    "sbb_oneday = sbb_inradius.filter(\"betriebstag == '14.05.2019'\")"
   ]
  },
  {
   "cell_type": "code",
   "execution_count": 10,
   "metadata": {},
   "outputs": [
    {
     "data": {
      "application/vnd.jupyter.widget-view+json": {
       "model_id": "",
       "version_major": 2,
       "version_minor": 0
      },
      "text/plain": [
       "FloatProgress(value=0.0, bar_style='info', description='Progress:', layout=Layout(height='25px', width='50%'),…"
      ]
     },
     "metadata": {},
     "output_type": "display_data"
    }
   ],
   "source": [
    "timeDiff = (F.unix_timestamp('arrival_time_real', format=\"HH:mm:ss\")\n",
    "            - F.unix_timestamp('arrival_time_schedule', format=\"HH:mm\"))"
   ]
  },
  {
   "cell_type": "code",
   "execution_count": 13,
   "metadata": {},
   "outputs": [
    {
     "data": {
      "application/vnd.jupyter.widget-view+json": {
       "model_id": "",
       "version_major": 2,
       "version_minor": 0
      },
      "text/plain": [
       "FloatProgress(value=0.0, bar_style='info', description='Progress:', layout=Layout(height='25px', width='50%'),…"
      ]
     },
     "metadata": {},
     "output_type": "display_data"
    }
   ],
   "source": [
    "stcweekdays = spark.read.parquet(\"user/boecuego/stcweekdays.parquet\")\n",
    "\n"
   ]
  },
  {
   "cell_type": "code",
   "execution_count": 15,
   "metadata": {},
   "outputs": [
    {
     "data": {
      "application/vnd.jupyter.widget-view+json": {
       "model_id": "",
       "version_major": 2,
       "version_minor": 0
      },
      "text/plain": [
       "FloatProgress(value=0.0, bar_style='info', description='Progress:', layout=Layout(height='25px', width='50%'),…"
      ]
     },
     "metadata": {},
     "output_type": "display_data"
    }
   ],
   "source": [
    "sbb_oneday_english = sbb_oneday_english.withColumn(\"arrival_time\",\\\n",
    "                                                  sbb_oneday_english.schedule_arrival.substr(12,10000))\n",
    "sbb_oneday_english = sbb_oneday_english.withColumn(\"departure_time\",\\\n",
    "                                                  sbb_oneday_english.schedule_dep.substr(12,10000))\n",
    "\n",
    "sbb_oneday_english_h = sbb_oneday_english.filter(\" CAST(SUBSTRING(arrival_time,1,2) AS int) BETWEEN 7 AND 21 \")\n",
    "sbb_oneday_english_h = sbb_oneday_english_h.filter(\" CAST(SUBSTRING(departure_time,1,2) AS int) BETWEEN 7 AND 21 \")\n",
    "\n",
    "\n"
   ]
  },
  {
   "cell_type": "code",
   "execution_count": 16,
   "metadata": {},
   "outputs": [
    {
     "data": {
      "application/vnd.jupyter.widget-view+json": {
       "model_id": "",
       "version_major": 2,
       "version_minor": 0
      },
      "text/plain": [
       "FloatProgress(value=0.0, bar_style='info', description='Progress:', layout=Layout(height='25px', width='50%'),…"
      ]
     },
     "metadata": {},
     "output_type": "display_data"
    }
   ],
   "source": [
    "stcweekdays = stcweekdays.withColumn(\"departure_time\",\\\n",
    "                                                  stcweekdays.departure_time.substr(1,5))"
   ]
  },
  {
   "cell_type": "code",
   "execution_count": 17,
   "metadata": {},
   "outputs": [
    {
     "data": {
      "application/vnd.jupyter.widget-view+json": {
       "model_id": "",
       "version_major": 2,
       "version_minor": 0
      },
      "text/plain": [
       "FloatProgress(value=0.0, bar_style='info', description='Progress:', layout=Layout(height='25px', width='50%'),…"
      ]
     },
     "metadata": {},
     "output_type": "display_data"
    }
   ],
   "source": [
    "@F.udf(T.StringType())\n",
    "def splt(x):\n",
    "    return x.split(\":\")[0]"
   ]
  },
  {
   "cell_type": "code",
   "execution_count": 18,
   "metadata": {},
   "outputs": [
    {
     "data": {
      "application/vnd.jupyter.widget-view+json": {
       "model_id": "",
       "version_major": 2,
       "version_minor": 0
      },
      "text/plain": [
       "FloatProgress(value=0.0, bar_style='info', description='Progress:', layout=Layout(height='25px', width='50%'),…"
      ]
     },
     "metadata": {},
     "output_type": "display_data"
    }
   ],
   "source": [
    "def collect_stopss(sbb_oneday_english_h):\n",
    "    sbb_collected_stops = sbb_oneday_english_h.groupby(\"trip_id\")\\\n",
    "            .agg(F.concat_ws(\"-\", F.collect_list(sbb_oneday_english_h.stop_id)).alias(\"stop_ids\")\\\n",
    "            ,F.concat_ws(\"-\", F.collect_list(sbb_oneday_english_h.departure_time)).alias(\"departures\")).sort(\"stop_ids\")\n",
    "    return sbb_collected_stops\n"
   ]
  },
  {
   "cell_type": "code",
   "execution_count": 19,
   "metadata": {},
   "outputs": [
    {
     "data": {
      "application/vnd.jupyter.widget-view+json": {
       "model_id": "",
       "version_major": 2,
       "version_minor": 0
      },
      "text/plain": [
       "FloatProgress(value=0.0, bar_style='info', description='Progress:', layout=Layout(height='25px', width='50%'),…"
      ]
     },
     "metadata": {},
     "output_type": "display_data"
    }
   ],
   "source": [
    "sbb_collected_stops = collect_stopss(sbb_oneday_english_h)"
   ]
  },
  {
   "cell_type": "code",
   "execution_count": 20,
   "metadata": {},
   "outputs": [
    {
     "data": {
      "application/vnd.jupyter.widget-view+json": {
       "model_id": "",
       "version_major": 2,
       "version_minor": 0
      },
      "text/plain": [
       "FloatProgress(value=0.0, bar_style='info', description='Progress:', layout=Layout(height='25px', width='50%'),…"
      ]
     },
     "metadata": {},
     "output_type": "display_data"
    }
   ],
   "source": [
    "\n",
    "trips_collected_stops = stcweekdays.groupby(\"trip_id\")\\\n",
    "            .agg(F.concat_ws(\"-\", F.collect_list(splt(stcweekdays.stop_id))).alias(\"stop_ids\")\\\n",
    "            ,F.concat_ws(\"-\", F.collect_list(stcweekdays.departure_time)).alias(\"departures\")).sort(\"stop_ids\")\n",
    "\n"
   ]
  },
  {
   "cell_type": "code",
   "execution_count": 51,
   "metadata": {},
   "outputs": [
    {
     "data": {
      "application/vnd.jupyter.widget-view+json": {
       "model_id": "",
       "version_major": 2,
       "version_minor": 0
      },
      "text/plain": [
       "FloatProgress(value=0.0, bar_style='info', description='Progress:', layout=Layout(height='25px', width='50%'),…"
      ]
     },
     "metadata": {},
     "output_type": "display_data"
    }
   ],
   "source": [
    "trips_collected_stops_short = trips_collected_stops.filter((F.length(\"stop_ids\")<=len(\"8502187-8502277-8502278\"))&(F.length(\"stop_ids\")>len(\"8502208\")))"
   ]
  },
  {
   "cell_type": "code",
   "execution_count": 55,
   "metadata": {},
   "outputs": [
    {
     "data": {
      "application/vnd.jupyter.widget-view+json": {
       "model_id": "",
       "version_major": 2,
       "version_minor": 0
      },
      "text/plain": [
       "FloatProgress(value=0.0, bar_style='info', description='Progress:', layout=Layout(height='25px', width='50%'),…"
      ]
     },
     "metadata": {},
     "output_type": "display_data"
    }
   ],
   "source": [
    "@F.udf(T.StringType())\n",
    "def sample(sbb_stops):\n",
    "    try:\n",
    "        sbb_stops2 = \"%\"+ sbb_stops[10:-10] + \"%\"\n",
    "        return sbb_stops2\n",
    "    except:\n",
    "        return sbb_stops\n",
    "    \n",
    "@F.udf(T.StringType())\n",
    "def sample_short(sbb_stops):\n",
    "    try:\n",
    "        sbb_stops2 = \"%\"+ sbb_stops + \"%\"\n",
    "        return sbb_stops2\n",
    "    except:\n",
    "        return sbb_stops   \n",
    "    \n",
    "@F.udf(T.StringType())\n",
    "def sample_time(sbb_departure):\n",
    "    return sbb_departure[:4]+\"%\"\n",
    "\n",
    "#trips_collected_stops = trips_collected_stops.withColumn(\"sample_stop_ids\",sample(\"stop_ids\")).withColumn(\"sample_departures\",sample_time(\"departures\"))\n",
    "trips_collected_stops_short = trips_collected_stops_short.withColumn(\"sample_stop_ids\",sample_short(\"stop_ids\")).withColumn(\"sample_departures\",sample_time(\"departures\"))\n",
    "\n"
   ]
  },
  {
   "cell_type": "code",
   "execution_count": 57,
   "metadata": {},
   "outputs": [
    {
     "data": {
      "application/vnd.jupyter.widget-view+json": {
       "model_id": "",
       "version_major": 2,
       "version_minor": 0
      },
      "text/plain": [
       "FloatProgress(value=0.0, bar_style='info', description='Progress:', layout=Layout(height='25px', width='50%'),…"
      ]
     },
     "metadata": {},
     "output_type": "display_data"
    },
    {
     "name": "stdout",
     "output_type": "stream",
     "text": [
      "20120"
     ]
    }
   ],
   "source": [
    "sbb_collected_stops.cache()\n",
    "sbb_collected_stops.count()"
   ]
  },
  {
   "cell_type": "code",
   "execution_count": 58,
   "metadata": {},
   "outputs": [
    {
     "data": {
      "application/vnd.jupyter.widget-view+json": {
       "model_id": "",
       "version_major": 2,
       "version_minor": 0
      },
      "text/plain": [
       "FloatProgress(value=0.0, bar_style='info', description='Progress:', layout=Layout(height='25px', width='50%'),…"
      ]
     },
     "metadata": {},
     "output_type": "display_data"
    },
    {
     "name": "stdout",
     "output_type": "stream",
     "text": [
      "+---------------+--------------------+--------------------+\n",
      "|        trip_id|            stop_ids|          departures|\n",
      "+---------------+--------------------+--------------------+\n",
      "|  85:31:613:000|8502187-8502277-8...|07:01-07:02-07:04...|\n",
      "|85:11:20484:001|8502208-8502209-8...|21:45-21:47-21:51...|\n",
      "|85:11:20482:001|8502208-8502209-8...|21:15-21:17-21:21...|\n",
      "|85:11:20480:001|8502208-8502209-8...|20:45-20:47-20:51...|\n",
      "|85:11:20432:001|8502208-8502209-8...|08:45-08:47-08:51...|\n",
      "|85:11:20440:001|8502208-8502209-8...|10:45-10:47-10:51...|\n",
      "|85:11:20450:001|8502208-8502209-8...|13:15-13:17-13:21...|\n",
      "|85:11:20438:001|8502208-8502209-8...|10:15-10:17-10:21...|\n",
      "|85:11:20452:001|8502208-8502209-8...|13:45-13:47-13:51...|\n",
      "|85:11:20448:001|8502208-8502209-8...|12:45-12:47-12:51...|\n",
      "|85:11:20456:001|8502208-8502209-8...|14:45-14:47-14:51...|\n",
      "|85:11:20442:001|8502208-8502209-8...|11:15-11:17-11:21...|\n",
      "|85:11:20460:001|8502208-8502209-8...|15:45-15:47-15:51...|\n",
      "|85:11:20454:001|8502208-8502209-8...|14:15-14:17-14:21...|\n",
      "|85:11:20464:001|8502208-8502209-8...|16:45-16:47-16:51...|\n",
      "|85:11:20476:001|8502208-8502209-8...|19:45-19:47-19:51...|\n",
      "|85:11:20444:001|8502208-8502209-8...|11:45-11:47-11:51...|\n",
      "|85:11:20468:001|8502208-8502209-8...|17:45-17:47-17:51...|\n",
      "|85:11:20446:001|8502208-8502209-8...|12:15-12:17-12:21...|\n",
      "|85:11:20470:001|8502208-8502209-8...|18:15-18:17-18:21...|\n",
      "+---------------+--------------------+--------------------+\n",
      "only showing top 20 rows"
     ]
    }
   ],
   "source": [
    "sbb_collected_stops.show()"
   ]
  },
  {
   "cell_type": "code",
   "execution_count": null,
   "metadata": {},
   "outputs": [],
   "source": [
    "trips_collected_stops_short = trips_collected_stops_short."
   ]
  },
  {
   "cell_type": "code",
   "execution_count": 59,
   "metadata": {},
   "outputs": [
    {
     "data": {
      "application/vnd.jupyter.widget-view+json": {
       "model_id": "",
       "version_major": 2,
       "version_minor": 0
      },
      "text/plain": [
       "FloatProgress(value=0.0, bar_style='info', description='Progress:', layout=Layout(height='25px', width='50%'),…"
      ]
     },
     "metadata": {},
     "output_type": "display_data"
    }
   ],
   "source": [
    "def match_trips(sbb_collected_stops,trips_collected_stops):\n",
    "    \n",
    "    \n",
    "    sameStops = (sbb_collected_stops.stop_ids == trips_collected_stops.stop_ids)\n",
    "    sameDepartures =( sbb_collected_stops.departures == trips_collected_stops.departures)\n",
    "\n",
    "    trips_collected_stops = trips_collected_stops.alias(\"mts\")\n",
    "    sbb_collected_stops = sbb_collected_stops.alias(\"sbbs\")\n",
    "    matched_trips = sbb_collected_stops.join(trips_collected_stops,F.expr(\"sbbs.stop_ids LIKE mts.sample_stop_ids AND sbbs.departures LIKE mts.sample_departures\"))\n",
    "    return matched_trips"
   ]
  },
  {
   "cell_type": "code",
   "execution_count": 60,
   "metadata": {},
   "outputs": [
    {
     "data": {
      "application/vnd.jupyter.widget-view+json": {
       "model_id": "",
       "version_major": 2,
       "version_minor": 0
      },
      "text/plain": [
       "FloatProgress(value=0.0, bar_style='info', description='Progress:', layout=Layout(height='25px', width='50%'),…"
      ]
     },
     "metadata": {},
     "output_type": "display_data"
    }
   ],
   "source": [
    "matched_trips = match_trips(sbb_collected_stops,trips_collected_stops_short)"
   ]
  },
  {
   "cell_type": "code",
   "execution_count": 61,
   "metadata": {},
   "outputs": [
    {
     "data": {
      "application/vnd.jupyter.widget-view+json": {
       "model_id": "",
       "version_major": 2,
       "version_minor": 0
      },
      "text/plain": [
       "FloatProgress(value=0.0, bar_style='info', description='Progress:', layout=Layout(height='25px', width='50%'),…"
      ]
     },
     "metadata": {},
     "output_type": "display_data"
    },
    {
     "name": "stdout",
     "output_type": "stream",
     "text": [
      "DataFrame[trip_id: string, stop_ids: string, departures: string, trip_id: string, stop_ids: string, departures: string, sample_stop_ids: string, sample_departures: string]"
     ]
    }
   ],
   "source": [
    "matched_trips.cache()"
   ]
  },
  {
   "cell_type": "code",
   "execution_count": 62,
   "metadata": {},
   "outputs": [
    {
     "data": {
      "application/vnd.jupyter.widget-view+json": {
       "model_id": "",
       "version_major": 2,
       "version_minor": 0
      },
      "text/plain": [
       "FloatProgress(value=0.0, bar_style='info', description='Progress:', layout=Layout(height='25px', width='50%'),…"
      ]
     },
     "metadata": {},
     "output_type": "display_data"
    }
   ],
   "source": [
    "matched_trips = matched_trips.select(F.col(\"sbbs.trip_id\").alias(\"sbb_trip_id\"),\\\n",
    "                    F.col(\"sbbs.stop_ids\").alias(\"sbb_stop_ids\"),\\\n",
    "                    F.col(\"sbbs.departures\").alias(\"sbb_departures\"),\\\n",
    "                    F.col(\"mts.trip_id\").alias(\"trips_trip_id\"),\\\n",
    "                    F.col(\"mts.stop_ids\").alias(\"trips_stop_ids\"),\\\n",
    "                    F.col(\"mts.departures\").alias(\"trips_departures\"),\\\n",
    "                    \"sample_stop_ids\",\"sample_departures\" )"
   ]
  },
  {
   "cell_type": "code",
   "execution_count": 63,
   "metadata": {},
   "outputs": [
    {
     "data": {
      "application/vnd.jupyter.widget-view+json": {
       "model_id": "",
       "version_major": 2,
       "version_minor": 0
      },
      "text/plain": [
       "FloatProgress(value=0.0, bar_style='info', description='Progress:', layout=Layout(height='25px', width='50%'),…"
      ]
     },
     "metadata": {},
     "output_type": "display_data"
    }
   ],
   "source": [
    "matched_trips.write.parquet(\"user/boecuego/matched_trips2_shorts.parquet\")\n",
    "\n",
    "matched_trips = spark.read.parquet(\"user/boecuego/matched_trips2_shorts.parquet\")"
   ]
  },
  {
   "cell_type": "code",
   "execution_count": 64,
   "metadata": {},
   "outputs": [
    {
     "data": {
      "application/vnd.jupyter.widget-view+json": {
       "model_id": "",
       "version_major": 2,
       "version_minor": 0
      },
      "text/plain": [
       "FloatProgress(value=0.0, bar_style='info', description='Progress:', layout=Layout(height='25px', width='50%'),…"
      ]
     },
     "metadata": {},
     "output_type": "display_data"
    }
   ],
   "source": [
    "matched_trips_shorts  = spark.read.parquet(\"user/boecuego/matched_trips2_shorts.parquet\")\n",
    "matched_trips = spark.read.parquet(\"user/boecuego/matched_trips2.parquet\")"
   ]
  },
  {
   "cell_type": "code",
   "execution_count": 68,
   "metadata": {},
   "outputs": [
    {
     "data": {
      "application/vnd.jupyter.widget-view+json": {
       "model_id": "",
       "version_major": 2,
       "version_minor": 0
      },
      "text/plain": [
       "FloatProgress(value=0.0, bar_style='info', description='Progress:', layout=Layout(height='25px', width='50%'),…"
      ]
     },
     "metadata": {},
     "output_type": "display_data"
    },
    {
     "name": "stdout",
     "output_type": "stream",
     "text": [
      "+---------------+-------------------------------------------------------------------------------------------------------+-----------------------------------------------------------------------------+------------------------+---------------+----------------+-----------------+-----------------+\n",
      "|sbb_trip_id    |sbb_stop_ids                                                                                           |sbb_departures                                                               |trips_trip_id           |trips_stop_ids |trips_departures|sample_stop_ids  |sample_departures|\n",
      "+---------------+-------------------------------------------------------------------------------------------------------+-----------------------------------------------------------------------------+------------------------+---------------+----------------+-----------------+-----------------+\n",
      "|85:11:18844:001|8503204-8503203-8503202-8503201-8503200-8503009-8503010-8503011-8503000-8503006-8503129-8503306-8503305|12:00-12:02-12:06-12:08-12:10-12:13-12:18-12:19-12:25-12:30-12:34-12:36-12:42|32.TA.80-159-Y-j19-1.8.H|8503000-8503006|12:05-12:11     |%8503000-8503006%|12:0%            |\n",
      "+---------------+-------------------------------------------------------------------------------------------------------+-----------------------------------------------------------------------------+------------------------+---------------+----------------+-----------------+-----------------+"
     ]
    }
   ],
   "source": [
    "matched_trips_shorts.filter(\"trips_trip_id == '32.TA.80-159-Y-j19-1.8.H'\").show(20,False)"
   ]
  },
  {
   "cell_type": "code",
   "execution_count": null,
   "metadata": {},
   "outputs": [],
   "source": [
    "matched_trips_shorts.select(\"\")"
   ]
  },
  {
   "cell_type": "code",
   "execution_count": 30,
   "metadata": {},
   "outputs": [
    {
     "data": {
      "application/vnd.jupyter.widget-view+json": {
       "model_id": "",
       "version_major": 2,
       "version_minor": 0
      },
      "text/plain": [
       "FloatProgress(value=0.0, bar_style='info', description='Progress:', layout=Layout(height='25px', width='50%'),…"
      ]
     },
     "metadata": {},
     "output_type": "display_data"
    },
    {
     "name": "stdout",
     "output_type": "stream",
     "text": [
      "25577"
     ]
    }
   ],
   "source": [
    "matched_trips.filter(\" LENGTH(sample_stop_ids) > 5  \").count()"
   ]
  },
  {
   "cell_type": "code",
   "execution_count": 31,
   "metadata": {},
   "outputs": [
    {
     "data": {
      "application/vnd.jupyter.widget-view+json": {
       "model_id": "",
       "version_major": 2,
       "version_minor": 0
      },
      "text/plain": [
       "FloatProgress(value=0.0, bar_style='info', description='Progress:', layout=Layout(height='25px', width='50%'),…"
      ]
     },
     "metadata": {},
     "output_type": "display_data"
    },
    {
     "name": "stdout",
     "output_type": "stream",
     "text": [
      "20646"
     ]
    }
   ],
   "source": [
    "matched_trips.filter(\"sample_stop_ids != '%%' AND LENGTH(sample_stop_ids) > 5  \").select(\"trips_trip_id\").distinct().count()"
   ]
  },
  {
   "cell_type": "code",
   "execution_count": null,
   "metadata": {},
   "outputs": [],
   "source": []
  },
  {
   "cell_type": "code",
   "execution_count": 45,
   "metadata": {},
   "outputs": [
    {
     "data": {
      "application/vnd.jupyter.widget-view+json": {
       "model_id": "",
       "version_major": 2,
       "version_minor": 0
      },
      "text/plain": [
       "FloatProgress(value=0.0, bar_style='info', description='Progress:', layout=Layout(height='25px', width='50%'),…"
      ]
     },
     "metadata": {},
     "output_type": "display_data"
    },
    {
     "name": "stdout",
     "output_type": "stream",
     "text": [
      "+---------------------+-----------------------------------------------------------------------------------------------------------------------------------------------------------------------------------------------------------------------+-----------------------------------------------------------------------------------------------------------------------------------------------------------------+------------------------+---------------+----------------+---------------+-----------------+\n",
      "|sbb_trip_id          |sbb_stop_ids                                                                                                                                                                                                           |sbb_departures                                                                                                                                                   |trips_trip_id           |trips_stop_ids |trips_departures|sample_stop_ids|sample_departures|\n",
      "+---------------------+-----------------------------------------------------------------------------------------------------------------------------------------------------------------------------------------------------------------------+-----------------------------------------------------------------------------------------------------------------------------------------------------------------+------------------------+---------------+----------------+---------------+-----------------+\n",
      "|85:3849:88320-02010-1|8573205-8587799-8573244-8590762-8590620-8590626-8591830-8591128-8591049-8590889-8590881-8587655-8594198-8590578-8590561-8590583                                                                                        |12:02-12:04-12:05-12:06-12:08-12:09-12:11-12:12-12:14-12:15-12:17-12:18-12:20-12:21-12:23-12:24                                                                  |32.TA.80-159-Y-j19-1.8.H|8503000-8503006|12:05-12:11     |%%             |12:0%            |\n",
      "|85:3849:88569-02010-1|8573205-8587799-8573244-8590762-8590620-8590626-8591830-8591294-8591256-8591063-8591382-8591332-8591073-8591193-8591276-8591406-8591244-8591255-8591229-8591362-8591433-8591173-8591123-8591174-8588078                |12:04-12:06-12:07-12:08-12:10-12:11-12:13-12:14-12:15-12:16-12:18-12:20-12:21-12:22-12:24-12:25-12:26-12:27-12:28-12:29-12:31-12:32-12:33-12:35-12:37            |32.TA.80-159-Y-j19-1.8.H|8503000-8503006|12:05-12:11     |%%             |12:0%            |\n",
      "|85:11:18645:001      |8503528-8503525-8503527-8503526-8503008-8503007-8503006-8503020-8503000-8503003-8503004-8503100-8503141-8503101-8503102-8503111-8503103-8503104                                                                        |12:03-12:04-12:07-12:11-12:14-12:16-12:21-12:25-12:30-12:33-12:36-12:38-12:40-12:42-12:44-12:45-12:50-12:53                                                      |32.TA.80-159-Y-j19-1.8.H|8503000-8503006|12:05-12:11     |%%             |12:0%            |\n",
      "|85:849:159647-02080-1|8503610-8591214-8591163-8591036-8591037-8591408-8591311-8591258-8591097-8591056-8591402-8591434-8591197-8591436-8591423-8591446-8576240-8591201-8591122-8591249-8591346-8591161-8591160-8591280-8591108-8591088-8591272|12:01-12:02-12:03-12:05-12:05-12:07-12:08-12:10-12:11-12:12-12:15-12:16-12:16-12:17-12:19-12:20-12:21-12:23-12:24-12:26-12:27-12:28-12:29-12:30-12:31-12:32-12:33|32.TA.80-159-Y-j19-1.8.H|8503000-8503006|12:05-12:11     |%%             |12:0%            |\n",
      "|85:849:159671-02080-1|8503610-8591214-8591163-8591036-8591037-8591408-8591311-8591258-8591097-8591056-8591402-8591434-8591197-8591436-8591423-8591446-8576240-8591201-8591122-8591249-8591346-8591161-8591160-8591280-8591108-8591088-8591272|12:08-12:10-12:11-12:12-12:13-12:14-12:16-12:18-12:18-12:20-12:22-12:23-12:24-12:25-12:26-12:27-12:29-12:30-12:32-12:34-12:35-12:35-12:36-12:38-12:39-12:39-12:40|32.TA.80-159-Y-j19-1.8.H|8503000-8503006|12:05-12:11     |%%             |12:0%            |\n",
      "+---------------------+-----------------------------------------------------------------------------------------------------------------------------------------------------------------------------------------------------------------------+-----------------------------------------------------------------------------------------------------------------------------------------------------------------+------------------------+---------------+----------------+---------------+-----------------+\n",
      "only showing top 5 rows"
     ]
    }
   ],
   "source": [
    "matched_trips.filter(\"trips_trip_id == '32.TA.80-159-Y-j19-1.8.H'\").show(5,False)"
   ]
  },
  {
   "cell_type": "code",
   "execution_count": 33,
   "metadata": {},
   "outputs": [
    {
     "data": {
      "application/vnd.jupyter.widget-view+json": {
       "model_id": "",
       "version_major": 2,
       "version_minor": 0
      },
      "text/plain": [
       "FloatProgress(value=0.0, bar_style='info', description='Progress:', layout=Layout(height='25px', width='50%'),…"
      ]
     },
     "metadata": {},
     "output_type": "display_data"
    }
   ],
   "source": [
    "timematch = matched_trips.withColumn(\"exactTime\",F.when(F.substring(\"sbb_departures\",1,5) == F.substring(\"trips_departures\",1,5),True ).otherwise(False))"
   ]
  },
  {
   "cell_type": "code",
   "execution_count": 39,
   "metadata": {},
   "outputs": [
    {
     "data": {
      "application/vnd.jupyter.widget-view+json": {
       "model_id": "",
       "version_major": 2,
       "version_minor": 0
      },
      "text/plain": [
       "FloatProgress(value=0.0, bar_style='info', description='Progress:', layout=Layout(height='25px', width='50%'),…"
      ]
     },
     "metadata": {},
     "output_type": "display_data"
    },
    {
     "name": "stdout",
     "output_type": "stream",
     "text": [
      "['sbb_trip_id', 'sbb_stop_ids', 'sbb_departures', 'trips_trip_id', 'trips_stop_ids', 'trips_departures']"
     ]
    }
   ],
   "source": [
    "timematch.columns[:-3]"
   ]
  },
  {
   "cell_type": "code",
   "execution_count": 41,
   "metadata": {},
   "outputs": [
    {
     "data": {
      "application/vnd.jupyter.widget-view+json": {
       "model_id": "",
       "version_major": 2,
       "version_minor": 0
      },
      "text/plain": [
       "FloatProgress(value=0.0, bar_style='info', description='Progress:', layout=Layout(height='25px', width='50%'),…"
      ]
     },
     "metadata": {},
     "output_type": "display_data"
    },
    {
     "name": "stdout",
     "output_type": "stream",
     "text": [
      "+---------------------+-----------------------------------------------------------------------------------------------------------------------------------------------+-----------------------------------------------------------------------------------------------------------+------------------------+-----------------------------------------------------------------------------------------------------------------------------------------------+-----------------------------------------------------------------------------------------------------------+\n",
      "|sbb_trip_id          |sbb_stop_ids                                                                                                                                   |sbb_departures                                                                                             |trips_trip_id           |trips_stop_ids                                                                                                                                 |trips_departures                                                                                           |\n",
      "+---------------------+-----------------------------------------------------------------------------------------------------------------------------------------------+-----------------------------------------------------------------------------------------------------------+------------------------+-----------------------------------------------------------------------------------------------------------------------------------------------+-----------------------------------------------------------------------------------------------------------+\n",
      "|85:3849:88396-02010-1|8573205-8587799-8573244-8590762-8590620-8590626-8591830-8591128-8591049-8590889-8590881-8587655-8594198-8590578-8590561-8590583                |07:01-07:03-07:04-07:05-07:07-07:08-07:10-07:11-07:13-07:14-07:16-07:17-07:19-07:20-07:22-07:23            |202.TA.26-12-A-j19-1.2.H|8573205-8587799-8573244-8590762-8590620-8590626-8591830-8591128-8591049-8590889-8590881-8587655-8594198-8590578-8590561-8590583-8591065        |07:01-07:03-07:04-07:05-07:07-07:08-07:10-07:11-07:13-07:14-07:16-07:17-07:19-07:20-07:22-07:23-07:25      |\n",
      "|85:11:18681:001      |8503528-8503525-8503527-8503526-8503008-8503007-8503006-8503020-8503000-8503003                                                                |21:03-21:04-21:07-21:11-21:14-21:16-21:21-21:25-21:30-21:33                                                |383.TA.26-6-A-j19-1.60.R|8503528-8503525-8503527-8503526-8503008-8503007-8503006-8503020-8503000-8503003-8503004                                                        |21:03-21:04-21:07-21:11-21:14-21:16-21:21-21:25-21:30-21:33-21:36                                          |\n",
      "|85:11:18681:001      |8503528-8503525-8503527-8503526-8503008-8503007-8503006-8503020-8503000-8503003                                                                |21:03-21:04-21:07-21:11-21:14-21:16-21:21-21:25-21:30-21:33                                                |384.TA.26-6-A-j19-1.61.R|8503528-8503525-8503527-8503526-8503008-8503007-8503006-8503020-8503000-8503003-8503004                                                        |21:03-21:04-21:07-21:11-21:14-21:16-21:21-21:25-21:30-21:33-21:36                                          |\n",
      "|85:11:18673:001      |8503528-8503525-8503527-8503526-8503008-8503007-8503006-8503020-8503000-8503003-8503004-8503100-8503141-8503101-8503102-8503111-8503103-8503104|19:03-19:04-19:07-19:11-19:14-19:16-19:21-19:25-19:30-19:33-19:36-19:38-19:40-19:42-19:44-19:45-19:50-19:53|161.TA.26-6-A-j19-1.34.R|8503528-8503525-8503527-8503526-8503008-8503007-8503006-8503020-8503000-8503003-8503004-8503100-8503141-8503101-8503102-8503111-8503103-8503104|19:03-19:04-19:07-19:11-19:14-19:16-19:21-19:25-19:30-19:33-19:36-19:38-19:40-19:42-19:44-19:45-19:50-19:53|\n",
      "|85:11:18673:001      |8503528-8503525-8503527-8503526-8503008-8503007-8503006-8503020-8503000-8503003-8503004-8503100-8503141-8503101-8503102-8503111-8503103-8503104|19:03-19:04-19:07-19:11-19:14-19:16-19:21-19:25-19:30-19:33-19:36-19:38-19:40-19:42-19:44-19:45-19:50-19:53|159.TA.26-6-A-j19-1.32.R|8503528-8503525-8503527-8503526-8503008-8503007-8503006-8503020-8503000-8503003-8503004-8503100-8503141-8503101-8503102-8503111-8503103-8503104|19:03-19:04-19:07-19:11-19:14-19:16-19:21-19:25-19:30-19:33-19:36-19:38-19:40-19:42-19:44-19:45-19:50-19:53|\n",
      "|85:11:18655:001      |8503528-8503525-8503527-8503526-8503008-8503007-8503006-8503020-8503000-8503003-8503004-8503100-8503141-8503101-8503102-8503111-8503103-8503104|14:33-14:34-14:37-14:41-14:44-14:46-14:51-14:55-15:00-15:03-15:06-15:08-15:10-15:12-15:14-15:15-15:20-15:23|119.TA.26-6-A-j19-1.34.R|8503528-8503525-8503527-8503526-8503008-8503007-8503006-8503020-8503000-8503003-8503004-8503100-8503141-8503101-8503102-8503111-8503103-8503104|14:33-14:34-14:37-14:41-14:44-14:46-14:51-14:55-15:00-15:03-15:06-15:08-15:10-15:12-15:14-15:15-15:20-15:23|\n",
      "|85:11:18655:001      |8503528-8503525-8503527-8503526-8503008-8503007-8503006-8503020-8503000-8503003-8503004-8503100-8503141-8503101-8503102-8503111-8503103-8503104|14:33-14:34-14:37-14:41-14:44-14:46-14:51-14:55-15:00-15:03-15:06-15:08-15:10-15:12-15:14-15:15-15:20-15:23|118.TA.26-6-A-j19-1.32.R|8503528-8503525-8503527-8503526-8503008-8503007-8503006-8503020-8503000-8503003-8503004-8503100-8503141-8503101-8503102-8503111-8503103-8503104|14:33-14:34-14:37-14:41-14:44-14:46-14:51-14:55-15:00-15:03-15:06-15:08-15:10-15:12-15:14-15:15-15:20-15:23|\n",
      "|85:11:18651:001      |8503528-8503525-8503527-8503526-8503008-8503007-8503006-8503020-8503000-8503003-8503004-8503100-8503141-8503101-8503102-8503111-8503103-8503104|13:33-13:34-13:37-13:41-13:44-13:46-13:51-13:55-14:00-14:03-14:06-14:08-14:10-14:12-14:14-14:15-14:20-14:23|112.TA.26-6-A-j19-1.32.R|8503528-8503525-8503527-8503526-8503008-8503007-8503006-8503020-8503000-8503003-8503004-8503100-8503141-8503101-8503102-8503111-8503103-8503104|13:33-13:34-13:37-13:41-13:44-13:46-13:51-13:55-14:00-14:03-14:06-14:08-14:10-14:12-14:14-14:15-14:20-14:23|\n",
      "|85:11:18651:001      |8503528-8503525-8503527-8503526-8503008-8503007-8503006-8503020-8503000-8503003-8503004-8503100-8503141-8503101-8503102-8503111-8503103-8503104|13:33-13:34-13:37-13:41-13:44-13:46-13:51-13:55-14:00-14:03-14:06-14:08-14:10-14:12-14:14-14:15-14:20-14:23|113.TA.26-6-A-j19-1.34.R|8503528-8503525-8503527-8503526-8503008-8503007-8503006-8503020-8503000-8503003-8503004-8503100-8503141-8503101-8503102-8503111-8503103-8503104|13:33-13:34-13:37-13:41-13:44-13:46-13:51-13:55-14:00-14:03-14:06-14:08-14:10-14:12-14:14-14:15-14:20-14:23|\n",
      "|85:11:18631:001      |8503528-8503525-8503527-8503526-8503008-8503007-8503006-8503020-8503000-8503003-8503004-8503100-8503141-8503101-8503102-8503111-8503103-8503104|08:33-08:34-08:37-08:41-08:44-08:46-08:51-08:55-09:00-09:03-09:06-09:08-09:10-09:12-09:14-09:15-09:20-09:23|77.TA.26-6-A-j19-1.32.R |8503528-8503525-8503527-8503526-8503008-8503007-8503006-8503020-8503000-8503003-8503004-8503100-8503141-8503101-8503102-8503111-8503103-8503104|08:33-08:34-08:37-08:41-08:44-08:46-08:51-08:55-09:00-09:03-09:06-09:08-09:10-09:12-09:14-09:15-09:20-09:23|\n",
      "+---------------------+-----------------------------------------------------------------------------------------------------------------------------------------------+-----------------------------------------------------------------------------------------------------------+------------------------+-----------------------------------------------------------------------------------------------------------------------------------------------+-----------------------------------------------------------------------------------------------------------+\n",
      "only showing top 10 rows"
     ]
    }
   ],
   "source": [
    "timematch.filter(\" LENGTH(sample_stop_ids) > 5  \")\\\n",
    ".filter(\"exactTime == true\")\\\n",
    ".select(*timematch.columns[:-3]).show(10,False)"
   ]
  },
  {
   "cell_type": "code",
   "execution_count": 15,
   "metadata": {},
   "outputs": [
    {
     "data": {
      "application/vnd.jupyter.widget-view+json": {
       "model_id": "",
       "version_major": 2,
       "version_minor": 0
      },
      "text/plain": [
       "FloatProgress(value=0.0, bar_style='info', description='Progress:', layout=Layout(height='25px', width='50%'),…"
      ]
     },
     "metadata": {},
     "output_type": "display_data"
    },
    {
     "name": "stdout",
     "output_type": "stream",
     "text": [
      "+---------------+-------------------------------+-----------------------+-------------------------+-----------------------------------------------------------------------------------------------+-----------------------------------------------------------------------+---------------+-----------------+\n",
      "|sbb_trip_id    |sbb_stop_ids                   |sbb_departures         |trips_trip_id            |trips_stop_ids                                                                                 |trips_departures                                                       |sample_stop_ids|sample_departures|\n",
      "+---------------+-------------------------------+-----------------------+-------------------------+-----------------------------------------------------------------------------------------------+-----------------------------------------------------------------------+---------------+-----------------+\n",
      "|85:11:14023:002|8503200-8503201-8503202-8503203|07:02-07:05-07:08-07:10|616.TA.26-8-A-j19-1.357.R|8503000-8503011-8503010-8503009-8503200-8503201-8503202-8503203-8503204                        |07:07-07:09-07:12-07:14-07:17-07:20-07:24-07:26-07:30                  |%03201-85032%  |07:0%            |\n",
      "|85:11:14023:002|8503200-8503201-8503202-8503203|07:02-07:05-07:08-07:10|496.TA.26-24-j19-1.240.H |8503016-8503006-8503015-8503000-8503011-8503010-8503009-8503200-8503201-8503202-8502209-8502208|07:04-07:09-07:11-07:21-07:24-07:27-07:29-07:32-07:35-07:38-07:40-07:45|%03201-85032%  |07:0%            |\n",
      "|85:11:14023:002|8503200-8503201-8503202-8503203|07:02-07:05-07:08-07:10|494.TA.26-24-j19-1.239.H |8503016-8503006-8503015-8503000-8503011-8503010-8503009-8503200-8503201-8503202-8502209-8502208|07:04-07:09-07:11-07:21-07:24-07:27-07:29-07:32-07:35-07:38-07:40-07:43|%03201-85032%  |07:0%            |\n",
      "|85:11:14023:002|8503200-8503201-8503202-8503203|07:02-07:05-07:08-07:10|174.TA.26-24-j19-1.119.H |8503016-8503006-8503015-8503000-8503011-8503010-8503009-8503200-8503201-8503202-8503203-8503204|07:04-07:09-07:11-07:21-07:24-07:27-07:29-07:32-07:35-07:38-07:40-07:44|%03201-85032%  |07:0%            |\n",
      "|85:11:14023:002|8503200-8503201-8503202-8503203|07:02-07:05-07:08-07:10|714.TA.26-24-j19-1.266.H |8503200-8503201-8503202-8502209-8502208                                                        |07:02-07:05-07:08-07:10-07:15                                          |%03201-85032%  |07:0%            |\n",
      "+---------------+-------------------------------+-----------------------+-------------------------+-----------------------------------------------------------------------------------------------+-----------------------------------------------------------------------+---------------+-----------------+\n",
      "only showing top 5 rows"
     ]
    }
   ],
   "source": [
    "matched_trips.filter(\"sample_stop_ids != '%%' AND LENGTH(sample_stop_ids) > 5  \").show(5,False)"
   ]
  },
  {
   "cell_type": "code",
   "execution_count": null,
   "metadata": {},
   "outputs": [],
   "source": [
    "print(\"OK\")"
   ]
  },
  {
   "cell_type": "code",
   "execution_count": null,
   "metadata": {},
   "outputs": [],
   "source": [
    "# match_trips(sbb_collected_stops,trips_collected_stops"
   ]
  },
  {
   "cell_type": "code",
   "execution_count": 67,
   "metadata": {},
   "outputs": [
    {
     "data": {
      "application/vnd.jupyter.widget-view+json": {
       "model_id": "",
       "version_major": 2,
       "version_minor": 0
      },
      "text/plain": [
       "FloatProgress(value=0.0, bar_style='info', description='Progress:', layout=Layout(height='25px', width='50%'),…"
      ]
     },
     "metadata": {},
     "output_type": "display_data"
    }
   ],
   "source": [
    "sbb_p1 = collect_stopss(sbb_oneday_english_h.withColumn(\"departure_time\",F.from_unixtime(F.unix_timestamp(F.col(\"departure_time\").cast(\"timestamp\"))+60,\"HH:mm\")))\n",
    "sbb_p2 = collect_stopss(sbb_oneday_english_h.withColumn(\"departure_time\",F.from_unixtime(F.unix_timestamp(F.col(\"departure_time\").cast(\"timestamp\"))+2*60,\"HH:mm\")))\n",
    "sbb_p3 = collect_stopss(sbb_oneday_english_h.withColumn(\"departure_time\",F.from_unixtime(F.unix_timestamp(F.col(\"departure_time\").cast(\"timestamp\"))+3*60,\"HH:mm\")))\n",
    "sbb_m1 = collect_stopss(sbb_oneday_english_h.withColumn(\"departure_time\",F.from_unixtime(F.unix_timestamp(F.col(\"departure_time\").cast(\"timestamp\"))-60,\"HH:mm\")))\n",
    "sbb_m2 = collect_stopss(sbb_oneday_english_h.withColumn(\"departure_time\",F.from_unixtime(F.unix_timestamp(F.col(\"departure_time\").cast(\"timestamp\"))-2*60,\"HH:mm\")))\n",
    "sbb_m3 = collect_stopss(sbb_oneday_english_h.withColumn(\"departure_time\",F.from_unixtime(F.unix_timestamp(F.col(\"departure_time\").cast(\"timestamp\"))-3*60,\"HH:mm\")))"
   ]
  },
  {
   "cell_type": "code",
   "execution_count": 68,
   "metadata": {},
   "outputs": [
    {
     "data": {
      "application/vnd.jupyter.widget-view+json": {
       "model_id": "",
       "version_major": 2,
       "version_minor": 0
      },
      "text/plain": [
       "FloatProgress(value=0.0, bar_style='info', description='Progress:', layout=Layout(height='25px', width='50%'),…"
      ]
     },
     "metadata": {},
     "output_type": "display_data"
    }
   ],
   "source": [
    "matched_trips_p1 = match_trips(sbb_p1,trips_collected_stops)\n",
    "matched_trips_p2 = match_trips(sbb_p2,trips_collected_stops)\n",
    "matched_trips_p3 = match_trips(sbb_p3,trips_collected_stops)\n",
    "matched_trips_m1 = match_trips(sbb_m1,trips_collected_stops)\n",
    "matched_trips_m2 = match_trips(sbb_m2,trips_collected_stops)\n",
    "matched_trips_m3 = match_trips(sbb_m3,trips_collected_stops)\n",
    "matcheds  =[matched_trips_p1,matched_trips_p2,matched_trips_p3,matched_trips_m1,matched_trips_m2,matched_trips_m3]"
   ]
  },
  {
   "cell_type": "code",
   "execution_count": 69,
   "metadata": {},
   "outputs": [
    {
     "data": {
      "application/vnd.jupyter.widget-view+json": {
       "model_id": "",
       "version_major": 2,
       "version_minor": 0
      },
      "text/plain": [
       "FloatProgress(value=0.0, bar_style='info', description='Progress:', layout=Layout(height='25px', width='50%'),…"
      ]
     },
     "metadata": {},
     "output_type": "display_data"
    },
    {
     "name": "stdout",
     "output_type": "stream",
     "text": [
      "DataFrame[trip_id: string, stop_ids: string, departures: string, trip_id: string, stop_ids: string, departures: string]\n",
      "DataFrame[trip_id: string, stop_ids: string, departures: string, trip_id: string, stop_ids: string, departures: string]\n",
      "DataFrame[trip_id: string, stop_ids: string, departures: string, trip_id: string, stop_ids: string, departures: string]\n",
      "DataFrame[trip_id: string, stop_ids: string, departures: string, trip_id: string, stop_ids: string, departures: string]\n",
      "DataFrame[trip_id: string, stop_ids: string, departures: string, trip_id: string, stop_ids: string, departures: string]\n",
      "DataFrame[trip_id: string, stop_ids: string, departures: string, trip_id: string, stop_ids: string, departures: string]"
     ]
    }
   ],
   "source": [
    "for matched in matcheds:\n",
    "    matched.cache()"
   ]
  },
  {
   "cell_type": "code",
   "execution_count": 70,
   "metadata": {},
   "outputs": [
    {
     "data": {
      "application/vnd.jupyter.widget-view+json": {
       "model_id": "",
       "version_major": 2,
       "version_minor": 0
      },
      "text/plain": [
       "FloatProgress(value=0.0, bar_style='info', description='Progress:', layout=Layout(height='25px', width='50%'),…"
      ]
     },
     "metadata": {},
     "output_type": "display_data"
    },
    {
     "name": "stdout",
     "output_type": "stream",
     "text": [
      "16\n",
      "31\n",
      "32\n",
      "39\n",
      "8\n",
      "10"
     ]
    }
   ],
   "source": [
    "for matched in matcheds:\n",
    "    print(matched.count())"
   ]
  },
  {
   "cell_type": "code",
   "execution_count": 28,
   "metadata": {},
   "outputs": [
    {
     "data": {
      "application/vnd.jupyter.widget-view+json": {
       "model_id": "",
       "version_major": 2,
       "version_minor": 0
      },
      "text/plain": [
       "FloatProgress(value=0.0, bar_style='info', description='Progress:', layout=Layout(height='25px', width='50%'),…"
      ]
     },
     "metadata": {},
     "output_type": "display_data"
    },
    {
     "name": "stdout",
     "output_type": "stream",
     "text": [
      "DataFrame[trip_id: string, stop_ids: string, departures: string, trip_id: string, stop_ids: string, departures: string]"
     ]
    }
   ],
   "source": [
    "matched_trips.cache()"
   ]
  },
  {
   "cell_type": "code",
   "execution_count": 29,
   "metadata": {},
   "outputs": [
    {
     "data": {
      "application/vnd.jupyter.widget-view+json": {
       "model_id": "",
       "version_major": 2,
       "version_minor": 0
      },
      "text/plain": [
       "FloatProgress(value=0.0, bar_style='info', description='Progress:', layout=Layout(height='25px', width='50%'),…"
      ]
     },
     "metadata": {},
     "output_type": "display_data"
    },
    {
     "name": "stdout",
     "output_type": "stream",
     "text": [
      "1141"
     ]
    }
   ],
   "source": [
    "matched_trips.count()"
   ]
  },
  {
   "cell_type": "code",
   "execution_count": 50,
   "metadata": {},
   "outputs": [
    {
     "data": {
      "application/vnd.jupyter.widget-view+json": {
       "model_id": "",
       "version_major": 2,
       "version_minor": 0
      },
      "text/plain": [
       "FloatProgress(value=0.0, bar_style='info', description='Progress:', layout=Layout(height='25px', width='50%'),…"
      ]
     },
     "metadata": {},
     "output_type": "display_data"
    },
    {
     "name": "stdout",
     "output_type": "stream",
     "text": [
      "27752"
     ]
    }
   ],
   "source": [
    "trips_collected_stops.count()"
   ]
  },
  {
   "cell_type": "code",
   "execution_count": 42,
   "metadata": {},
   "outputs": [
    {
     "data": {
      "application/vnd.jupyter.widget-view+json": {
       "model_id": "",
       "version_major": 2,
       "version_minor": 0
      },
      "text/plain": [
       "FloatProgress(value=0.0, bar_style='info', description='Progress:', layout=Layout(height='25px', width='50%'),…"
      ]
     },
     "metadata": {},
     "output_type": "display_data"
    },
    {
     "name": "stdout",
     "output_type": "stream",
     "text": [
      "+--------------+-------------------------------+-----------------------+----------------------+-------------------------------+-----------------------+\n",
      "|trip_id       |stop_ids                       |departures             |trip_id               |stop_ids                       |departures             |\n",
      "+--------------+-------------------------------+-----------------------+----------------------+-------------------------------+-----------------------+\n",
      "|85:886:45603-0|8590314-8594307-8594310-8594304|19:07-19:09-19:10-19:11|55.TA.1-11-B-j19-1.2.H|8590314-8594307-8594310-8594304|19:07-19:09-19:10-19:11|\n",
      "|85:886:45495-0|8590314-8594307-8594310-8594304|10:07-10:09-10:10-10:11|37.TA.1-11-B-j19-1.2.H|8590314-8594307-8594310-8594304|10:07-10:09-10:10-10:11|\n",
      "|85:886:45555-0|8590314-8594307-8594310-8594304|15:07-15:09-15:10-15:11|47.TA.1-11-B-j19-1.2.H|8590314-8594307-8594310-8594304|15:07-15:09-15:10-15:11|\n",
      "|85:886:45591-0|8590314-8594307-8594310-8594304|18:07-18:09-18:10-18:11|53.TA.1-11-B-j19-1.2.H|8590314-8594307-8594310-8594304|18:07-18:09-18:10-18:11|\n",
      "|85:886:45525-0|8590314-8594307-8594310-8594304|12:37-12:39-12:40-12:41|42.TA.1-11-B-j19-1.2.H|8590314-8594307-8594310-8594304|12:37-12:39-12:40-12:41|\n",
      "|85:886:45573-0|8590314-8594307-8594310-8594304|16:37-16:39-16:40-16:41|50.TA.1-11-B-j19-1.2.H|8590314-8594307-8594310-8594304|16:37-16:39-16:40-16:41|\n",
      "|85:886:45465-0|8590314-8594307-8594310-8594304|07:37-07:39-07:40-07:41|32.TA.1-11-B-j19-1.2.H|8590314-8594307-8594310-8594304|07:37-07:39-07:40-07:41|\n",
      "|85:886:45543-0|8590314-8594307-8594310-8594304|14:07-14:09-14:10-14:11|45.TA.1-11-B-j19-1.2.H|8590314-8594307-8594310-8594304|14:07-14:09-14:10-14:11|\n",
      "|85:886:45597-0|8590314-8594307-8594310-8594304|18:37-18:39-18:40-18:41|54.TA.1-11-B-j19-1.2.H|8590314-8594307-8594310-8594304|18:37-18:39-18:40-18:41|\n",
      "|85:886:45507-0|8590314-8594307-8594310-8594304|11:07-11:09-11:10-11:11|39.TA.1-11-B-j19-1.2.H|8590314-8594307-8594310-8594304|11:07-11:09-11:10-11:11|\n",
      "+--------------+-------------------------------+-----------------------+----------------------+-------------------------------+-----------------------+\n",
      "only showing top 10 rows"
     ]
    }
   ],
   "source": [
    "matched_trips.filter(trips_collected_stops.stop_ids.like(\"8590314-8594307-8594310-8594304\")).show(10,False)"
   ]
  },
  {
   "cell_type": "code",
   "execution_count": 91,
   "metadata": {},
   "outputs": [
    {
     "data": {
      "application/vnd.jupyter.widget-view+json": {
       "model_id": "",
       "version_major": 2,
       "version_minor": 0
      },
      "text/plain": [
       "FloatProgress(value=0.0, bar_style='info', description='Progress:', layout=Layout(height='25px', width='50%'),…"
      ]
     },
     "metadata": {},
     "output_type": "display_data"
    }
   ],
   "source": [
    "stops = \"8591264-8591181-8591349-8591343-8591420-8591393-8591276-8591406-8591244-8591255-8591229-8591362-8591433-8591173-8591123-8591220-8591239-8576193-8591105-8591093-8591299-8591369-8591381-8591427\"\n",
    "stops_like = stops.replace(\"-\",\"%\")"
   ]
  },
  {
   "cell_type": "code",
   "execution_count": null,
   "metadata": {},
   "outputs": [],
   "source": []
  },
  {
   "cell_type": "code",
   "execution_count": 92,
   "metadata": {},
   "outputs": [
    {
     "data": {
      "application/vnd.jupyter.widget-view+json": {
       "model_id": "",
       "version_major": 2,
       "version_minor": 0
      },
      "text/plain": [
       "FloatProgress(value=0.0, bar_style='info', description='Progress:', layout=Layout(height='25px', width='50%'),…"
      ]
     },
     "metadata": {},
     "output_type": "display_data"
    }
   ],
   "source": [
    "stops_like = \"%\"+stops_like+\"%\""
   ]
  },
  {
   "cell_type": "code",
   "execution_count": 97,
   "metadata": {},
   "outputs": [
    {
     "data": {
      "application/vnd.jupyter.widget-view+json": {
       "model_id": "",
       "version_major": 2,
       "version_minor": 0
      },
      "text/plain": [
       "FloatProgress(value=0.0, bar_style='info', description='Progress:', layout=Layout(height='25px', width='50%'),…"
      ]
     },
     "metadata": {},
     "output_type": "display_data"
    },
    {
     "name": "stdout",
     "output_type": "stream",
     "text": [
      "+---------------------+-----------------------------------------------------------------------------------------------------------------------------------------------------------------------------------------------------------------------------------------------+-----------------------------------------------------------------------------------------------------------------------------------------------------------------------------------+\n",
      "|trip_id              |stop_ids                                                                                                                                                                                                                                       |departures                                                                                                                                                                         |\n",
      "+---------------------+-----------------------------------------------------------------------------------------------------------------------------------------------------------------------------------------------------------------------------------------------+-----------------------------------------------------------------------------------------------------------------------------------------------------------------------------------+\n",
      "|85:3849:87863-02009-1|8587652-8591263-8591264-8591181-8591349-8591343-8591420-8591393-8591276-8591406-8591244-8591255-8591229-8591362-8591433-8591173-8591123-8591220-8591239-8576193-8591105-8591093-8591299-8591369-8591381-8591427-8573710-8591341-8502572-8591390|12:15-12:17-12:18-12:19-12:20-12:22-12:23-12:24-12:26-12:28-12:29-12:30-12:31-12:32-12:33-12:34-12:36-12:37-12:39-12:41-12:43-12:44-12:46-12:47-12:50-12:52-12:53-12:55-12:56-12:57|\n",
      "+---------------------+-----------------------------------------------------------------------------------------------------------------------------------------------------------------------------------------------------------------------------------------------+-----------------------------------------------------------------------------------------------------------------------------------------------------------------------------------+"
     ]
    }
   ],
   "source": [
    "sbb_collected_stops.filter(F.col(\"stop_ids\").like(stops_like)).filter(F.col(\"departures\").like(\"12:1%\")).show(5,False)"
   ]
  },
  {
   "cell_type": "code",
   "execution_count": 74,
   "metadata": {},
   "outputs": [
    {
     "data": {
      "application/vnd.jupyter.widget-view+json": {
       "model_id": "",
       "version_major": 2,
       "version_minor": 0
      },
      "text/plain": [
       "FloatProgress(value=0.0, bar_style='info', description='Progress:', layout=Layout(height='25px', width='50%'),…"
      ]
     },
     "metadata": {},
     "output_type": "display_data"
    },
    {
     "name": "stdout",
     "output_type": "stream",
     "text": [
      "+-------------------------+---------------------------------------------------------------------------------------------------------------------------------------------------------------------------------------------------------------------------------------------------------------+-----------------------------------------------------------------------------------------------------------------------------------------------------------------------------------------------+\n",
      "|trip_id                  |stop_ids                                                                                                                                                                                                                                                       |departures                                                                                                                                                                                     |\n",
      "+-------------------------+---------------------------------------------------------------------------------------------------------------------------------------------------------------------------------------------------------------------------------------------------------------+-----------------------------------------------------------------------------------------------------------------------------------------------------------------------------------------------+\n",
      "|3192.TA.26-9-B-j19-1.25.H|8591194-8587652-8591263-8591264-8591181-8591349-8591343-8591420-8591393-8591276-8591406-8591244-8591255-8591229-8591362-8591433-8591173-8591123-8591220-8591239-8576193-8591105-8591093-8591299-8591369-8591381-8591427-8573710-8591341-8502572-8591390-8591190|12:14-12:15-12:17-12:18-12:19-12:20-12:22-12:23-12:24-12:26-12:28-12:29-12:30-12:31-12:32-12:33-12:34-12:36-12:37-12:39-12:41-12:43-12:44-12:46-12:47-12:50-12:52-12:53-12:55-12:56-12:57-12:58|\n",
      "+-------------------------+---------------------------------------------------------------------------------------------------------------------------------------------------------------------------------------------------------------------------------------------------------------+-----------------------------------------------------------------------------------------------------------------------------------------------------------------------------------------------+"
     ]
    }
   ],
   "source": [
    "trips_collected_stops.filter(\"trip_id == '3192.TA.26-9-B-j19-1.25.H'\").show(10,False)"
   ]
  },
  {
   "cell_type": "code",
   "execution_count": 98,
   "metadata": {},
   "outputs": [
    {
     "data": {
      "application/vnd.jupyter.widget-view+json": {
       "model_id": "",
       "version_major": 2,
       "version_minor": 0
      },
      "text/plain": [
       "FloatProgress(value=0.0, bar_style='info', description='Progress:', layout=Layout(height='25px', width='50%'),…"
      ]
     },
     "metadata": {},
     "output_type": "display_data"
    }
   ],
   "source": [
    "x = \"8587652-8591263-8591264-8591181-8591349-8591343-8591420-8591393-8591276-8591406-8591244-8591255-8591229-8591362-8591433-8591173-8591123-8591220-8591239-8576193-8591105-8591093-8591299-8591369-8591381-8591427-8573710-8591341-8502572-8591390\""
   ]
  },
  {
   "cell_type": "code",
   "execution_count": 99,
   "metadata": {},
   "outputs": [
    {
     "data": {
      "application/vnd.jupyter.widget-view+json": {
       "model_id": "",
       "version_major": 2,
       "version_minor": 0
      },
      "text/plain": [
       "FloatProgress(value=0.0, bar_style='info', description='Progress:', layout=Layout(height='25px', width='50%'),…"
      ]
     },
     "metadata": {},
     "output_type": "display_data"
    }
   ],
   "source": [
    "y = \"8587652-8591263-8591264-8591181-8591349-8591343-8591420-8591393-8591276-8591406-8591244-8591255-8591229-8591362-8591433-8591173-8591123-8591220-8591239-8576193-8591105-8591093-8591299-8591369-8591381-8591427-8573710-8591341-8502572-8591390\""
   ]
  },
  {
   "cell_type": "code",
   "execution_count": 100,
   "metadata": {},
   "outputs": [
    {
     "data": {
      "application/vnd.jupyter.widget-view+json": {
       "model_id": "",
       "version_major": 2,
       "version_minor": 0
      },
      "text/plain": [
       "FloatProgress(value=0.0, bar_style='info', description='Progress:', layout=Layout(height='25px', width='50%'),…"
      ]
     },
     "metadata": {},
     "output_type": "display_data"
    },
    {
     "name": "stdout",
     "output_type": "stream",
     "text": [
      "True"
     ]
    }
   ],
   "source": [
    "x == y"
   ]
  },
  {
   "cell_type": "code",
   "execution_count": 72,
   "metadata": {},
   "outputs": [
    {
     "data": {
      "application/vnd.jupyter.widget-view+json": {
       "model_id": "",
       "version_major": 2,
       "version_minor": 0
      },
      "text/plain": [
       "FloatProgress(value=0.0, bar_style='info', description='Progress:', layout=Layout(height='25px', width='50%'),…"
      ]
     },
     "metadata": {},
     "output_type": "display_data"
    },
    {
     "name": "stdout",
     "output_type": "stream",
     "text": [
      "+-------+--------+----------+-------+--------+----------+\n",
      "|trip_id|stop_ids|departures|trip_id|stop_ids|departures|\n",
      "+-------+--------+----------+-------+--------+----------+\n",
      "+-------+--------+----------+-------+--------+----------+"
     ]
    }
   ],
   "source": [
    "\n",
    "matched_trips.filter(trips_collected_stops.trip_id == \"3192.TA.26-9-B-j19-1.25.H\").show()"
   ]
  },
  {
   "cell_type": "code",
   "execution_count": null,
   "metadata": {},
   "outputs": [],
   "source": [
    "matched_trips.drop(trips_collected_stops.stop_ids)"
   ]
  },
  {
   "cell_type": "code",
   "execution_count": 71,
   "metadata": {},
   "outputs": [
    {
     "data": {
      "application/vnd.jupyter.widget-view+json": {
       "model_id": "",
       "version_major": 2,
       "version_minor": 0
      },
      "text/plain": [
       "FloatProgress(value=0.0, bar_style='info', description='Progress:', layout=Layout(height='25px', width='50%'),…"
      ]
     },
     "metadata": {},
     "output_type": "display_data"
    },
    {
     "name": "stdout",
     "output_type": "stream",
     "text": [
      "+---------------------------------------------------------------------------------------------------------------------------------------------------------------+\n",
      "|stop_ids                                                                                                                                                       |\n",
      "+---------------------------------------------------------------------------------------------------------------------------------------------------------------+\n",
      "|8503512-8503509-8503001-8503020-8503000-8503003-8503147                                                                                                        |\n",
      "|8503313-8503312-8503311-8503310-8503006-8503020-8503000                                                                                                        |\n",
      "|8503129-8503306-8503305                                                                                                                                        |\n",
      "|8594304-8594310-8594307-8590314                                                                                                                                |\n",
      "|8576172-8576174-8506960-8576176                                                                                                                                |\n",
      "|8588318-8588319-8590539-8590540-8590545-8590544-8590890-8587651-8587652-8591263                                                                                |\n",
      "|8503000-8503020-8503006-8503310-8503311-8503312-8503313                                                                                                        |\n",
      "|8503508-8503512-8503509-8503001-8503020                                                                                                                        |\n",
      "|8503508-8503512-8503509-8503001-8503020-8503000-8503003-8503147                                                                                                |\n",
      "|8503006-8503020-8503000-8503003-8503104                                                                                                                        |\n",
      "|8573205                                                                                                                                                        |\n",
      "|8503307-8503305                                                                                                                                                |\n",
      "|8503304-8503305-8503307-8503308-8503309-8503340-8503006-8503020-8503000-8503003-8503104                                                                        |\n",
      "|8503147-8503003-8503000-8503020-8503001-8503509-8503512                                                                                                        |\n",
      "|8590396-8590278-8590277-8590271-8590279                                                                                                                        |\n",
      "|8503528-8503525-8503527-8503526-8503008-8503007-8503006-8503020                                                                                                |\n",
      "|8503305-8503306-8503129-8503006-8503000-8503011-8503010-8503009-8503200-8503201-8503202-8503203-8503204                                                        |\n",
      "|8503303-8503305-8503306-8503129-8503006-8503000-8503001-8503508                                                                                                |\n",
      "|8503204-8503203-8503202-8503201-8503200-8503009-8503010-8503011-8503000-8503006-8503129-8503306-8503305                                                        |\n",
      "|8503508-8503001-8503000-8503006-8503129-8503306-8503305-8503303                                                                                                |\n",
      "|8502208-8502209-8503202-8503201-8503200-8503009-8503010-8503011-8503000-8503015-8503006-8503016                                                                |\n",
      "|8503003-8503004-8503100-8503141-8503101-8503102-8503111-8503103-8503104                                                                                        |\n",
      "|8503381-8503376                                                                                                                                                |\n",
      "|8502221-8502229-8502220-8503001-8503020-8503000-8503003-8503125                                                                                                |\n",
      "|8502223-8502224                                                                                                                                                |\n",
      "|8590269-8590276-8590273-8590397-8590275-8590279-8591891-8590270-8502508-8590268-8590218-8590222-8590535-8587020-8590529-8590513-8590517-8590512-8590839-8590840|\n",
      "|8590279-8590271-8590277-8590278-8590396                                                                                                                        |\n",
      "|8503020-8503000-8503003-8503125                                                                                                                                |\n",
      "|8576176-8506960-8576174                                                                                                                                        |\n",
      "|8502208-8502209-8503202-8503201-8503200-8503009-8503010-8503011-8503000-8503015-8503006-8503016-8503307-8503305                                                |\n",
      "|8503125-8503003-8503000-8503020-8503006                                                                                                                        |\n",
      "|8503020-8503001-8503509-8503512-8503508                                                                                                                        |\n",
      "|8503304-8503305-8503307-8503308-8503309-8503340                                                                                                                |\n",
      "|8503382                                                                                                                                                        |\n",
      "|8503000-8503003-8503147                                                                                                                                        |\n",
      "|8503310-8503006-8503020-8503000-8503003-8503147-8503306-8503305-8503303                                                                                        |\n",
      "|8503000-8503006-8503016                                                                                                                                        |\n",
      "|8503125-8503003-8503000-8503020-8503006-8503310-8503311-8503312-8503314-8503315-8503316                                                                        |\n",
      "|8503147-8503003-8503000                                                                                                                                        |\n",
      "|8503306-8503305-8503303                                                                                                                                        |\n",
      "+---------------------------------------------------------------------------------------------------------------------------------------------------------------+\n",
      "only showing top 40 rows"
     ]
    }
   ],
   "source": [
    "matched_trips.select(trips_collected_stops.stop_ids).distinct().show(40,False)"
   ]
  },
  {
   "cell_type": "code",
   "execution_count": 134,
   "metadata": {},
   "outputs": [
    {
     "data": {
      "application/vnd.jupyter.widget-view+json": {
       "model_id": "",
       "version_major": 2,
       "version_minor": 0
      },
      "text/plain": [
       "FloatProgress(value=0.0, bar_style='info', description='Progress:', layout=Layout(height='25px', width='50%'),…"
      ]
     },
     "metadata": {},
     "output_type": "display_data"
    },
    {
     "name": "stdout",
     "output_type": "stream",
     "text": [
      "0"
     ]
    }
   ],
   "source": [
    "matched_trips.groupBy(sbb_collected_stops.trip_id,trips_collected_stops.trip_id).count().filter(\"count >1\").count()"
   ]
  },
  {
   "cell_type": "markdown",
   "metadata": {},
   "source": [
    "### Number of unique trip_ids"
   ]
  },
  {
   "cell_type": "code",
   "execution_count": 130,
   "metadata": {},
   "outputs": [
    {
     "data": {
      "application/vnd.jupyter.widget-view+json": {
       "model_id": "",
       "version_major": 2,
       "version_minor": 0
      },
      "text/plain": [
       "FloatProgress(value=0.0, bar_style='info', description='Progress:', layout=Layout(height='25px', width='50%'),…"
      ]
     },
     "metadata": {},
     "output_type": "display_data"
    },
    {
     "name": "stdout",
     "output_type": "stream",
     "text": [
      "24318"
     ]
    }
   ],
   "source": [
    "sbb_collected_stops.count() #HW1 data unique trips on date 14.05.2019"
   ]
  },
  {
   "cell_type": "code",
   "execution_count": 131,
   "metadata": {},
   "outputs": [
    {
     "data": {
      "application/vnd.jupyter.widget-view+json": {
       "model_id": "",
       "version_major": 2,
       "version_minor": 0
      },
      "text/plain": [
       "FloatProgress(value=0.0, bar_style='info', description='Progress:', layout=Layout(height='25px', width='50%'),…"
      ]
     },
     "metadata": {},
     "output_type": "display_data"
    },
    {
     "name": "stdout",
     "output_type": "stream",
     "text": [
      "27752"
     ]
    }
   ],
   "source": [
    "trips_collected_stops.count()"
   ]
  },
  {
   "cell_type": "code",
   "execution_count": 132,
   "metadata": {},
   "outputs": [
    {
     "data": {
      "application/vnd.jupyter.widget-view+json": {
       "model_id": "",
       "version_major": 2,
       "version_minor": 0
      },
      "text/plain": [
       "FloatProgress(value=0.0, bar_style='info', description='Progress:', layout=Layout(height='25px', width='50%'),…"
      ]
     },
     "metadata": {},
     "output_type": "display_data"
    },
    {
     "name": "stdout",
     "output_type": "stream",
     "text": [
      "520"
     ]
    }
   ],
   "source": [
    "matched_trips.count()"
   ]
  },
  {
   "cell_type": "code",
   "execution_count": null,
   "metadata": {},
   "outputs": [
    {
     "data": {
      "application/vnd.jupyter.widget-view+json": {
       "model_id": "6032cc8315da460980879de19dd4adcd",
       "version_major": 2,
       "version_minor": 0
      },
      "text/plain": [
       "FloatProgress(value=0.0, bar_style='info', description='Progress:', layout=Layout(height='25px', width='50%'),…"
      ]
     },
     "metadata": {},
     "output_type": "display_data"
    }
   ],
   "source": [
    "sbb_oneday_english.select(\"trip_id\").distinct().count()"
   ]
  },
  {
   "cell_type": "code",
   "execution_count": 114,
   "metadata": {},
   "outputs": [
    {
     "data": {
      "application/vnd.jupyter.widget-view+json": {
       "model_id": "",
       "version_major": 2,
       "version_minor": 0
      },
      "text/plain": [
       "FloatProgress(value=0.0, bar_style='info', description='Progress:', layout=Layout(height='25px', width='50%'),…"
      ]
     },
     "metadata": {},
     "output_type": "display_data"
    },
    {
     "name": "stdout",
     "output_type": "stream",
     "text": [
      "[Row(trip_id=u'85:801:107754-01504-1', stop_ids=u'8573237-8573236-8573263-8573262-8573261-8503871-8503782-8573260', departures=u'15:31-15:33-15:35-15:36-15:37-15:40-15:42-15:43', trip_id=u'331.TA.26-525-j19-1.4.R', stop_ids=u'8573237-8573236-8573263-8573262-8573261-8503871-8503782-8573260', departures=u'15:31-15:33-15:35-15:36-15:37-15:40-15:42-15:43'), Row(trip_id=u'85:801:107754-01504-1', stop_ids=u'8573237-8573236-8573263-8573262-8573261-8503871-8503782-8573260', departures=u'15:31-15:33-15:35-15:36-15:37-15:40-15:42-15:43', trip_id=u'96.TA.26-525-j19-1.3.R', stop_ids=u'8573237-8573236-8573263-8573262-8573261-8503871-8503782-8573260', departures=u'15:31-15:33-15:35-15:36-15:37-15:40-15:42-15:43'), Row(trip_id=u'85:801:107754-01504-1', stop_ids=u'8573237-8573236-8573263-8573262-8573261-8503871-8503782-8573260', departures=u'15:31-15:33-15:35-15:36-15:37-15:40-15:42-15:43', trip_id=u'220.TA.26-525-j19-1.4.R', stop_ids=u'8573237-8573236-8573263-8573262-8573261-8503871-8503782-8573260', departures=u'15:31-15:33-15:35-15:36-15:37-15:40-15:42-15:43')]"
     ]
    }
   ],
   "source": [
    "matched_trips.take(3)"
   ]
  },
  {
   "cell_type": "code",
   "execution_count": 119,
   "metadata": {},
   "outputs": [
    {
     "data": {
      "application/vnd.jupyter.widget-view+json": {
       "model_id": "",
       "version_major": 2,
       "version_minor": 0
      },
      "text/plain": [
       "FloatProgress(value=0.0, bar_style='info', description='Progress:', layout=Layout(height='25px', width='50%'),…"
      ]
     },
     "metadata": {},
     "output_type": "display_data"
    }
   ],
   "source": [
    "\n"
   ]
  },
  {
   "cell_type": "code",
   "execution_count": null,
   "metadata": {},
   "outputs": [],
   "source": []
  },
  {
   "cell_type": "code",
   "execution_count": null,
   "metadata": {},
   "outputs": [],
   "source": []
  },
  {
   "cell_type": "code",
   "execution_count": null,
   "metadata": {},
   "outputs": [],
   "source": []
  },
  {
   "cell_type": "code",
   "execution_count": null,
   "metadata": {},
   "outputs": [],
   "source": []
  },
  {
   "cell_type": "code",
   "execution_count": null,
   "metadata": {},
   "outputs": [],
   "source": []
  },
  {
   "cell_type": "code",
   "execution_count": 4,
   "metadata": {},
   "outputs": [
    {
     "data": {
      "application/vnd.jupyter.widget-view+json": {
       "model_id": "",
       "version_major": 2,
       "version_minor": 0
      },
      "text/plain": [
       "FloatProgress(value=0.0, bar_style='info', description='Progress:', layout=Layout(height='25px', width='50%'),…"
      ]
     },
     "metadata": {},
     "output_type": "display_data"
    }
   ],
   "source": [
    "stops_joined_df = spark.read.parquet(\"user/boecuego/stops_joined_df.parquet\")"
   ]
  },
  {
   "cell_type": "code",
   "execution_count": 5,
   "metadata": {},
   "outputs": [
    {
     "data": {
      "application/vnd.jupyter.widget-view+json": {
       "model_id": "",
       "version_major": 2,
       "version_minor": 0
      },
      "text/plain": [
       "FloatProgress(value=0.0, bar_style='info', description='Progress:', layout=Layout(height='25px', width='50%'),…"
      ]
     },
     "metadata": {},
     "output_type": "display_data"
    },
    {
     "name": "stdout",
     "output_type": "stream",
     "text": [
      "+--------------------+------------+--------------+---------------+-------------+------------------+----------------+----------------+-------------+--------------+\n",
      "|             trip_id|arrival_time|departure_time|        stop_id|stop_sequence|         stop_name|        stop_lat|        stop_lon|location_type|parent_station|\n",
      "+--------------------+------------+--------------+---------------+-------------+------------------+----------------+----------------+-------------+--------------+\n",
      "|5.TA.1-1-A-j19-1.3.H|    02:42:00|      02:42:00|    8503305:0:3|            2|        Effretikon|  47.42593043029|8.68666388288076|             |      8503305P|\n",
      "|5.TA.1-1-A-j19-1.3.H|    02:46:00|      02:46:00|    8503306:0:3|            3|         Dietlikon|47.4203145327083|8.61925430395105|             |      8503306P|\n",
      "|5.TA.1-1-A-j19-1.3.H|    02:50:00|      02:50:00|    8503147:0:1|            4|         Stettbach| 47.397334167601|8.59613166853459|             |      8503147P|\n",
      "|5.TA.1-1-A-j19-1.3.H|    02:55:00|      02:55:00|    8503003:0:1|            5|Zürich Stadelhofen|47.3667936853425|8.54846705955257|             |      8503003P|\n",
      "|5.TA.1-1-A-j19-1.3.H|    02:58:00|      03:00:00|8503000:0:41/42|            6|         Zürich HB|47.3782370338962|8.54019357578468|             |      8503000P|\n",
      "|5.TA.1-1-A-j19-1.3.H|    03:02:00|      03:02:00|    8503020:0:4|            7| Zürich Hardbrücke|47.3852563388026| 8.5171068729796|             |      8503020P|\n",
      "|5.TA.1-1-A-j19-1.3.H|    03:05:00|      03:06:00|    8503001:0:2|            8| Zürich Altstetten|47.3917881971539|8.48893570566569|             |      8503001P|\n",
      "|5.TA.1-1-A-j19-1.3.H|    03:08:00|      03:08:00|    8503509:0:3|            9|         Schlieren|47.3992374198535|8.44722692701821|             |      8503509P|\n",
      "|5.TA.1-1-A-j19-1.3.H|    03:10:00|      03:10:00|    8503512:0:1|           10|       Glanzenberg|47.3989333905613|8.42042119893635|             |      8503512P|\n",
      "|5.TA.1-1-A-j19-1.3.H|    03:14:00|      03:15:00|    8503508:0:3|           11|          Dietikon| 47.405840503211|8.40497017604735|             |      8503508P|\n",
      "+--------------------+------------+--------------+---------------+-------------+------------------+----------------+----------------+-------------+--------------+\n",
      "only showing top 10 rows"
     ]
    }
   ],
   "source": [
    "stops_joined_df.show(10)"
   ]
  },
  {
   "cell_type": "code",
   "execution_count": 6,
   "metadata": {},
   "outputs": [
    {
     "data": {
      "application/vnd.jupyter.widget-view+json": {
       "model_id": "",
       "version_major": 2,
       "version_minor": 0
      },
      "text/plain": [
       "FloatProgress(value=0.0, bar_style='info', description='Progress:', layout=Layout(height='25px', width='50%'),…"
      ]
     },
     "metadata": {},
     "output_type": "display_data"
    }
   ],
   "source": [
    "df_grouped = stops_joined_df.groupBy(\"trip_id\").agg(F.collect_list(\"stop_id\").alias(\"stop_ids\"),F.collect_list(\"stop_sequence\").alias(\"stop_sequences\"),\\\n",
    "                                      F.collect_list(\"arrival_time\").alias(\"arrival_times\"),\\\n",
    "                                      F.collect_list(\"departure_time\").alias(\"departure_times\"),\\\n",
    "                                      )                                    "
   ]
  },
  {
   "cell_type": "code",
   "execution_count": 7,
   "metadata": {},
   "outputs": [
    {
     "data": {
      "application/vnd.jupyter.widget-view+json": {
       "model_id": "",
       "version_major": 2,
       "version_minor": 0
      },
      "text/plain": [
       "FloatProgress(value=0.0, bar_style='info', description='Progress:', layout=Layout(height='25px', width='50%'),…"
      ]
     },
     "metadata": {},
     "output_type": "display_data"
    }
   ],
   "source": [
    "import itertools\n",
    "@F.udf(T.ArrayType(\n",
    "       T.ArrayType(T.StructType([\n",
    "    T.StructField(\"pair1\", T.StringType(), False),\n",
    "    T.StructField(\"pair2\", T.StringType(), False)\n",
    "]))))\n",
    "def pairs(stop_ids,stop_sequences,arrival_times,departure_times):\n",
    "    stop_id_pairs = list(itertools.combinations(stop_ids,2))\n",
    "    stop_sequence_pairs = list(itertools.combinations(stop_sequences,2))\n",
    "    arrival_time_pairs = list(itertools.combinations(arrival_times,2))\n",
    "    departure_time_pairs = list(itertools.combinations(departure_times,2))\n",
    "    return [stop_id_pairs,stop_sequence_pairs,arrival_time_pairs,departure_time_pairs]\n",
    "    "
   ]
  },
  {
   "cell_type": "code",
   "execution_count": 8,
   "metadata": {},
   "outputs": [
    {
     "data": {
      "application/vnd.jupyter.widget-view+json": {
       "model_id": "",
       "version_major": 2,
       "version_minor": 0
      },
      "text/plain": [
       "FloatProgress(value=0.0, bar_style='info', description='Progress:', layout=Layout(height='25px', width='50%'),…"
      ]
     },
     "metadata": {},
     "output_type": "display_data"
    },
    {
     "name": "stdout",
     "output_type": "stream",
     "text": [
      "173184"
     ]
    }
   ],
   "source": [
    "df_grouped.cache()\n",
    "df_grouped.take(1)\n",
    "df_grouped.count()"
   ]
  },
  {
   "cell_type": "code",
   "execution_count": 9,
   "metadata": {},
   "outputs": [
    {
     "data": {
      "application/vnd.jupyter.widget-view+json": {
       "model_id": "",
       "version_major": 2,
       "version_minor": 0
      },
      "text/plain": [
       "FloatProgress(value=0.0, bar_style='info', description='Progress:', layout=Layout(height='25px', width='50%'),…"
      ]
     },
     "metadata": {},
     "output_type": "display_data"
    }
   ],
   "source": [
    "df_pairs = df_grouped.withColumn(\"all_pairs\",pairs(\"stop_ids\",\"stop_sequences\",\"arrival_times\",\"departure_times\"))"
   ]
  },
  {
   "cell_type": "code",
   "execution_count": 10,
   "metadata": {},
   "outputs": [
    {
     "data": {
      "application/vnd.jupyter.widget-view+json": {
       "model_id": "",
       "version_major": 2,
       "version_minor": 0
      },
      "text/plain": [
       "FloatProgress(value=0.0, bar_style='info', description='Progress:', layout=Layout(height='25px', width='50%'),…"
      ]
     },
     "metadata": {},
     "output_type": "display_data"
    },
    {
     "name": "stdout",
     "output_type": "stream",
     "text": [
      "+--------------------+--------------------+--------------------+--------------------+--------------------+--------------------+\n",
      "|             trip_id|            stop_ids|      stop_sequences|       arrival_times|     departure_times|           all_pairs|\n",
      "+--------------------+--------------------+--------------------+--------------------+--------------------+--------------------+\n",
      "|1.TA.26-18-j19-1.1.H|[8591315, 8591142...|[1, 2, 3, 4, 5, 6...|[28:45:00, 28:46:...|[28:45:00, 28:46:...|[[[8591315, 85911...|\n",
      "|1.TA.63-138-Y-j19...|      [8503000:0:16]|                 [1]|          [18:22:00]|          [18:22:00]|    [[], [], [], []]|\n",
      "|10.TA.80-55-Y-j19...|[8503202:0:5, 850...|            [10, 12]|[07:38:00, 07:48:00]|[07:39:00, 07:48:00]|[[[8503202:0:5, 8...|\n",
      "|1000.TA.26-768-j1...|[8580449, 8591063...|[1, 2, 3, 4, 5, 6...|[22:45:00, 22:46:...|[22:45:00, 22:46:...|[[[8580449, 85910...|\n",
      "|1005.TA.26-131-j1...|[8503855:0:F, 858...|[1, 2, 3, 4, 5, 6...|[16:14:00, 16:15:...|[16:14:00, 16:15:...|[[[8503855:0:F, 8...|\n",
      "|1011.TA.26-15-A-j...|[8591262, 8587348...|[1, 2, 3, 4, 5, 6...|[06:20:00, 06:21:...|[06:20:00, 06:21:...|[[[8591262, 85873...|\n",
      "|1014.TA.26-520-j1...|[8573205:0:H, 858...|[1, 2, 3, 4, 5, 6...|[12:06:00, 12:06:...|[12:06:00, 12:06:...|[[[8573205:0:H, 8...|\n",
      "|1017.TA.26-5-B-j1...|[8591245, 8591329...|[1, 2, 3, 4, 5, 6...|[09:42:00, 09:42:...|[09:42:00, 09:42:...|[[[8591245, 85913...|\n",
      "|102.TA.26-816-j19...|[8573504, 8581545...|  [1, 2, 3, 4, 5, 6]|[19:15:00, 19:16:...|[19:15:00, 19:16:...|[[[8573504, 85815...|\n",
      "|1022.TA.26-33E-j1...|[8591230, 8591192...|[1, 2, 3, 4, 5, 6...|[18:39:00, 18:40:...|[18:39:00, 18:40:...|[[[8591230, 85911...|\n",
      "|103.TA.26-1-A-j19...|[8503508:0:4, 850...|[13, 14, 15, 16, ...|[02:49:00, 02:51:...|[02:50:00, 02:51:...|[[[8503508:0:4, 8...|\n",
      "|103.TA.26-485-j19...|[8576258, 8576257...|[1, 2, 3, 4, 5, 6...|[06:24:00, 06:24:...|[06:24:00, 06:24:...|[[[8576258, 85762...|\n",
      "|103.TA.26-925-j19...|  [8576082, 8576080]|            [20, 21]|[07:38:00, 07:42:00]|[07:38:00, 07:42:00]|[[[8576082, 85760...|\n",
      "|1030.TA.26-235-j1...|[8573710, 8591341...|[1, 2, 3, 4, 5, 6...|[16:19:00, 16:21:...|[16:19:00, 16:21:...|[[[8573710, 85913...|\n",
      "|1031.TA.26-212-j1...|[8573178:0:B, 858...|       [1, 2, 3, 11]|[16:26:00, 16:27:...|[16:26:00, 16:27:...|[[[8573178:0:B, 8...|\n",
      "|104.TA.26-733-j19...|[8573205:0:D, 858...|[1, 2, 3, 4, 5, 6...|[07:33:00, 07:33:...|[07:33:00, 07:33:...|[[[8573205:0:D, 8...|\n",
      "|1041.TA.26-31-j19...|[8591367, 8591219...|[1, 2, 3, 4, 5, 6...|[06:26:00, 06:30:...|[06:26:00, 06:30:...|[[[8591367, 85912...|\n",
      "|1042.TA.26-145-j1...|[8573167, 8590829...|[1, 2, 3, 4, 5, 6...|[14:08:00, 14:09:...|[14:08:00, 14:09:...|[[[8573167, 85908...|\n",
      "|1048.TA.26-80-j19...|[8591401, 8503610...|[1, 2, 3, 4, 5, 6...|[08:32:00, 08:33:...|[08:32:00, 08:34:...|[[[8591401, 85036...|\n",
      "|105.TA.26-762-j19...|[8590620, 8590631...|[1, 2, 3, 4, 5, 6...|[24:23:00, 24:24:...|[24:23:00, 24:24:...|[[[8590620, 85906...|\n",
      "+--------------------+--------------------+--------------------+--------------------+--------------------+--------------------+\n",
      "only showing top 20 rows"
     ]
    }
   ],
   "source": [
    "df_pairs.show()"
   ]
  },
  {
   "cell_type": "code",
   "execution_count": 12,
   "metadata": {},
   "outputs": [
    {
     "data": {
      "application/vnd.jupyter.widget-view+json": {
       "model_id": "",
       "version_major": 2,
       "version_minor": 0
      },
      "text/plain": [
       "FloatProgress(value=0.0, bar_style='info', description='Progress:', layout=Layout(height='25px', width='50%'),…"
      ]
     },
     "metadata": {},
     "output_type": "display_data"
    },
    {
     "name": "stdout",
     "output_type": "stream",
     "text": [
      "+--------------------+------------------+----+\n",
      "|             trip_id|               col|rown|\n",
      "+--------------------+------------------+----+\n",
      "|1.TA.26-18-j19-1.1.H|[8591315, 8591142]|   0|\n",
      "|1.TA.26-18-j19-1.1.H|[8591315, 8530811]|   1|\n",
      "|1.TA.26-18-j19-1.1.H|[8591315, 8591104]|   2|\n",
      "|1.TA.26-18-j19-1.1.H|[8591315, 8591429]|   3|\n",
      "|1.TA.26-18-j19-1.1.H|[8591315, 8591180]|   4|\n",
      "|1.TA.26-18-j19-1.1.H|[8591315, 8530812]|   5|\n",
      "|1.TA.26-18-j19-1.1.H|[8591315, 8591364]|   6|\n",
      "|1.TA.26-18-j19-1.1.H|[8591315, 8530813]|   7|\n",
      "|1.TA.26-18-j19-1.1.H|[8591142, 8530811]|   8|\n",
      "|1.TA.26-18-j19-1.1.H|[8591142, 8591104]|   9|\n",
      "|1.TA.26-18-j19-1.1.H|[8591142, 8591429]|  10|\n",
      "|1.TA.26-18-j19-1.1.H|[8591142, 8591180]|  11|\n",
      "|1.TA.26-18-j19-1.1.H|[8591142, 8530812]|  12|\n",
      "|1.TA.26-18-j19-1.1.H|[8591142, 8591364]|  13|\n",
      "|1.TA.26-18-j19-1.1.H|[8591142, 8530813]|  14|\n",
      "|1.TA.26-18-j19-1.1.H|[8530811, 8591104]|  15|\n",
      "|1.TA.26-18-j19-1.1.H|[8530811, 8591429]|  16|\n",
      "|1.TA.26-18-j19-1.1.H|[8530811, 8591180]|  17|\n",
      "|1.TA.26-18-j19-1.1.H|[8530811, 8530812]|  18|\n",
      "|1.TA.26-18-j19-1.1.H|[8530811, 8591364]|  19|\n",
      "+--------------------+------------------+----+\n",
      "only showing top 20 rows"
     ]
    }
   ],
   "source": [
    "\n",
    "df_pairs_sep = df_pairs.withColumn(\"stop_id_pairs\",F.col(\"all_pairs\")[0])\\\n",
    "                        .withColumn(\"stop_sequence_pairs\",F.col(\"all_pairs\")[1])\\\n",
    "                        .withColumn(\"arrival_time_pairs\",F.col(\"all_pairs\")[2])\\\n",
    "                        .withColumn(\"departure_time_pairs\",F.col(\"all_pairs\")[3])\n",
    "\n",
    "\n",
    "df_pairs_sep.select(\"trip_id\",F.explode(\"stop_id_pairs\")).withColumn(\"rown\",F.monotonically_increasing_id()).show()"
   ]
  },
  {
   "cell_type": "code",
   "execution_count": 21,
   "metadata": {},
   "outputs": [
    {
     "data": {
      "application/vnd.jupyter.widget-view+json": {
       "model_id": "",
       "version_major": 2,
       "version_minor": 0
      },
      "text/plain": [
       "FloatProgress(value=0.0, bar_style='info', description='Progress:', layout=Layout(height='25px', width='50%'),…"
      ]
     },
     "metadata": {},
     "output_type": "display_data"
    }
   ],
   "source": [
    "sti = df_pairs_sep.select(\"trip_id\",F.explode(\"stop_id_pairs\").alias(\"stop_id_pair\")).withColumn(\"rown\",F.monotonically_increasing_id()).alias(\"sti\")\n",
    "ssp = df_pairs_sep.select(F.explode(\"stop_sequence_pairs\").alias(\"stop_sequence_pair\"),F.monotonically_increasing_id().alias(\"rown\")).alias(\"ssp\")\n",
    "atp = df_pairs_sep.select(F.explode(\"arrival_time_pairs\").alias(\"arrival_time_pair\"),F.monotonically_increasing_id().alias(\"rown\")).alias(\"atp\")\n",
    "dtp = df_pairs_sep.select(F.explode(\"departure_time_pairs\").alias(\"departure_time_pair\"),F.monotonically_increasing_id().alias(\"rown\")).alias(\"dtp\")\n"
   ]
  },
  {
   "cell_type": "code",
   "execution_count": 23,
   "metadata": {},
   "outputs": [
    {
     "data": {
      "application/vnd.jupyter.widget-view+json": {
       "model_id": "",
       "version_major": 2,
       "version_minor": 0
      },
      "text/plain": [
       "FloatProgress(value=0.0, bar_style='info', description='Progress:', layout=Layout(height='25px', width='50%'),…"
      ]
     },
     "metadata": {},
     "output_type": "display_data"
    },
    {
     "name": "stdout",
     "output_type": "stream",
     "text": [
      "+--------------------+------------------+----+\n",
      "|             trip_id|      stop_id_pair|rown|\n",
      "+--------------------+------------------+----+\n",
      "|1.TA.26-18-j19-1.1.H|[8591315, 8591142]|   0|\n",
      "|1.TA.26-18-j19-1.1.H|[8591315, 8530811]|   1|\n",
      "|1.TA.26-18-j19-1.1.H|[8591315, 8591104]|   2|\n",
      "|1.TA.26-18-j19-1.1.H|[8591315, 8591429]|   3|\n",
      "|1.TA.26-18-j19-1.1.H|[8591315, 8591180]|   4|\n",
      "|1.TA.26-18-j19-1.1.H|[8591315, 8530812]|   5|\n",
      "|1.TA.26-18-j19-1.1.H|[8591315, 8591364]|   6|\n",
      "|1.TA.26-18-j19-1.1.H|[8591315, 8530813]|   7|\n",
      "|1.TA.26-18-j19-1.1.H|[8591142, 8530811]|   8|\n",
      "|1.TA.26-18-j19-1.1.H|[8591142, 8591104]|   9|\n",
      "|1.TA.26-18-j19-1.1.H|[8591142, 8591429]|  10|\n",
      "|1.TA.26-18-j19-1.1.H|[8591142, 8591180]|  11|\n",
      "|1.TA.26-18-j19-1.1.H|[8591142, 8530812]|  12|\n",
      "|1.TA.26-18-j19-1.1.H|[8591142, 8591364]|  13|\n",
      "|1.TA.26-18-j19-1.1.H|[8591142, 8530813]|  14|\n",
      "|1.TA.26-18-j19-1.1.H|[8530811, 8591104]|  15|\n",
      "|1.TA.26-18-j19-1.1.H|[8530811, 8591429]|  16|\n",
      "|1.TA.26-18-j19-1.1.H|[8530811, 8591180]|  17|\n",
      "|1.TA.26-18-j19-1.1.H|[8530811, 8530812]|  18|\n",
      "|1.TA.26-18-j19-1.1.H|[8530811, 8591364]|  19|\n",
      "+--------------------+------------------+----+\n",
      "only showing top 20 rows"
     ]
    }
   ],
   "source": [
    "sti.show()"
   ]
  },
  {
   "cell_type": "code",
   "execution_count": 24,
   "metadata": {},
   "outputs": [
    {
     "data": {
      "application/vnd.jupyter.widget-view+json": {
       "model_id": "",
       "version_major": 2,
       "version_minor": 0
      },
      "text/plain": [
       "FloatProgress(value=0.0, bar_style='info', description='Progress:', layout=Layout(height='25px', width='50%'),…"
      ]
     },
     "metadata": {},
     "output_type": "display_data"
    },
    {
     "name": "stdout",
     "output_type": "stream",
     "text": [
      "+------------------+----+\n",
      "|stop_sequence_pair|rown|\n",
      "+------------------+----+\n",
      "|            [1, 2]|   0|\n",
      "|            [1, 3]|   1|\n",
      "|            [1, 4]|   2|\n",
      "|            [1, 5]|   3|\n",
      "|            [1, 6]|   4|\n",
      "|            [1, 7]|   5|\n",
      "|            [1, 8]|   6|\n",
      "|            [1, 9]|   7|\n",
      "|            [2, 3]|   8|\n",
      "|            [2, 4]|   9|\n",
      "|            [2, 5]|  10|\n",
      "|            [2, 6]|  11|\n",
      "|            [2, 7]|  12|\n",
      "|            [2, 8]|  13|\n",
      "|            [2, 9]|  14|\n",
      "|            [3, 4]|  15|\n",
      "|            [3, 5]|  16|\n",
      "|            [3, 6]|  17|\n",
      "|            [3, 7]|  18|\n",
      "|            [3, 8]|  19|\n",
      "+------------------+----+\n",
      "only showing top 20 rows"
     ]
    }
   ],
   "source": [
    "ssp.show()"
   ]
  },
  {
   "cell_type": "code",
   "execution_count": 26,
   "metadata": {},
   "outputs": [
    {
     "data": {
      "application/vnd.jupyter.widget-view+json": {
       "model_id": "",
       "version_major": 2,
       "version_minor": 0
      },
      "text/plain": [
       "FloatProgress(value=0.0, bar_style='info', description='Progress:', layout=Layout(height='25px', width='50%'),…"
      ]
     },
     "metadata": {},
     "output_type": "display_data"
    },
    {
     "name": "stdout",
     "output_type": "stream",
     "text": [
      "20584205"
     ]
    }
   ],
   "source": [
    "ssp.cache()\n",
    "ssp.count()"
   ]
  },
  {
   "cell_type": "code",
   "execution_count": null,
   "metadata": {},
   "outputs": [],
   "source": [
    "sti.cache()\n",
    "ssp.cache()\n",
    "atp.cache()\n",
    "dtp.cache()\n"
   ]
  },
  {
   "cell_type": "code",
   "execution_count": null,
   "metadata": {},
   "outputs": [],
   "source": [
    "sti.count()\n",
    "ssp.count()\n",
    "atp.count()\n",
    "dtp.count()"
   ]
  },
  {
   "cell_type": "code",
   "execution_count": 48,
   "metadata": {},
   "outputs": [
    {
     "data": {
      "application/vnd.jupyter.widget-view+json": {
       "model_id": "",
       "version_major": 2,
       "version_minor": 0
      },
      "text/plain": [
       "FloatProgress(value=0.0, bar_style='info', description='Progress:', layout=Layout(height='25px', width='50%'),…"
      ]
     },
     "metadata": {},
     "output_type": "display_data"
    }
   ],
   "source": [
    "joined = sti.join(ssp,sti.rown == ssp.rown).drop(ssp.rown).join(atp,sti.rown == atp.rown).drop(atp.rown).join(dtp,sti.rown == dtp.rown).drop(dtp.rown)"
   ]
  },
  {
   "cell_type": "code",
   "execution_count": 46,
   "metadata": {},
   "outputs": [
    {
     "data": {
      "application/vnd.jupyter.widget-view+json": {
       "model_id": "",
       "version_major": 2,
       "version_minor": 0
      },
      "text/plain": [
       "FloatProgress(value=0.0, bar_style='info', description='Progress:', layout=Layout(height='25px', width='50%'),…"
      ]
     },
     "metadata": {},
     "output_type": "display_data"
    },
    {
     "name": "stdout",
     "output_type": "stream",
     "text": [
      "+--------------------+------------------+----+\n",
      "|             trip_id|      stop_id_pair|rown|\n",
      "+--------------------+------------------+----+\n",
      "|1.TA.26-18-j19-1.1.H|[8591315, 8591142]|   0|\n",
      "|1.TA.26-18-j19-1.1.H|[8591315, 8530811]|   1|\n",
      "|1.TA.26-18-j19-1.1.H|[8591315, 8591104]|   2|\n",
      "|1.TA.26-18-j19-1.1.H|[8591315, 8591429]|   3|\n",
      "|1.TA.26-18-j19-1.1.H|[8591315, 8591180]|   4|\n",
      "|1.TA.26-18-j19-1.1.H|[8591315, 8530812]|   5|\n",
      "|1.TA.26-18-j19-1.1.H|[8591315, 8591364]|   6|\n",
      "|1.TA.26-18-j19-1.1.H|[8591315, 8530813]|   7|\n",
      "|1.TA.26-18-j19-1.1.H|[8591142, 8530811]|   8|\n",
      "|1.TA.26-18-j19-1.1.H|[8591142, 8591104]|   9|\n",
      "|1.TA.26-18-j19-1.1.H|[8591142, 8591429]|  10|\n",
      "|1.TA.26-18-j19-1.1.H|[8591142, 8591180]|  11|\n",
      "|1.TA.26-18-j19-1.1.H|[8591142, 8530812]|  12|\n",
      "|1.TA.26-18-j19-1.1.H|[8591142, 8591364]|  13|\n",
      "|1.TA.26-18-j19-1.1.H|[8591142, 8530813]|  14|\n",
      "|1.TA.26-18-j19-1.1.H|[8530811, 8591104]|  15|\n",
      "|1.TA.26-18-j19-1.1.H|[8530811, 8591429]|  16|\n",
      "|1.TA.26-18-j19-1.1.H|[8530811, 8591180]|  17|\n",
      "|1.TA.26-18-j19-1.1.H|[8530811, 8530812]|  18|\n",
      "|1.TA.26-18-j19-1.1.H|[8530811, 8591364]|  19|\n",
      "+--------------------+------------------+----+\n",
      "only showing top 20 rows"
     ]
    }
   ],
   "source": [
    "sti.show()"
   ]
  },
  {
   "cell_type": "code",
   "execution_count": 49,
   "metadata": {},
   "outputs": [
    {
     "data": {
      "application/vnd.jupyter.widget-view+json": {
       "model_id": "",
       "version_major": 2,
       "version_minor": 0
      },
      "text/plain": [
       "FloatProgress(value=0.0, bar_style='info', description='Progress:', layout=Layout(height='25px', width='50%'),…"
      ]
     },
     "metadata": {},
     "output_type": "display_data"
    }
   ],
   "source": [
    "#joined.write.mode(\"overwrite\").parquet(\"user/boecuego/df_all_stop_connections.parquet\")\n",
    "\n"
   ]
  },
  {
   "cell_type": "code",
   "execution_count": 50,
   "metadata": {},
   "outputs": [
    {
     "data": {
      "application/vnd.jupyter.widget-view+json": {
       "model_id": "",
       "version_major": 2,
       "version_minor": 0
      },
      "text/plain": [
       "FloatProgress(value=0.0, bar_style='info', description='Progress:', layout=Layout(height='25px', width='50%'),…"
      ]
     },
     "metadata": {},
     "output_type": "display_data"
    }
   ],
   "source": [
    "joined = spark.read.parquet(\"user/boecuego/df_all_stop_connections.parquet\")"
   ]
  },
  {
   "cell_type": "code",
   "execution_count": 52,
   "metadata": {},
   "outputs": [
    {
     "data": {
      "application/vnd.jupyter.widget-view+json": {
       "model_id": "",
       "version_major": 2,
       "version_minor": 0
      },
      "text/plain": [
       "FloatProgress(value=0.0, bar_style='info', description='Progress:', layout=Layout(height='25px', width='50%'),…"
      ]
     },
     "metadata": {},
     "output_type": "display_data"
    }
   ],
   "source": [
    "stop_times_df = spark.read.orc(\"hdfs:///data/sbb/timetables/orc/stop_times\")\n",
    "stops_df = spark.read.orc(\"hdfs:///data/sbb/timetables/orc/stops\")\n",
    "trips_df = spark.read.orc(\"hdfs:///data/sbb/timetables/orc/trips\")\n",
    "calendar_df = spark.read.orc(\"hdfs:///data/sbb/timetables/orc/calendar\")\n",
    "routes_df = spark.read.orc(\"hdfs:///data/sbb/timetables/orc/routes\")"
   ]
  },
  {
   "cell_type": "code",
   "execution_count": 53,
   "metadata": {},
   "outputs": [
    {
     "data": {
      "application/vnd.jupyter.widget-view+json": {
       "model_id": "",
       "version_major": 2,
       "version_minor": 0
      },
      "text/plain": [
       "FloatProgress(value=0.0, bar_style='info', description='Progress:', layout=Layout(height='25px', width='50%'),…"
      ]
     },
     "metadata": {},
     "output_type": "display_data"
    }
   ],
   "source": [
    "df_service  =joined.join(trips_df,trips_df.trip_id ==joined.trip_id  )"
   ]
  },
  {
   "cell_type": "code",
   "execution_count": 54,
   "metadata": {},
   "outputs": [
    {
     "data": {
      "application/vnd.jupyter.widget-view+json": {
       "model_id": "",
       "version_major": 2,
       "version_minor": 0
      },
      "text/plain": [
       "FloatProgress(value=0.0, bar_style='info', description='Progress:', layout=Layout(height='25px', width='50%'),…"
      ]
     },
     "metadata": {},
     "output_type": "display_data"
    }
   ],
   "source": [
    "df_days = df_service.join(calendar_df,calendar_df.service_id == df_service.service_id)"
   ]
  },
  {
   "cell_type": "code",
   "execution_count": 55,
   "metadata": {},
   "outputs": [
    {
     "data": {
      "application/vnd.jupyter.widget-view+json": {
       "model_id": "",
       "version_major": 2,
       "version_minor": 0
      },
      "text/plain": [
       "FloatProgress(value=0.0, bar_style='info', description='Progress:', layout=Layout(height='25px', width='50%'),…"
      ]
     },
     "metadata": {},
     "output_type": "display_data"
    }
   ],
   "source": [
    "df_weekdays = df_days.filter(\"monday == 'true' AND tuesday == 'true' AND wednesday == 'true' AND thursday == 'true' AND friday == 'true' \")"
   ]
  },
  {
   "cell_type": "code",
   "execution_count": 51,
   "metadata": {},
   "outputs": [
    {
     "data": {
      "application/vnd.jupyter.widget-view+json": {
       "model_id": "",
       "version_major": 2,
       "version_minor": 0
      },
      "text/plain": [
       "FloatProgress(value=0.0, bar_style='info', description='Progress:', layout=Layout(height='25px', width='50%'),…"
      ]
     },
     "metadata": {},
     "output_type": "display_data"
    },
    {
     "name": "stderr",
     "output_type": "stream",
     "text": [
      "An error was encountered:\n",
      "name 'df_weekdays' is not defined\n",
      "Traceback (most recent call last):\n",
      "NameError: name 'df_weekdays' is not defined\n",
      "\n"
     ]
    }
   ],
   "source": [
    "df_weekdays"
   ]
  },
  {
   "cell_type": "code",
   "execution_count": 56,
   "metadata": {},
   "outputs": [
    {
     "data": {
      "application/vnd.jupyter.widget-view+json": {
       "model_id": "",
       "version_major": 2,
       "version_minor": 0
      },
      "text/plain": [
       "FloatProgress(value=0.0, bar_style='info', description='Progress:', layout=Layout(height='25px', width='50%'),…"
      ]
     },
     "metadata": {},
     "output_type": "display_data"
    }
   ],
   "source": [
    "cols = joined.columns"
   ]
  },
  {
   "cell_type": "code",
   "execution_count": null,
   "metadata": {},
   "outputs": [],
   "source": [
    "df_weekdays.drop(trips_df.trip_id)"
   ]
  },
  {
   "cell_type": "code",
   "execution_count": 57,
   "metadata": {},
   "outputs": [
    {
     "data": {
      "application/vnd.jupyter.widget-view+json": {
       "model_id": "",
       "version_major": 2,
       "version_minor": 0
      },
      "text/plain": [
       "FloatProgress(value=0.0, bar_style='info', description='Progress:', layout=Layout(height='25px', width='50%'),…"
      ]
     },
     "metadata": {},
     "output_type": "display_data"
    },
    {
     "name": "stderr",
     "output_type": "stream",
     "text": [
      "An error was encountered:\n",
      "u\"Reference 'trip_id' is ambiguous, could be: trip_id, trip_id.;\"\n",
      "Traceback (most recent call last):\n",
      "  File \"/hdata/sde/hadoop/yarn/local/usercache/ebouille/appcache/application_1589299642358_2044/container_e06_1589299642358_2044_01_000001/pyspark.zip/pyspark/sql/dataframe.py\", line 1202, in select\n",
      "    jdf = self._jdf.select(self._jcols(*cols))\n",
      "  File \"/hdata/sde/hadoop/yarn/local/usercache/ebouille/appcache/application_1589299642358_2044/container_e06_1589299642358_2044_01_000001/py4j-0.10.7-src.zip/py4j/java_gateway.py\", line 1257, in __call__\n",
      "    answer, self.gateway_client, self.target_id, self.name)\n",
      "  File \"/hdata/sde/hadoop/yarn/local/usercache/ebouille/appcache/application_1589299642358_2044/container_e06_1589299642358_2044_01_000001/pyspark.zip/pyspark/sql/utils.py\", line 69, in deco\n",
      "    raise AnalysisException(s.split(': ', 1)[1], stackTrace)\n",
      "AnalysisException: u\"Reference 'trip_id' is ambiguous, could be: trip_id, trip_id.;\"\n",
      "\n"
     ]
    }
   ],
   "source": [
    "#joined_filtered  = df_weekdays.select(*cols)"
   ]
  },
  {
   "cell_type": "code",
   "execution_count": 66,
   "metadata": {},
   "outputs": [
    {
     "data": {
      "application/vnd.jupyter.widget-view+json": {
       "model_id": "",
       "version_major": 2,
       "version_minor": 0
      },
      "text/plain": [
       "FloatProgress(value=0.0, bar_style='info', description='Progress:', layout=Layout(height='25px', width='50%'),…"
      ]
     },
     "metadata": {},
     "output_type": "display_data"
    },
    {
     "name": "stdout",
     "output_type": "stream",
     "text": [
      "DataFrame[trip_id: string, stop_id_pair: struct<pair1:string,pair2:string>, rown: bigint, stop_sequence_pair: struct<pair1:string,pair2:string>, arrival_time_pair: struct<pair1:string,pair2:string>, departure_time_pair: struct<pair1:string,pair2:string>]"
     ]
    }
   ],
   "source": [
    "joined_filtered"
   ]
  },
  {
   "cell_type": "code",
   "execution_count": 59,
   "metadata": {},
   "outputs": [
    {
     "data": {
      "application/vnd.jupyter.widget-view+json": {
       "model_id": "",
       "version_major": 2,
       "version_minor": 0
      },
      "text/plain": [
       "FloatProgress(value=0.0, bar_style='info', description='Progress:', layout=Layout(height='25px', width='50%'),…"
      ]
     },
     "metadata": {},
     "output_type": "display_data"
    },
    {
     "name": "stderr",
     "output_type": "stream",
     "text": [
      "An error was encountered:\n",
      "name 'joined_filtered' is not defined\n",
      "Traceback (most recent call last):\n",
      "NameError: name 'joined_filtered' is not defined\n",
      "\n"
     ]
    }
   ],
   "source": [
    "#joined_filtered.write.mode(\"overwrite\").parquet(\"user/boecuego/df_all_stop_connections_filtered.parquet\")\n",
    "\n"
   ]
  },
  {
   "cell_type": "code",
   "execution_count": null,
   "metadata": {},
   "outputs": [],
   "source": [
    "joined_filtered = spark.read.parquet(\"user/boecuego/df_all_stop_connections_filtered.parquet\")"
   ]
  },
  {
   "cell_type": "code",
   "execution_count": 67,
   "metadata": {},
   "outputs": [
    {
     "data": {
      "application/vnd.jupyter.widget-view+json": {
       "model_id": "",
       "version_major": 2,
       "version_minor": 0
      },
      "text/plain": [
       "FloatProgress(value=0.0, bar_style='info', description='Progress:', layout=Layout(height='25px', width='50%'),…"
      ]
     },
     "metadata": {},
     "output_type": "display_data"
    },
    {
     "name": "stdout",
     "output_type": "stream",
     "text": [
      "+--------------------+--------------------+-----+------------------+--------------------+--------------------+\n",
      "|             trip_id|        stop_id_pair| rown|stop_sequence_pair|   arrival_time_pair| departure_time_pair|\n",
      "+--------------------+--------------------+-----+------------------+--------------------+--------------------+\n",
      "|1087.TA.26-5-B-j1...|  [8591366, 8591415]| 2637|            [3, 4]|[15:45:00, 15:46:00]|[15:45:00, 15:46:00]|\n",
      "|1087.TA.26-5-B-j1...|  [8591303, 8591230]| 2701|          [12, 14]|[16:00:00, 16:04:00]|[16:00:00, 16:04:00]|\n",
      "|1099.TA.26-142-j1...|  [8590825, 8573167]| 3197|            [4, 7]|[17:35:00, 17:40:00]|[17:35:00, 17:40:00]|\n",
      "|111.TA.79-736-j19...|  [8591031, 8580301]| 4154|            [1, 3]|[18:39:00, 18:42:00]|[18:39:00, 18:42:00]|\n",
      "|1141.TA.26-5-B-j1...|  [8591366, 8591220]| 5499|           [3, 11]|[10:37:00, 10:51:00]|[10:37:00, 10:51:00]|\n",
      "|1141.TA.26-5-B-j1...|  [8591366, 8591303]| 5500|           [3, 12]|[10:37:00, 10:53:00]|[10:37:00, 10:53:00]|\n",
      "|12.TA.26-162-j19-...|  [8590476, 8590680]| 9036|            [2, 7]|[08:26:00, 08:32:00]|[08:26:00, 08:32:00]|\n",
      "|1201.TA.26-69-j19...|  [8591201, 8591101]| 9477|            [2, 8]|[09:09:00, 09:16:00]|[09:09:00, 09:16:00]|\n",
      "|1291.TA.26-145-j1...|  [8590736, 8589110]|13569|           [9, 11]|[24:47:00, 24:49:00]|[24:47:00, 24:49:00]|\n",
      "|1387.TA.26-7-B-j1...|  [8591106, 8591298]|17609|           [2, 18]|[06:33:00, 06:54:00]|[06:33:00, 06:54:00]|\n",
      "|1387.TA.26-7-B-j1...|  [8591082, 8591393]|17720|           [6, 23]|[06:38:00, 07:02:00]|[06:38:00, 07:02:00]|\n",
      "|1388.TA.26-8-C-j1...|  [8530813, 8591064]|18121|           [5, 12]|[07:14:00, 07:26:00]|[07:14:00, 07:26:00]|\n",
      "|153.TA.1-350-j19-...|  [8502894, 8502559]|21484|           [7, 18]|[06:49:00, 07:04:00]|[06:49:00, 07:04:00]|\n",
      "|153.TA.1-350-j19-...|[8583870:0:E, 850...|21539|          [13, 16]|[06:59:00, 07:03:00]|[06:59:00, 07:03:00]|\n",
      "|1537.TA.26-2-A-j1...|  [8576198, 8591038]|22085|           [4, 18]|[19:47:00, 20:09:00]|[19:47:00, 20:09:00]|\n",
      "|1758.TA.26-781-j1...|  [8591225, 8590622]|25827|           [6, 12]|[11:52:00, 12:00:00]|[11:52:00, 12:00:00]|\n",
      "|1817.TA.26-3-A-j1...|  [8503083, 8591202]|27839|            [3, 4]|[14:43:00, 14:45:00]|[14:43:00, 14:45:00]|\n",
      "|19.TA.1-231-j19-1...|  [8573722, 8573723]|29634|           [9, 16]|[09:18:00, 09:34:00]|[09:18:00, 09:34:00]|\n",
      "|2.TA.26-185-j19-1...|  [8502495, 8591081]|32191|            [1, 2]|[12:49:00, 12:51:00]|[12:49:00, 12:51:00]|\n",
      "|206.TA.26-308-j19...|  [8591057, 8590849]|34652|           [1, 28]|[21:55:00, 22:25:00]|[21:55:00, 22:25:00]|\n",
      "+--------------------+--------------------+-----+------------------+--------------------+--------------------+\n",
      "only showing top 20 rows"
     ]
    }
   ],
   "source": [
    "joined_filtered.show() "
   ]
  },
  {
   "cell_type": "code",
   "execution_count": 68,
   "metadata": {},
   "outputs": [
    {
     "data": {
      "application/vnd.jupyter.widget-view+json": {
       "model_id": "",
       "version_major": 2,
       "version_minor": 0
      },
      "text/plain": [
       "FloatProgress(value=0.0, bar_style='info', description='Progress:', layout=Layout(height='25px', width='50%'),…"
      ]
     },
     "metadata": {},
     "output_type": "display_data"
    }
   ],
   "source": [
    "joineds = joined_filtered.sort(\"rown\").select(\"trip_id\",F.col(\"stop_id_pair\").pair1.alias(\"stop_id1\")\\\n",
    "                        ,F.col(\"stop_id_pair\").pair2.alias(\"stop_id2\")\\\n",
    "                        ,F.col(\"stop_sequence_pair\").pair1.alias(\"stop_sequence1\")\\\n",
    "                        ,F.col(\"stop_sequence_pair\").pair2.alias(\"stop_sequence2\")\\\n",
    "                        ,F.col(\"arrival_time_pair\").pair1.alias(\"arrival_time1\")\\\n",
    "                        ,F.col(\"arrival_time_pair\").pair2.alias(\"arrival_time2\")\\\n",
    "                        ,F.col(\"departure_time_pair\").pair1.alias(\"departure_time1\")\\\n",
    "                        ,F.col(\"departure_time_pair\").pair2.alias(\"departure_time2\"))"
   ]
  },
  {
   "cell_type": "code",
   "execution_count": 70,
   "metadata": {},
   "outputs": [
    {
     "data": {
      "application/vnd.jupyter.widget-view+json": {
       "model_id": "",
       "version_major": 2,
       "version_minor": 0
      },
      "text/plain": [
       "FloatProgress(value=0.0, bar_style='info', description='Progress:', layout=Layout(height='25px', width='50%'),…"
      ]
     },
     "metadata": {},
     "output_type": "display_data"
    },
    {
     "name": "stdout",
     "output_type": "stream",
     "text": [
      "+--------------------+-----------+--------+--------------+--------------+-------------+-------------+---------------+---------------+\n",
      "|             trip_id|   stop_id1|stop_id2|stop_sequence1|stop_sequence2|arrival_time1|arrival_time2|departure_time1|departure_time2|\n",
      "+--------------------+-----------+--------+--------------+--------------+-------------+-------------+---------------+---------------+\n",
      "|1005.TA.26-131-j1...|8503855:0:F| 8589111|             1|             2|     16:14:00|     16:15:00|       16:14:00|       16:15:00|\n",
      "|1005.TA.26-131-j1...|8503855:0:F| 8573553|             1|             3|     16:14:00|     16:16:00|       16:14:00|       16:16:00|\n",
      "|1005.TA.26-131-j1...|8503855:0:F| 8573554|             1|             4|     16:14:00|     16:18:00|       16:14:00|       16:18:00|\n",
      "|1005.TA.26-131-j1...|8503855:0:F| 8573555|             1|             5|     16:14:00|     16:19:00|       16:14:00|       16:19:00|\n",
      "|1005.TA.26-131-j1...|8503855:0:F| 8588985|             1|             6|     16:14:00|     16:20:00|       16:14:00|       16:20:00|\n",
      "|1005.TA.26-131-j1...|8503855:0:F| 8588984|             1|             7|     16:14:00|     16:21:00|       16:14:00|       16:21:00|\n",
      "|1005.TA.26-131-j1...|    8589111| 8573553|             2|             3|     16:15:00|     16:16:00|       16:15:00|       16:16:00|\n",
      "|1005.TA.26-131-j1...|    8589111| 8573554|             2|             4|     16:15:00|     16:18:00|       16:15:00|       16:18:00|\n",
      "|1005.TA.26-131-j1...|    8589111| 8573555|             2|             5|     16:15:00|     16:19:00|       16:15:00|       16:19:00|\n",
      "|1005.TA.26-131-j1...|    8589111| 8588985|             2|             6|     16:15:00|     16:20:00|       16:15:00|       16:20:00|\n",
      "|1005.TA.26-131-j1...|    8589111| 8588984|             2|             7|     16:15:00|     16:21:00|       16:15:00|       16:21:00|\n",
      "|1005.TA.26-131-j1...|    8573553| 8573554|             3|             4|     16:16:00|     16:18:00|       16:16:00|       16:18:00|\n",
      "|1005.TA.26-131-j1...|    8573553| 8573555|             3|             5|     16:16:00|     16:19:00|       16:16:00|       16:19:00|\n",
      "|1005.TA.26-131-j1...|    8573553| 8588985|             3|             6|     16:16:00|     16:20:00|       16:16:00|       16:20:00|\n",
      "|1005.TA.26-131-j1...|    8573553| 8588984|             3|             7|     16:16:00|     16:21:00|       16:16:00|       16:21:00|\n",
      "|1005.TA.26-131-j1...|    8573554| 8573555|             4|             5|     16:18:00|     16:19:00|       16:18:00|       16:19:00|\n",
      "|1005.TA.26-131-j1...|    8573554| 8588985|             4|             6|     16:18:00|     16:20:00|       16:18:00|       16:20:00|\n",
      "|1005.TA.26-131-j1...|    8573554| 8588984|             4|             7|     16:18:00|     16:21:00|       16:18:00|       16:21:00|\n",
      "|1005.TA.26-131-j1...|    8573555| 8588985|             5|             6|     16:19:00|     16:20:00|       16:19:00|       16:20:00|\n",
      "|1005.TA.26-131-j1...|    8573555| 8588984|             5|             7|     16:19:00|     16:21:00|       16:19:00|       16:21:00|\n",
      "+--------------------+-----------+--------+--------------+--------------+-------------+-------------+---------------+---------------+\n",
      "only showing top 20 rows"
     ]
    }
   ],
   "source": [
    "joineds.show()"
   ]
  },
  {
   "cell_type": "code",
   "execution_count": 71,
   "metadata": {},
   "outputs": [
    {
     "data": {
      "application/vnd.jupyter.widget-view+json": {
       "model_id": "",
       "version_major": 2,
       "version_minor": 0
      },
      "text/plain": [
       "FloatProgress(value=0.0, bar_style='info', description='Progress:', layout=Layout(height='25px', width='50%'),…"
      ]
     },
     "metadata": {},
     "output_type": "display_data"
    },
    {
     "name": "stdout",
     "output_type": "stream",
     "text": [
      "3291068"
     ]
    }
   ],
   "source": [
    "joineds.count()"
   ]
  },
  {
   "cell_type": "code",
   "execution_count": null,
   "metadata": {},
   "outputs": [],
   "source": [
    "df_pairs_sep.cache()\n",
    "df_pairs_sep.count()"
   ]
  },
  {
   "cell_type": "code",
   "execution_count": null,
   "metadata": {},
   "outputs": [],
   "source": [
    "df_pairs_sep.select(\"row_num\"F.explode(\"stop_id_pairs\"),\"stop_sequence_pairs\",\"row_num\").show()"
   ]
  },
  {
   "cell_type": "code",
   "execution_count": 54,
   "metadata": {},
   "outputs": [
    {
     "data": {
      "application/vnd.jupyter.widget-view+json": {
       "model_id": "",
       "version_major": 2,
       "version_minor": 0
      },
      "text/plain": [
       "FloatProgress(value=0.0, bar_style='info', description='Progress:', layout=Layout(height='25px', width='50%'),…"
      ]
     },
     "metadata": {},
     "output_type": "display_data"
    },
    {
     "name": "stdout",
     "output_type": "stream",
     "text": [
      "root\n",
      " |-- trip_id: string (nullable = true)\n",
      " |-- stop_ids: array (nullable = true)\n",
      " |    |-- element: string (containsNull = true)\n",
      " |-- stop_sequences: array (nullable = true)\n",
      " |    |-- element: short (containsNull = true)\n",
      " |-- arrival_times: array (nullable = true)\n",
      " |    |-- element: string (containsNull = true)\n",
      " |-- departure_times: array (nullable = true)\n",
      " |    |-- element: string (containsNull = true)\n",
      " |-- all_pairs: array (nullable = true)\n",
      " |    |-- element: array (containsNull = true)\n",
      " |    |    |-- element: struct (containsNull = true)\n",
      " |    |    |    |-- pair1: string (nullable = false)\n",
      " |    |    |    |-- pair2: string (nullable = false)\n",
      " |-- stop_id_pairs: array (nullable = true)\n",
      " |    |-- element: struct (containsNull = true)\n",
      " |    |    |-- pair1: string (nullable = false)\n",
      " |    |    |-- pair2: string (nullable = false)\n",
      " |-- stop_sequence_pairs: array (nullable = true)\n",
      " |    |-- element: struct (containsNull = true)\n",
      " |    |    |-- pair1: string (nullable = false)\n",
      " |    |    |-- pair2: string (nullable = false)\n",
      " |-- arrival_time_pairs: array (nullable = true)\n",
      " |    |-- element: struct (containsNull = true)\n",
      " |    |    |-- pair1: string (nullable = false)\n",
      " |    |    |-- pair2: string (nullable = false)\n",
      " |-- departure_time_pairs: array (nullable = true)\n",
      " |    |-- element: struct (containsNull = true)\n",
      " |    |    |-- pair1: string (nullable = false)\n",
      " |    |    |-- pair2: string (nullable = false)"
     ]
    }
   ],
   "source": [
    "from pyspark.sql.window import Window\n",
    "w = Window().orderBy(F.lit('A'))\n",
    "df = df.withColumn(\"row_num\", F.row_number().over(w))"
   ]
  },
  {
   "cell_type": "code",
   "execution_count": 55,
   "metadata": {},
   "outputs": [
    {
     "data": {
      "application/vnd.jupyter.widget-view+json": {
       "model_id": "",
       "version_major": 2,
       "version_minor": 0
      },
      "text/plain": [
       "FloatProgress(value=0.0, bar_style='info', description='Progress:', layout=Layout(height='25px', width='50%'),…"
      ]
     },
     "metadata": {},
     "output_type": "display_data"
    }
   ],
   "source": [
    "sttype = T.ArrayType(T.StructType([\n",
    "    T.StructField(\"pair1\", T.StringType(), False),\n",
    "    T.StructField(\"pair2\", T.StringType(), False)\n",
    "]))"
   ]
  },
  {
   "cell_type": "code",
   "execution_count": 56,
   "metadata": {},
   "outputs": [
    {
     "data": {
      "application/vnd.jupyter.widget-view+json": {
       "model_id": "",
       "version_major": 2,
       "version_minor": 0
      },
      "text/plain": [
       "FloatProgress(value=0.0, bar_style='info', description='Progress:', layout=Layout(height='25px', width='50%'),…"
      ]
     },
     "metadata": {},
     "output_type": "display_data"
    }
   ],
   "source": [
    "@F.udf(T.ArrayType(T.StructType([T.StructField(\"stop_id_pairs\", sttype),\n",
    "                                    T.StructField(\"stop_sequence_pairs\", sttype),\n",
    "                                    T.StructField(\"arrival_time_pairs\", sttype),\n",
    "                                    T.StructField(\"departure_time_pairs\", sttype)])))\n",
    "def combine(a,b,c,d):\n",
    "      return list(zip(a,b,c,d))"
   ]
  },
  {
   "cell_type": "code",
   "execution_count": null,
   "metadata": {},
   "outputs": [],
   "source": [
    "df_pairs_sep_combine = df_pairs_sep.limit(2).withColumn(\"new\", combine(\"stop_id_pairs\", \"stop_sequence_pairs\",\"arrival_time_pairs\",\"departure_time_pairs\"))"
   ]
  },
  {
   "cell_type": "code",
   "execution_count": 58,
   "metadata": {},
   "outputs": [
    {
     "data": {
      "application/vnd.jupyter.widget-view+json": {
       "model_id": "56432de3636a44269b8fd120e78ff5b3",
       "version_major": 2,
       "version_minor": 0
      },
      "text/plain": [
       "FloatProgress(value=0.0, bar_style='info', description='Progress:', layout=Layout(height='25px', width='50%'),…"
      ]
     },
     "metadata": {},
     "output_type": "display_data"
    },
    {
     "ename": "KeyboardInterrupt",
     "evalue": "",
     "output_type": "error",
     "traceback": [
      "\u001b[0;31m---------------------------------------------------------------------------\u001b[0m",
      "\u001b[0;31mKeyboardInterrupt\u001b[0m                         Traceback (most recent call last)",
      "\u001b[0;32m<ipython-input-58-30e29e274050>\u001b[0m in \u001b[0;36m<module>\u001b[0;34m\u001b[0m\n\u001b[0;32m----> 1\u001b[0;31m \u001b[0mget_ipython\u001b[0m\u001b[0;34m(\u001b[0m\u001b[0;34m)\u001b[0m\u001b[0;34m.\u001b[0m\u001b[0mrun_cell_magic\u001b[0m\u001b[0;34m(\u001b[0m\u001b[0;34m'spark'\u001b[0m\u001b[0;34m,\u001b[0m \u001b[0;34m''\u001b[0m\u001b[0;34m,\u001b[0m \u001b[0;34m'df_pairs_sep_combine.show()\\n'\u001b[0m\u001b[0;34m)\u001b[0m\u001b[0;34m\u001b[0m\u001b[0;34m\u001b[0m\u001b[0m\n\u001b[0m",
      "\u001b[0;32m/opt/conda/lib/python3.7/site-packages/IPython/core/interactiveshell.py\u001b[0m in \u001b[0;36mrun_cell_magic\u001b[0;34m(self, magic_name, line, cell)\u001b[0m\n\u001b[1;32m   2360\u001b[0m             \u001b[0;32mwith\u001b[0m \u001b[0mself\u001b[0m\u001b[0;34m.\u001b[0m\u001b[0mbuiltin_trap\u001b[0m\u001b[0;34m:\u001b[0m\u001b[0;34m\u001b[0m\u001b[0;34m\u001b[0m\u001b[0m\n\u001b[1;32m   2361\u001b[0m                 \u001b[0margs\u001b[0m \u001b[0;34m=\u001b[0m \u001b[0;34m(\u001b[0m\u001b[0mmagic_arg_s\u001b[0m\u001b[0;34m,\u001b[0m \u001b[0mcell\u001b[0m\u001b[0;34m)\u001b[0m\u001b[0;34m\u001b[0m\u001b[0;34m\u001b[0m\u001b[0m\n\u001b[0;32m-> 2362\u001b[0;31m                 \u001b[0mresult\u001b[0m \u001b[0;34m=\u001b[0m \u001b[0mfn\u001b[0m\u001b[0;34m(\u001b[0m\u001b[0;34m*\u001b[0m\u001b[0margs\u001b[0m\u001b[0;34m,\u001b[0m \u001b[0;34m**\u001b[0m\u001b[0mkwargs\u001b[0m\u001b[0;34m)\u001b[0m\u001b[0;34m\u001b[0m\u001b[0;34m\u001b[0m\u001b[0m\n\u001b[0m\u001b[1;32m   2363\u001b[0m             \u001b[0;32mreturn\u001b[0m \u001b[0mresult\u001b[0m\u001b[0;34m\u001b[0m\u001b[0;34m\u001b[0m\u001b[0m\n\u001b[1;32m   2364\u001b[0m \u001b[0;34m\u001b[0m\u001b[0m\n",
      "\u001b[0;32m</opt/conda/lib/python3.7/site-packages/decorator.py:decorator-gen-125>\u001b[0m in \u001b[0;36mspark\u001b[0;34m(self, *args, **kwargs)\u001b[0m\n",
      "\u001b[0;32m/opt/conda/lib/python3.7/site-packages/IPython/core/magic.py\u001b[0m in \u001b[0;36m<lambda>\u001b[0;34m(f, *a, **k)\u001b[0m\n\u001b[1;32m    185\u001b[0m     \u001b[0;31m# but it's overkill for just that one bit of state.\u001b[0m\u001b[0;34m\u001b[0m\u001b[0;34m\u001b[0m\u001b[0;34m\u001b[0m\u001b[0m\n\u001b[1;32m    186\u001b[0m     \u001b[0;32mdef\u001b[0m \u001b[0mmagic_deco\u001b[0m\u001b[0;34m(\u001b[0m\u001b[0marg\u001b[0m\u001b[0;34m)\u001b[0m\u001b[0;34m:\u001b[0m\u001b[0;34m\u001b[0m\u001b[0;34m\u001b[0m\u001b[0m\n\u001b[0;32m--> 187\u001b[0;31m         \u001b[0mcall\u001b[0m \u001b[0;34m=\u001b[0m \u001b[0;32mlambda\u001b[0m \u001b[0mf\u001b[0m\u001b[0;34m,\u001b[0m \u001b[0;34m*\u001b[0m\u001b[0ma\u001b[0m\u001b[0;34m,\u001b[0m \u001b[0;34m**\u001b[0m\u001b[0mk\u001b[0m\u001b[0;34m:\u001b[0m \u001b[0mf\u001b[0m\u001b[0;34m(\u001b[0m\u001b[0;34m*\u001b[0m\u001b[0ma\u001b[0m\u001b[0;34m,\u001b[0m \u001b[0;34m**\u001b[0m\u001b[0mk\u001b[0m\u001b[0;34m)\u001b[0m\u001b[0;34m\u001b[0m\u001b[0;34m\u001b[0m\u001b[0m\n\u001b[0m\u001b[1;32m    188\u001b[0m \u001b[0;34m\u001b[0m\u001b[0m\n\u001b[1;32m    189\u001b[0m         \u001b[0;32mif\u001b[0m \u001b[0mcallable\u001b[0m\u001b[0;34m(\u001b[0m\u001b[0marg\u001b[0m\u001b[0;34m)\u001b[0m\u001b[0;34m:\u001b[0m\u001b[0;34m\u001b[0m\u001b[0;34m\u001b[0m\u001b[0m\n",
      "\u001b[0;32m/opt/conda/lib/python3.7/site-packages/sparkmagic/livyclientlib/exceptions.py\u001b[0m in \u001b[0;36mwrapped\u001b[0;34m(self, *args, **kwargs)\u001b[0m\n\u001b[1;32m    105\u001b[0m     \u001b[0;32mdef\u001b[0m \u001b[0mwrapped\u001b[0m\u001b[0;34m(\u001b[0m\u001b[0mself\u001b[0m\u001b[0;34m,\u001b[0m \u001b[0;34m*\u001b[0m\u001b[0margs\u001b[0m\u001b[0;34m,\u001b[0m \u001b[0;34m**\u001b[0m\u001b[0mkwargs\u001b[0m\u001b[0;34m)\u001b[0m\u001b[0;34m:\u001b[0m\u001b[0;34m\u001b[0m\u001b[0;34m\u001b[0m\u001b[0m\n\u001b[1;32m    106\u001b[0m         \u001b[0;32mtry\u001b[0m\u001b[0;34m:\u001b[0m\u001b[0;34m\u001b[0m\u001b[0;34m\u001b[0m\u001b[0m\n\u001b[0;32m--> 107\u001b[0;31m             \u001b[0mout\u001b[0m \u001b[0;34m=\u001b[0m \u001b[0mf\u001b[0m\u001b[0;34m(\u001b[0m\u001b[0mself\u001b[0m\u001b[0;34m,\u001b[0m \u001b[0;34m*\u001b[0m\u001b[0margs\u001b[0m\u001b[0;34m,\u001b[0m \u001b[0;34m**\u001b[0m\u001b[0mkwargs\u001b[0m\u001b[0;34m)\u001b[0m\u001b[0;34m\u001b[0m\u001b[0;34m\u001b[0m\u001b[0m\n\u001b[0m\u001b[1;32m    108\u001b[0m         \u001b[0;32mexcept\u001b[0m \u001b[0mException\u001b[0m \u001b[0;32mas\u001b[0m \u001b[0merr\u001b[0m\u001b[0;34m:\u001b[0m\u001b[0;34m\u001b[0m\u001b[0;34m\u001b[0m\u001b[0m\n\u001b[1;32m    109\u001b[0m             \u001b[0;32mif\u001b[0m \u001b[0mconf\u001b[0m\u001b[0;34m.\u001b[0m\u001b[0mall_errors_are_fatal\u001b[0m\u001b[0;34m(\u001b[0m\u001b[0;34m)\u001b[0m\u001b[0;34m:\u001b[0m\u001b[0;34m\u001b[0m\u001b[0;34m\u001b[0m\u001b[0m\n",
      "\u001b[0;32m/opt/conda/lib/python3.7/site-packages/sparkmagic/livyclientlib/exceptions.py\u001b[0m in \u001b[0;36mwrapped\u001b[0;34m(self, *args, **kwargs)\u001b[0m\n\u001b[1;32m     72\u001b[0m     \u001b[0;32mdef\u001b[0m \u001b[0mwrapped\u001b[0m\u001b[0;34m(\u001b[0m\u001b[0mself\u001b[0m\u001b[0;34m,\u001b[0m \u001b[0;34m*\u001b[0m\u001b[0margs\u001b[0m\u001b[0;34m,\u001b[0m \u001b[0;34m**\u001b[0m\u001b[0mkwargs\u001b[0m\u001b[0;34m)\u001b[0m\u001b[0;34m:\u001b[0m\u001b[0;34m\u001b[0m\u001b[0;34m\u001b[0m\u001b[0m\n\u001b[1;32m     73\u001b[0m         \u001b[0;32mtry\u001b[0m\u001b[0;34m:\u001b[0m\u001b[0;34m\u001b[0m\u001b[0;34m\u001b[0m\u001b[0m\n\u001b[0;32m---> 74\u001b[0;31m             \u001b[0mout\u001b[0m \u001b[0;34m=\u001b[0m \u001b[0mf\u001b[0m\u001b[0;34m(\u001b[0m\u001b[0mself\u001b[0m\u001b[0;34m,\u001b[0m \u001b[0;34m*\u001b[0m\u001b[0margs\u001b[0m\u001b[0;34m,\u001b[0m \u001b[0;34m**\u001b[0m\u001b[0mkwargs\u001b[0m\u001b[0;34m)\u001b[0m\u001b[0;34m\u001b[0m\u001b[0;34m\u001b[0m\u001b[0m\n\u001b[0m\u001b[1;32m     75\u001b[0m         \u001b[0;32mexcept\u001b[0m \u001b[0mexceptions_to_handle\u001b[0m \u001b[0;32mas\u001b[0m \u001b[0merr\u001b[0m\u001b[0;34m:\u001b[0m\u001b[0;34m\u001b[0m\u001b[0;34m\u001b[0m\u001b[0m\n\u001b[1;32m     76\u001b[0m             \u001b[0;32mif\u001b[0m \u001b[0mconf\u001b[0m\u001b[0;34m.\u001b[0m\u001b[0mall_errors_are_fatal\u001b[0m\u001b[0;34m(\u001b[0m\u001b[0;34m)\u001b[0m\u001b[0;34m:\u001b[0m\u001b[0;34m\u001b[0m\u001b[0;34m\u001b[0m\u001b[0m\n",
      "\u001b[0;32m/opt/conda/lib/python3.7/site-packages/sparkmagic/kernels/kernelmagics.py\u001b[0m in \u001b[0;36mspark\u001b[0;34m(self, line, cell, local_ns)\u001b[0m\n\u001b[1;32m    263\u001b[0m             \u001b[0mcoerce\u001b[0m \u001b[0;34m=\u001b[0m \u001b[0mget_coerce_value\u001b[0m\u001b[0;34m(\u001b[0m\u001b[0margs\u001b[0m\u001b[0;34m.\u001b[0m\u001b[0mcoerce\u001b[0m\u001b[0;34m)\u001b[0m\u001b[0;34m\u001b[0m\u001b[0;34m\u001b[0m\u001b[0m\n\u001b[1;32m    264\u001b[0m \u001b[0;34m\u001b[0m\u001b[0m\n\u001b[0;32m--> 265\u001b[0;31m             \u001b[0mself\u001b[0m\u001b[0;34m.\u001b[0m\u001b[0mexecute_spark\u001b[0m\u001b[0;34m(\u001b[0m\u001b[0mcell\u001b[0m\u001b[0;34m,\u001b[0m \u001b[0margs\u001b[0m\u001b[0;34m.\u001b[0m\u001b[0moutput\u001b[0m\u001b[0;34m,\u001b[0m \u001b[0margs\u001b[0m\u001b[0;34m.\u001b[0m\u001b[0msamplemethod\u001b[0m\u001b[0;34m,\u001b[0m \u001b[0margs\u001b[0m\u001b[0;34m.\u001b[0m\u001b[0mmaxrows\u001b[0m\u001b[0;34m,\u001b[0m \u001b[0margs\u001b[0m\u001b[0;34m.\u001b[0m\u001b[0msamplefraction\u001b[0m\u001b[0;34m,\u001b[0m \u001b[0;32mNone\u001b[0m\u001b[0;34m,\u001b[0m \u001b[0mcoerce\u001b[0m\u001b[0;34m)\u001b[0m\u001b[0;34m\u001b[0m\u001b[0;34m\u001b[0m\u001b[0m\n\u001b[0m\u001b[1;32m    266\u001b[0m         \u001b[0;32melse\u001b[0m\u001b[0;34m:\u001b[0m\u001b[0;34m\u001b[0m\u001b[0;34m\u001b[0m\u001b[0m\n\u001b[1;32m    267\u001b[0m             \u001b[0;32mreturn\u001b[0m\u001b[0;34m\u001b[0m\u001b[0;34m\u001b[0m\u001b[0m\n",
      "\u001b[0;32m/opt/conda/lib/python3.7/site-packages/sparkmagic/magics/sparkmagicsbase.py\u001b[0m in \u001b[0;36mexecute_spark\u001b[0;34m(self, cell, output_var, samplemethod, maxrows, samplefraction, session_name, coerce)\u001b[0m\n\u001b[1;32m     79\u001b[0m \u001b[0;34m\u001b[0m\u001b[0m\n\u001b[1;32m     80\u001b[0m     \u001b[0;32mdef\u001b[0m \u001b[0mexecute_spark\u001b[0m\u001b[0;34m(\u001b[0m\u001b[0mself\u001b[0m\u001b[0;34m,\u001b[0m \u001b[0mcell\u001b[0m\u001b[0;34m,\u001b[0m \u001b[0moutput_var\u001b[0m\u001b[0;34m,\u001b[0m \u001b[0msamplemethod\u001b[0m\u001b[0;34m,\u001b[0m \u001b[0mmaxrows\u001b[0m\u001b[0;34m,\u001b[0m \u001b[0msamplefraction\u001b[0m\u001b[0;34m,\u001b[0m \u001b[0msession_name\u001b[0m\u001b[0;34m,\u001b[0m \u001b[0mcoerce\u001b[0m\u001b[0;34m)\u001b[0m\u001b[0;34m:\u001b[0m\u001b[0;34m\u001b[0m\u001b[0;34m\u001b[0m\u001b[0m\n\u001b[0;32m---> 81\u001b[0;31m         \u001b[0;34m(\u001b[0m\u001b[0msuccess\u001b[0m\u001b[0;34m,\u001b[0m \u001b[0mout\u001b[0m\u001b[0;34m,\u001b[0m \u001b[0mmimetype\u001b[0m\u001b[0;34m)\u001b[0m \u001b[0;34m=\u001b[0m \u001b[0mself\u001b[0m\u001b[0;34m.\u001b[0m\u001b[0mspark_controller\u001b[0m\u001b[0;34m.\u001b[0m\u001b[0mrun_command\u001b[0m\u001b[0;34m(\u001b[0m\u001b[0mCommand\u001b[0m\u001b[0;34m(\u001b[0m\u001b[0mcell\u001b[0m\u001b[0;34m)\u001b[0m\u001b[0;34m,\u001b[0m \u001b[0msession_name\u001b[0m\u001b[0;34m)\u001b[0m\u001b[0;34m\u001b[0m\u001b[0;34m\u001b[0m\u001b[0m\n\u001b[0m\u001b[1;32m     82\u001b[0m         \u001b[0;32mif\u001b[0m \u001b[0;32mnot\u001b[0m \u001b[0msuccess\u001b[0m\u001b[0;34m:\u001b[0m\u001b[0;34m\u001b[0m\u001b[0;34m\u001b[0m\u001b[0m\n\u001b[1;32m     83\u001b[0m             \u001b[0;32mif\u001b[0m \u001b[0mconf\u001b[0m\u001b[0;34m.\u001b[0m\u001b[0mshutdown_session_on_spark_statement_errors\u001b[0m\u001b[0;34m(\u001b[0m\u001b[0;34m)\u001b[0m\u001b[0;34m:\u001b[0m\u001b[0;34m\u001b[0m\u001b[0;34m\u001b[0m\u001b[0m\n",
      "\u001b[0;32m/opt/conda/lib/python3.7/site-packages/sparkmagic/livyclientlib/sparkcontroller.py\u001b[0m in \u001b[0;36mrun_command\u001b[0;34m(self, command, client_name)\u001b[0m\n\u001b[1;32m     38\u001b[0m     \u001b[0;32mdef\u001b[0m \u001b[0mrun_command\u001b[0m\u001b[0;34m(\u001b[0m\u001b[0mself\u001b[0m\u001b[0;34m,\u001b[0m \u001b[0mcommand\u001b[0m\u001b[0;34m,\u001b[0m \u001b[0mclient_name\u001b[0m\u001b[0;34m=\u001b[0m\u001b[0;32mNone\u001b[0m\u001b[0;34m)\u001b[0m\u001b[0;34m:\u001b[0m\u001b[0;34m\u001b[0m\u001b[0;34m\u001b[0m\u001b[0m\n\u001b[1;32m     39\u001b[0m         \u001b[0msession_to_use\u001b[0m \u001b[0;34m=\u001b[0m \u001b[0mself\u001b[0m\u001b[0;34m.\u001b[0m\u001b[0mget_session_by_name_or_default\u001b[0m\u001b[0;34m(\u001b[0m\u001b[0mclient_name\u001b[0m\u001b[0;34m)\u001b[0m\u001b[0;34m\u001b[0m\u001b[0;34m\u001b[0m\u001b[0m\n\u001b[0;32m---> 40\u001b[0;31m         \u001b[0;32mreturn\u001b[0m \u001b[0mcommand\u001b[0m\u001b[0;34m.\u001b[0m\u001b[0mexecute\u001b[0m\u001b[0;34m(\u001b[0m\u001b[0msession_to_use\u001b[0m\u001b[0;34m)\u001b[0m\u001b[0;34m\u001b[0m\u001b[0;34m\u001b[0m\u001b[0m\n\u001b[0m\u001b[1;32m     41\u001b[0m \u001b[0;34m\u001b[0m\u001b[0m\n\u001b[1;32m     42\u001b[0m     \u001b[0;32mdef\u001b[0m \u001b[0mrun_sqlquery\u001b[0m\u001b[0;34m(\u001b[0m\u001b[0mself\u001b[0m\u001b[0;34m,\u001b[0m \u001b[0msqlquery\u001b[0m\u001b[0;34m,\u001b[0m \u001b[0mclient_name\u001b[0m\u001b[0;34m=\u001b[0m\u001b[0;32mNone\u001b[0m\u001b[0;34m)\u001b[0m\u001b[0;34m:\u001b[0m\u001b[0;34m\u001b[0m\u001b[0;34m\u001b[0m\u001b[0m\n",
      "\u001b[0;32m/opt/conda/lib/python3.7/site-packages/sparkmagic/livyclientlib/command.py\u001b[0m in \u001b[0;36mexecute\u001b[0;34m(self, session)\u001b[0m\n\u001b[1;32m     42\u001b[0m             \u001b[0mresponse\u001b[0m \u001b[0;34m=\u001b[0m \u001b[0msession\u001b[0m\u001b[0;34m.\u001b[0m\u001b[0mhttp_client\u001b[0m\u001b[0;34m.\u001b[0m\u001b[0mpost_statement\u001b[0m\u001b[0;34m(\u001b[0m\u001b[0msession\u001b[0m\u001b[0;34m.\u001b[0m\u001b[0mid\u001b[0m\u001b[0;34m,\u001b[0m \u001b[0mdata\u001b[0m\u001b[0;34m)\u001b[0m\u001b[0;34m\u001b[0m\u001b[0;34m\u001b[0m\u001b[0m\n\u001b[1;32m     43\u001b[0m             \u001b[0mstatement_id\u001b[0m \u001b[0;34m=\u001b[0m \u001b[0mresponse\u001b[0m\u001b[0;34m[\u001b[0m\u001b[0;34mu'id'\u001b[0m\u001b[0;34m]\u001b[0m\u001b[0;34m\u001b[0m\u001b[0;34m\u001b[0m\u001b[0m\n\u001b[0;32m---> 44\u001b[0;31m             \u001b[0moutput\u001b[0m \u001b[0;34m=\u001b[0m \u001b[0mself\u001b[0m\u001b[0;34m.\u001b[0m\u001b[0m_get_statement_output\u001b[0m\u001b[0;34m(\u001b[0m\u001b[0msession\u001b[0m\u001b[0;34m,\u001b[0m \u001b[0mstatement_id\u001b[0m\u001b[0;34m)\u001b[0m\u001b[0;34m\u001b[0m\u001b[0;34m\u001b[0m\u001b[0m\n\u001b[0m\u001b[1;32m     45\u001b[0m         \u001b[0;32mexcept\u001b[0m \u001b[0mException\u001b[0m \u001b[0;32mas\u001b[0m \u001b[0me\u001b[0m\u001b[0;34m:\u001b[0m\u001b[0;34m\u001b[0m\u001b[0;34m\u001b[0m\u001b[0m\n\u001b[1;32m     46\u001b[0m             self._spark_events.emit_statement_execution_end_event(session.guid, session.kind, session.id,\n",
      "\u001b[0;32m/opt/conda/lib/python3.7/site-packages/sparkmagic/livyclientlib/command.py\u001b[0m in \u001b[0;36m_get_statement_output\u001b[0;34m(self, session, statement_id)\u001b[0m\n\u001b[1;32m     74\u001b[0m             \u001b[0;32mif\u001b[0m \u001b[0mstatus\u001b[0m \u001b[0;32mnot\u001b[0m \u001b[0;32min\u001b[0m \u001b[0mFINAL_STATEMENT_STATUS\u001b[0m\u001b[0;34m:\u001b[0m\u001b[0;34m\u001b[0m\u001b[0;34m\u001b[0m\u001b[0m\n\u001b[1;32m     75\u001b[0m                 \u001b[0mprogress\u001b[0m\u001b[0;34m.\u001b[0m\u001b[0mvalue\u001b[0m \u001b[0;34m=\u001b[0m \u001b[0mstatement\u001b[0m\u001b[0;34m.\u001b[0m\u001b[0mget\u001b[0m\u001b[0;34m(\u001b[0m\u001b[0;34m'progress'\u001b[0m\u001b[0;34m,\u001b[0m \u001b[0;36m0.0\u001b[0m\u001b[0;34m)\u001b[0m\u001b[0;34m\u001b[0m\u001b[0;34m\u001b[0m\u001b[0m\n\u001b[0;32m---> 76\u001b[0;31m                 \u001b[0msession\u001b[0m\u001b[0;34m.\u001b[0m\u001b[0msleep\u001b[0m\u001b[0;34m(\u001b[0m\u001b[0mretries\u001b[0m\u001b[0;34m)\u001b[0m\u001b[0;34m\u001b[0m\u001b[0;34m\u001b[0m\u001b[0m\n\u001b[0m\u001b[1;32m     77\u001b[0m                 \u001b[0mretries\u001b[0m \u001b[0;34m+=\u001b[0m \u001b[0;36m1\u001b[0m\u001b[0;34m\u001b[0m\u001b[0;34m\u001b[0m\u001b[0m\n\u001b[1;32m     78\u001b[0m             \u001b[0;32melse\u001b[0m\u001b[0;34m:\u001b[0m\u001b[0;34m\u001b[0m\u001b[0;34m\u001b[0m\u001b[0m\n",
      "\u001b[0;32m/opt/conda/lib/python3.7/site-packages/sparkmagic/livyclientlib/livysession.py\u001b[0m in \u001b[0;36msleep\u001b[0;34m(self, retries)\u001b[0m\n\u001b[1;32m    280\u001b[0m \u001b[0;34m\u001b[0m\u001b[0m\n\u001b[1;32m    281\u001b[0m     \u001b[0;32mdef\u001b[0m \u001b[0msleep\u001b[0m\u001b[0;34m(\u001b[0m\u001b[0mself\u001b[0m\u001b[0;34m,\u001b[0m \u001b[0mretries\u001b[0m\u001b[0;34m)\u001b[0m\u001b[0;34m:\u001b[0m\u001b[0;34m\u001b[0m\u001b[0;34m\u001b[0m\u001b[0m\n\u001b[0;32m--> 282\u001b[0;31m         \u001b[0msleep\u001b[0m\u001b[0;34m(\u001b[0m\u001b[0mself\u001b[0m\u001b[0;34m.\u001b[0m\u001b[0m_policy\u001b[0m\u001b[0;34m.\u001b[0m\u001b[0mseconds_to_sleep\u001b[0m\u001b[0;34m(\u001b[0m\u001b[0mretries\u001b[0m\u001b[0;34m)\u001b[0m\u001b[0;34m)\u001b[0m\u001b[0;34m\u001b[0m\u001b[0;34m\u001b[0m\u001b[0m\n\u001b[0m\u001b[1;32m    283\u001b[0m \u001b[0;34m\u001b[0m\u001b[0m\n\u001b[1;32m    284\u001b[0m     \u001b[0;31m# This function will refresh the status and get the logs in a single call.\u001b[0m\u001b[0;34m\u001b[0m\u001b[0;34m\u001b[0m\u001b[0;34m\u001b[0m\u001b[0m\n",
      "\u001b[0;31mKeyboardInterrupt\u001b[0m: "
     ]
    }
   ],
   "source": [
    "df_pairs_sep_combine.show()"
   ]
  },
  {
   "cell_type": "code",
   "execution_count": 46,
   "metadata": {},
   "outputs": [
    {
     "data": {
      "application/vnd.jupyter.widget-view+json": {
       "model_id": "",
       "version_major": 2,
       "version_minor": 0
      },
      "text/plain": [
       "FloatProgress(value=0.0, bar_style='info', description='Progress:', layout=Layout(height='25px', width='50%'),…"
      ]
     },
     "metadata": {},
     "output_type": "display_data"
    },
    {
     "name": "stdout",
     "output_type": "stream",
     "text": [
      "[(1, 2, 4), (2, 3, 6)]"
     ]
    }
   ],
   "source": [
    "zip([1,2],[2,3],[4,6])"
   ]
  },
  {
   "cell_type": "code",
   "execution_count": 19,
   "metadata": {},
   "outputs": [
    {
     "data": {
      "application/vnd.jupyter.widget-view+json": {
       "model_id": "",
       "version_major": 2,
       "version_minor": 0
      },
      "text/plain": [
       "FloatProgress(value=0.0, bar_style='info', description='Progress:', layout=Layout(height='25px', width='50%'),…"
      ]
     },
     "metadata": {},
     "output_type": "display_data"
    },
    {
     "name": "stdout",
     "output_type": "stream",
     "text": [
      "[(1, 2), (1, 3), (1, 4), (2, 3), (2, 4), (3, 4)]"
     ]
    }
   ],
   "source": [
    "list(itertools.combinations([1,2,3,4],2))"
   ]
  },
  {
   "cell_type": "code",
   "execution_count": null,
   "metadata": {},
   "outputs": [],
   "source": [
    "itertools.combinations([1,2,3,4],2)"
   ]
  },
  {
   "cell_type": "code",
   "execution_count": null,
   "metadata": {},
   "outputs": [],
   "source": [
    "\n",
    "\n",
    "df_grouped.rdd.map(lambda x:x[0]).take(1)"
   ]
  }
 ],
 "metadata": {
  "kernelspec": {
   "display_name": "PySpark",
   "language": "",
   "name": "pysparkkernel"
  },
  "language_info": {
   "codemirror_mode": {
    "name": "python",
    "version": 3
   },
   "mimetype": "text/x-python",
   "name": "pyspark",
   "pygments_lexer": "python3"
  }
 },
 "nbformat": 4,
 "nbformat_minor": 4
}
