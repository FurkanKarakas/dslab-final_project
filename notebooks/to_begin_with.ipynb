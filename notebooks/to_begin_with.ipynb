{
 "cells": [
  {
   "cell_type": "markdown",
   "metadata": {},
   "source": [
    "# To Begin With...\n",
    "\n",
    "### Name your spark application as `GASPAR_final` or `GROUP_NAME_final`.\n",
    "\n",
    "<div class='alert alert-info'><b>Any application without a proper name would be promptly killed.</b></div>"
   ]
  },
  {
   "cell_type": "code",
   "execution_count": 1,
   "metadata": {},
   "outputs": [
    {
     "data": {
      "text/html": [
       "Current session configs: <tt>{'conf': {'spark.app.name': 'oh-my-git_final'}, 'kind': 'pyspark'}</tt><br>"
      ],
      "text/plain": [
       "<IPython.core.display.HTML object>"
      ]
     },
     "metadata": {},
     "output_type": "display_data"
    },
    {
     "data": {
      "text/html": [
       "<table>\n",
       "<tr><th>ID</th><th>YARN Application ID</th><th>Kind</th><th>State</th><th>Spark UI</th><th>Driver log</th><th>Current session?</th></tr><tr><td>5901</td><td>application_1589299642358_0390</td><td>pyspark</td><td>idle</td><td><a target=\"_blank\" href=\"http://iccluster044.iccluster.epfl.ch:8088/proxy/application_1589299642358_0390/\">Link</a></td><td><a target=\"_blank\" href=\"http://iccluster067.iccluster.epfl.ch:8042/node/containerlogs/container_e06_1589299642358_0390_01_000001/ebouille\">Link</a></td><td></td></tr><tr><td>5906</td><td>application_1589299642358_0395</td><td>pyspark</td><td>busy</td><td><a target=\"_blank\" href=\"http://iccluster044.iccluster.epfl.ch:8088/proxy/application_1589299642358_0395/\">Link</a></td><td><a target=\"_blank\" href=\"http://iccluster065.iccluster.epfl.ch:8042/node/containerlogs/container_e06_1589299642358_0395_01_000001/ebouille\">Link</a></td><td></td></tr><tr><td>5908</td><td>application_1589299642358_0397</td><td>pyspark</td><td>idle</td><td><a target=\"_blank\" href=\"http://iccluster044.iccluster.epfl.ch:8088/proxy/application_1589299642358_0397/\">Link</a></td><td><a target=\"_blank\" href=\"http://iccluster069.iccluster.epfl.ch:8042/node/containerlogs/container_e06_1589299642358_0397_01_000001/ebouille\">Link</a></td><td></td></tr><tr><td>5911</td><td>application_1589299642358_0400</td><td>pyspark</td><td>dead</td><td><a target=\"_blank\" href=\"http://iccluster044.iccluster.epfl.ch:8088/cluster/app/application_1589299642358_0400\">Link</a></td><td><a target=\"_blank\" href=\"http://iccluster054.iccluster.epfl.ch:8188/applicationhistory/logs/iccluster072.iccluster.epfl.ch:45454/container_e06_1589299642358_0400_01_000001/container_e06_1589299642358_0400_01_000001/ebouille\">Link</a></td><td></td></tr><tr><td>5915</td><td>application_1589299642358_0404</td><td>pyspark</td><td>idle</td><td><a target=\"_blank\" href=\"http://iccluster044.iccluster.epfl.ch:8088/proxy/application_1589299642358_0404/\">Link</a></td><td><a target=\"_blank\" href=\"http://iccluster069.iccluster.epfl.ch:8042/node/containerlogs/container_e06_1589299642358_0404_01_000001/ebouille\">Link</a></td><td></td></tr><tr><td>5919</td><td>application_1589299642358_0408</td><td>pyspark</td><td>idle</td><td><a target=\"_blank\" href=\"http://iccluster044.iccluster.epfl.ch:8088/proxy/application_1589299642358_0408/\">Link</a></td><td><a target=\"_blank\" href=\"http://iccluster072.iccluster.epfl.ch:8042/node/containerlogs/container_e06_1589299642358_0408_01_000001/ebouille\">Link</a></td><td></td></tr><tr><td>5920</td><td>application_1589299642358_0409</td><td>pyspark</td><td>idle</td><td><a target=\"_blank\" href=\"http://iccluster044.iccluster.epfl.ch:8088/proxy/application_1589299642358_0409/\">Link</a></td><td><a target=\"_blank\" href=\"http://iccluster071.iccluster.epfl.ch:8042/node/containerlogs/container_e06_1589299642358_0409_01_000001/ebouille\">Link</a></td><td></td></tr><tr><td>5921</td><td>application_1589299642358_0410</td><td>pyspark</td><td>idle</td><td><a target=\"_blank\" href=\"http://iccluster044.iccluster.epfl.ch:8088/proxy/application_1589299642358_0410/\">Link</a></td><td><a target=\"_blank\" href=\"http://iccluster066.iccluster.epfl.ch:8042/node/containerlogs/container_e06_1589299642358_0410_01_000001/ebouille\">Link</a></td><td></td></tr><tr><td>5923</td><td>application_1589299642358_0412</td><td>pyspark</td><td>idle</td><td><a target=\"_blank\" href=\"http://iccluster044.iccluster.epfl.ch:8088/proxy/application_1589299642358_0412/\">Link</a></td><td><a target=\"_blank\" href=\"http://iccluster066.iccluster.epfl.ch:8042/node/containerlogs/container_e06_1589299642358_0412_01_000001/ebouille\">Link</a></td><td></td></tr><tr><td>5925</td><td>application_1589299642358_0414</td><td>pyspark</td><td>busy</td><td><a target=\"_blank\" href=\"http://iccluster044.iccluster.epfl.ch:8088/proxy/application_1589299642358_0414/\">Link</a></td><td><a target=\"_blank\" href=\"http://iccluster070.iccluster.epfl.ch:8042/node/containerlogs/container_e06_1589299642358_0414_01_000001/ebouille\">Link</a></td><td></td></tr><tr><td>5927</td><td>application_1589299642358_0416</td><td>pyspark</td><td>idle</td><td><a target=\"_blank\" href=\"http://iccluster044.iccluster.epfl.ch:8088/proxy/application_1589299642358_0416/\">Link</a></td><td><a target=\"_blank\" href=\"http://iccluster069.iccluster.epfl.ch:8042/node/containerlogs/container_e06_1589299642358_0416_01_000001/ebouille\">Link</a></td><td></td></tr><tr><td>5928</td><td>application_1589299642358_0417</td><td>pyspark</td><td>idle</td><td><a target=\"_blank\" href=\"http://iccluster044.iccluster.epfl.ch:8088/proxy/application_1589299642358_0417/\">Link</a></td><td><a target=\"_blank\" href=\"http://iccluster070.iccluster.epfl.ch:8042/node/containerlogs/container_e06_1589299642358_0417_01_000001/ebouille\">Link</a></td><td></td></tr><tr><td>5930</td><td>application_1589299642358_0419</td><td>pyspark</td><td>idle</td><td><a target=\"_blank\" href=\"http://iccluster044.iccluster.epfl.ch:8088/proxy/application_1589299642358_0419/\">Link</a></td><td><a target=\"_blank\" href=\"http://iccluster066.iccluster.epfl.ch:8042/node/containerlogs/container_e06_1589299642358_0419_01_000001/ebouille\">Link</a></td><td></td></tr><tr><td>5931</td><td>application_1589299642358_0420</td><td>pyspark</td><td>busy</td><td><a target=\"_blank\" href=\"http://iccluster044.iccluster.epfl.ch:8088/proxy/application_1589299642358_0420/\">Link</a></td><td><a target=\"_blank\" href=\"http://iccluster068.iccluster.epfl.ch:8042/node/containerlogs/container_e06_1589299642358_0420_01_000001/ebouille\">Link</a></td><td></td></tr></table>"
      ],
      "text/plain": [
       "<IPython.core.display.HTML object>"
      ]
     },
     "metadata": {},
     "output_type": "display_data"
    }
   ],
   "source": [
    "%%configure\n",
    "{\"conf\": {\n",
    "    \"spark.app.name\":\"oh-my-git_final\"\n",
    "}}"
   ]
  },
  {
   "cell_type": "markdown",
   "metadata": {},
   "source": [
    "### Start Spark"
   ]
  },
  {
   "cell_type": "code",
   "execution_count": 2,
   "metadata": {},
   "outputs": [
    {
     "name": "stdout",
     "output_type": "stream",
     "text": [
      "Starting Spark application\n"
     ]
    },
    {
     "data": {
      "text/html": [
       "<table>\n",
       "<tr><th>ID</th><th>YARN Application ID</th><th>Kind</th><th>State</th><th>Spark UI</th><th>Driver log</th><th>Current session?</th></tr><tr><td>5932</td><td>application_1589299642358_0421</td><td>pyspark</td><td>idle</td><td><a target=\"_blank\" href=\"http://iccluster044.iccluster.epfl.ch:8088/proxy/application_1589299642358_0421/\">Link</a></td><td><a target=\"_blank\" href=\"http://iccluster067.iccluster.epfl.ch:8042/node/containerlogs/container_e06_1589299642358_0421_01_000001/ebouille\">Link</a></td><td>✔</td></tr></table>"
      ],
      "text/plain": [
       "<IPython.core.display.HTML object>"
      ]
     },
     "metadata": {},
     "output_type": "display_data"
    },
    {
     "data": {
      "application/vnd.jupyter.widget-view+json": {
       "model_id": "",
       "version_major": 2,
       "version_minor": 0
      },
      "text/plain": [
       "FloatProgress(value=0.0, bar_style='info', description='Progress:', layout=Layout(height='25px', width='50%'),…"
      ]
     },
     "metadata": {},
     "output_type": "display_data"
    },
    {
     "name": "stdout",
     "output_type": "stream",
     "text": [
      "SparkSession available as 'spark'.\n"
     ]
    },
    {
     "data": {
      "application/vnd.jupyter.widget-view+json": {
       "model_id": "",
       "version_major": 2,
       "version_minor": 0
      },
      "text/plain": [
       "FloatProgress(value=0.0, bar_style='info', description='Progress:', layout=Layout(height='25px', width='50%'),…"
      ]
     },
     "metadata": {},
     "output_type": "display_data"
    }
   ],
   "source": [
    "# Initialization"
   ]
  },
  {
   "cell_type": "markdown",
   "metadata": {},
   "source": [
    "### Read the [SBB actual data](https://opentransportdata.swiss/en/dataset/istdaten) in ORC format"
   ]
  },
  {
   "cell_type": "code",
   "execution_count": 3,
   "metadata": {},
   "outputs": [
    {
     "data": {
      "application/vnd.jupyter.widget-view+json": {
       "model_id": "",
       "version_major": 2,
       "version_minor": 0
      },
      "text/plain": [
       "FloatProgress(value=0.0, bar_style='info', description='Progress:', layout=Layout(height='25px', width='50%'),…"
      ]
     },
     "metadata": {},
     "output_type": "display_data"
    }
   ],
   "source": [
    "sbb = spark.read.orc('/data/sbb/orc/istdaten')"
   ]
  },
  {
   "cell_type": "code",
   "execution_count": 4,
   "metadata": {},
   "outputs": [
    {
     "data": {
      "application/vnd.jupyter.widget-view+json": {
       "model_id": "",
       "version_major": 2,
       "version_minor": 0
      },
      "text/plain": [
       "FloatProgress(value=0.0, bar_style='info', description='Progress:', layout=Layout(height='25px', width='50%'),…"
      ]
     },
     "metadata": {},
     "output_type": "display_data"
    },
    {
     "name": "stdout",
     "output_type": "stream",
     "text": [
      "root\n",
      " |-- betriebstag: string (nullable = true)\n",
      " |-- fahrt_bezeichner: string (nullable = true)\n",
      " |-- betreiber_id: string (nullable = true)\n",
      " |-- betreiber_abk: string (nullable = true)\n",
      " |-- betreiber_name: string (nullable = true)\n",
      " |-- produkt_id: string (nullable = true)\n",
      " |-- linien_id: string (nullable = true)\n",
      " |-- linien_text: string (nullable = true)\n",
      " |-- umlauf_id: string (nullable = true)\n",
      " |-- verkehrsmittel_text: string (nullable = true)\n",
      " |-- zusatzfahrt_tf: string (nullable = true)\n",
      " |-- faellt_aus_tf: string (nullable = true)\n",
      " |-- bpuic: string (nullable = true)\n",
      " |-- haltestellen_name: string (nullable = true)\n",
      " |-- ankunftszeit: string (nullable = true)\n",
      " |-- an_prognose: string (nullable = true)\n",
      " |-- an_prognose_status: string (nullable = true)\n",
      " |-- abfahrtszeit: string (nullable = true)\n",
      " |-- ab_prognose: string (nullable = true)\n",
      " |-- ab_prognose_status: string (nullable = true)\n",
      " |-- durchfahrt_tf: string (nullable = true)"
     ]
    }
   ],
   "source": [
    "sbb.printSchema()"
   ]
  },
  {
   "cell_type": "markdown",
   "metadata": {},
   "source": [
    "### Read the station list data [BFKOORD_GEO](https://opentransportdata.swiss/en/cookbook/hafas-rohdaten-format-hrdf/#Abgrenzung)"
   ]
  },
  {
   "cell_type": "code",
   "execution_count": 5,
   "metadata": {},
   "outputs": [
    {
     "data": {
      "application/vnd.jupyter.widget-view+json": {
       "model_id": "",
       "version_major": 2,
       "version_minor": 0
      },
      "text/plain": [
       "FloatProgress(value=0.0, bar_style='info', description='Progress:', layout=Layout(height='25px', width='50%'),…"
      ]
     },
     "metadata": {},
     "output_type": "display_data"
    }
   ],
   "source": [
    "metadata = spark.read.csv('/data/sbb/stations/bfkoordgeo.csv', header=True)"
   ]
  },
  {
   "cell_type": "code",
   "execution_count": 6,
   "metadata": {},
   "outputs": [
    {
     "data": {
      "application/vnd.jupyter.widget-view+json": {
       "model_id": "",
       "version_major": 2,
       "version_minor": 0
      },
      "text/plain": [
       "FloatProgress(value=0.0, bar_style='info', description='Progress:', layout=Layout(height='25px', width='50%'),…"
      ]
     },
     "metadata": {},
     "output_type": "display_data"
    },
    {
     "name": "stdout",
     "output_type": "stream",
     "text": [
      "root\n",
      " |-- StationID: string (nullable = true)\n",
      " |-- Longitude: string (nullable = true)\n",
      " |-- Latitude: string (nullable = true)\n",
      " |-- Height: string (nullable = true)\n",
      " |-- Remark: string (nullable = true)"
     ]
    }
   ],
   "source": [
    "metadata.printSchema()"
   ]
  },
  {
   "cell_type": "code",
   "execution_count": 7,
   "metadata": {},
   "outputs": [
    {
     "data": {
      "application/vnd.jupyter.widget-view+json": {
       "model_id": "",
       "version_major": 2,
       "version_minor": 0
      },
      "text/plain": [
       "FloatProgress(value=0.0, bar_style='info', description='Progress:', layout=Layout(height='25px', width='50%'),…"
      ]
     },
     "metadata": {},
     "output_type": "display_data"
    },
    {
     "name": "stdout",
     "output_type": "stream",
     "text": [
      "+---------+---------+---------+------+----------------+\n",
      "|StationID|Longitude| Latitude|Height|          Remark|\n",
      "+---------+---------+---------+------+----------------+\n",
      "|  0000002|26.074412|44.446770|     0|       Bucuresti|\n",
      "|  0000003| 1.811446|50.901549|     0|          Calais|\n",
      "|  0000004| 1.075329|51.284212|     0|      Canterbury|\n",
      "|  0000005|-3.543547|50.729172|     0|          Exeter|\n",
      "|  0000007| 9.733756|46.922368|   744|Fideris, Bahnhof|\n",
      "+---------+---------+---------+------+----------------+\n",
      "only showing top 5 rows"
     ]
    }
   ],
   "source": [
    "metadata.show(5)"
   ]
  },
  {
   "cell_type": "code",
   "execution_count": null,
   "metadata": {},
   "outputs": [],
   "source": []
  },
  {
   "cell_type": "markdown",
   "metadata": {},
   "source": [
    "# Erdem testing"
   ]
  },
  {
   "cell_type": "code",
   "execution_count": 45,
   "metadata": {},
   "outputs": [
    {
     "data": {
      "application/vnd.jupyter.widget-view+json": {
       "model_id": "",
       "version_major": 2,
       "version_minor": 0
      },
      "text/plain": [
       "FloatProgress(value=0.0, bar_style='info', description='Progress:', layout=Layout(height='25px', width='50%'),…"
      ]
     },
     "metadata": {},
     "output_type": "display_data"
    },
    {
     "name": "stdout",
     "output_type": "stream",
     "text": [
      "234402.47499"
     ]
    }
   ],
   "source": [
    "from geopy import distance\n",
    "import pyspark.sql.types as T\n",
    "import pyspark.sql.functions  as F\n",
    "from pyspark.sql.window import Window\n",
    "import datetime\n",
    "\n",
    "zurichHB = (47.378177, 8.540192)\n",
    "cleveland_oh = (49.378177, 9.540192)\n",
    "print(distance.distance(zurichHB, cleveland_oh).m)"
   ]
  },
  {
   "cell_type": "code",
   "execution_count": 9,
   "metadata": {},
   "outputs": [
    {
     "data": {
      "application/vnd.jupyter.widget-view+json": {
       "model_id": "",
       "version_major": 2,
       "version_minor": 0
      },
      "text/plain": [
       "FloatProgress(value=0.0, bar_style='info', description='Progress:', layout=Layout(height='25px', width='50%'),…"
      ]
     },
     "metadata": {},
     "output_type": "display_data"
    }
   ],
   "source": [
    "spark.read.orc(\"hdfs:///data/sbb/timetables/orc/stop_times\").registerTempTable(\"stop_times_df\")\n"
   ]
  },
  {
   "cell_type": "code",
   "execution_count": 10,
   "metadata": {},
   "outputs": [
    {
     "data": {
      "application/vnd.jupyter.widget-view+json": {
       "model_id": "",
       "version_major": 2,
       "version_minor": 0
      },
      "text/plain": [
       "FloatProgress(value=0.0, bar_style='info', description='Progress:', layout=Layout(height='25px', width='50%'),…"
      ]
     },
     "metadata": {},
     "output_type": "display_data"
    }
   ],
   "source": [
    "stop_times_df = spark.read.orc(\"hdfs:///data/sbb/timetables/orc/stop_times\")\n",
    "stops_df = spark.read.orc(\"hdfs:///data/sbb/timetables/orc/stops\")\n",
    "trips_df = spark.read.orc(\"hdfs:///data/sbb/timetables/orc/trips\")\n",
    "calendar_df = spark.read.orc(\"hdfs:///data/sbb/timetables/orc/calendar\")\n",
    "routes_df = spark.read.orc(\"hdfs:///data/sbb/timetables/orc/routes\")"
   ]
  },
  {
   "cell_type": "code",
   "execution_count": 11,
   "metadata": {},
   "outputs": [
    {
     "data": {
      "application/vnd.jupyter.widget-view+json": {
       "model_id": "",
       "version_major": 2,
       "version_minor": 0
      },
      "text/plain": [
       "FloatProgress(value=0.0, bar_style='info', description='Progress:', layout=Layout(height='25px', width='50%'),…"
      ]
     },
     "metadata": {},
     "output_type": "display_data"
    },
    {
     "name": "stdout",
     "output_type": "stream",
     "text": [
      "+-----------+----------+--------------------+------------------+---------------+------------+\n",
      "|   route_id|service_id|             trip_id|     trip_headsign|trip_short_name|direction_id|\n",
      "+-----------+----------+--------------------+------------------+---------------+------------+\n",
      "|1-1-C-j19-1|  TA+b0001|5.TA.1-1-C-j19-1.3.R|Zofingen, Altachen|            108|           1|\n",
      "|1-1-C-j19-1|  TA+b0001|7.TA.1-1-C-j19-1.3.R|Zofingen, Altachen|            112|           1|\n",
      "|1-1-C-j19-1|  TA+b0001|9.TA.1-1-C-j19-1.3.R|Zofingen, Altachen|            116|           1|\n",
      "|1-1-C-j19-1|  TA+b0001|11.TA.1-1-C-j19-1...|Zofingen, Altachen|            120|           1|\n",
      "|1-1-C-j19-1|  TA+b0001|13.TA.1-1-C-j19-1...|Zofingen, Altachen|            124|           1|\n",
      "+-----------+----------+--------------------+------------------+---------------+------------+\n",
      "only showing top 5 rows"
     ]
    }
   ],
   "source": [
    "trips_df.show(5)"
   ]
  },
  {
   "cell_type": "code",
   "execution_count": 12,
   "metadata": {},
   "outputs": [
    {
     "data": {
      "application/vnd.jupyter.widget-view+json": {
       "model_id": "",
       "version_major": 2,
       "version_minor": 0
      },
      "text/plain": [
       "FloatProgress(value=0.0, bar_style='info', description='Progress:', layout=Layout(height='25px', width='50%'),…"
      ]
     },
     "metadata": {},
     "output_type": "display_data"
    },
    {
     "name": "stdout",
     "output_type": "stream",
     "text": [
      "+----------+------+-------+---------+--------+------+--------+------+\n",
      "|service_id|monday|tuesday|wednesday|thursday|friday|saturday|sunday|\n",
      "+----------+------+-------+---------+--------+------+--------+------+\n",
      "|  TA+b0nx9|  true|   true|     true|    true|  true|   false| false|\n",
      "|  TA+b03bf|  true|   true|     true|    true|  true|   false| false|\n",
      "|  TA+b0008|  true|   true|     true|    true|  true|   false| false|\n",
      "|  TA+b0nxg|  true|   true|     true|    true|  true|   false| false|\n",
      "|  TA+b08k4|  true|  false|    false|   false| false|   false| false|\n",
      "+----------+------+-------+---------+--------+------+--------+------+\n",
      "only showing top 5 rows"
     ]
    }
   ],
   "source": [
    "calendar_df.show(5)"
   ]
  },
  {
   "cell_type": "code",
   "execution_count": 13,
   "metadata": {},
   "outputs": [
    {
     "data": {
      "application/vnd.jupyter.widget-view+json": {
       "model_id": "",
       "version_major": 2,
       "version_minor": 0
      },
      "text/plain": [
       "FloatProgress(value=0.0, bar_style='info', description='Progress:', layout=Layout(height='25px', width='50%'),…"
      ]
     },
     "metadata": {},
     "output_type": "display_data"
    },
    {
     "name": "stdout",
     "output_type": "stream",
     "text": [
      "+-----------+---------+----------------+---------------+----------+----------+\n",
      "|   route_id|agency_id|route_short_name|route_long_name|route_desc|route_type|\n",
      "+-----------+---------+----------------+---------------+----------+----------+\n",
      "|11-40-j19-1|      801|             040|               |       Bus|       700|\n",
      "|11-61-j19-1|     7031|             061|               |       Bus|       700|\n",
      "|11-62-j19-1|     7031|             062|               |       Bus|       700|\n",
      "|24-64-j19-1|      801|             064|               |       Bus|       700|\n",
      "|11-83-j19-1|      801|             083|               |       Bus|       700|\n",
      "+-----------+---------+----------------+---------------+----------+----------+\n",
      "only showing top 5 rows"
     ]
    }
   ],
   "source": [
    "routes_df.show(5)"
   ]
  },
  {
   "cell_type": "code",
   "execution_count": 14,
   "metadata": {},
   "outputs": [
    {
     "data": {
      "application/vnd.jupyter.widget-view+json": {
       "model_id": "",
       "version_major": 2,
       "version_minor": 0
      },
      "text/plain": [
       "FloatProgress(value=0.0, bar_style='info', description='Progress:', layout=Layout(height='25px', width='50%'),…"
      ]
     },
     "metadata": {},
     "output_type": "display_data"
    }
   ],
   "source": [
    "@F.udf(T.DoubleType())\n",
    "def getDistToZurich(lat,lon):\n",
    "    zurichHB = (47.378177, 8.540192)\n",
    "    geo = (lat,lon)\n",
    "    return distance.distance(zurichHB, geo).km\n",
    "stops_inradius_df= stops_df.withColumn(\"dist\",getDistToZurich(\"stop_lat\",\"stop_lon\")).filter(\"dist <= 15\")"
   ]
  },
  {
   "cell_type": "code",
   "execution_count": 15,
   "metadata": {},
   "outputs": [
    {
     "data": {
      "application/vnd.jupyter.widget-view+json": {
       "model_id": "",
       "version_major": 2,
       "version_minor": 0
      },
      "text/plain": [
       "FloatProgress(value=0.0, bar_style='info', description='Progress:', layout=Layout(height='25px', width='50%'),…"
      ]
     },
     "metadata": {},
     "output_type": "display_data"
    },
    {
     "name": "stdout",
     "output_type": "stream",
     "text": [
      "+-------+--------------------+----------------+----------------+-------------+--------------+\n",
      "|stop_id|           stop_name|        stop_lat|        stop_lon|location_type|parent_station|\n",
      "+-------+--------------------+----------------+----------------+-------------+--------------+\n",
      "|1322000|            Altoggio|46.1672513851495|  8.345807131427|             |              |\n",
      "|1322001|        Antronapiana| 46.060121674738|8.11361957990831|             |              |\n",
      "|1322002|              Anzola|45.9898698225697|8.34571729989858|             |              |\n",
      "|1322003|              Baceno|46.2614983591677|8.31925293162473|             |              |\n",
      "|1322004|Beura Cardezza, c...|46.0790618438814|8.29927439970313|             |              |\n",
      "+-------+--------------------+----------------+----------------+-------------+--------------+\n",
      "only showing top 5 rows"
     ]
    }
   ],
   "source": [
    "stops_df.show(5)"
   ]
  },
  {
   "cell_type": "code",
   "execution_count": 16,
   "metadata": {},
   "outputs": [
    {
     "data": {
      "application/vnd.jupyter.widget-view+json": {
       "model_id": "",
       "version_major": 2,
       "version_minor": 0
      },
      "text/plain": [
       "FloatProgress(value=0.0, bar_style='info', description='Progress:', layout=Layout(height='25px', width='50%'),…"
      ]
     },
     "metadata": {},
     "output_type": "display_data"
    },
    {
     "name": "stdout",
     "output_type": "stream",
     "text": [
      "30631"
     ]
    }
   ],
   "source": [
    "stops_df.withColumn(\"dist\",getDistToZurich(\"stop_lat\",\"stop_lon\")).count()\n"
   ]
  },
  {
   "cell_type": "code",
   "execution_count": 17,
   "metadata": {},
   "outputs": [
    {
     "data": {
      "application/vnd.jupyter.widget-view+json": {
       "model_id": "",
       "version_major": 2,
       "version_minor": 0
      },
      "text/plain": [
       "FloatProgress(value=0.0, bar_style='info', description='Progress:', layout=Layout(height='25px', width='50%'),…"
      ]
     },
     "metadata": {},
     "output_type": "display_data"
    },
    {
     "name": "stdout",
     "output_type": "stream",
     "text": [
      "1880"
     ]
    }
   ],
   "source": [
    "stops_df.withColumn(\"dist\",getDistToZurich(\"stop_lat\",\"stop_lon\")).filter(\"dist <= 15\").count()"
   ]
  },
  {
   "cell_type": "code",
   "execution_count": 18,
   "metadata": {},
   "outputs": [
    {
     "data": {
      "application/vnd.jupyter.widget-view+json": {
       "model_id": "",
       "version_major": 2,
       "version_minor": 0
      },
      "text/plain": [
       "FloatProgress(value=0.0, bar_style='info', description='Progress:', layout=Layout(height='25px', width='50%'),…"
      ]
     },
     "metadata": {},
     "output_type": "display_data"
    }
   ],
   "source": [
    "stops_inradius_df= stops_df.withColumn(\"dist\",getDistToZurich(\"stop_lat\",\"stop_lon\")).filter(\"dist <= 15\")"
   ]
  },
  {
   "cell_type": "code",
   "execution_count": 19,
   "metadata": {},
   "outputs": [
    {
     "data": {
      "application/vnd.jupyter.widget-view+json": {
       "model_id": "",
       "version_major": 2,
       "version_minor": 0
      },
      "text/plain": [
       "FloatProgress(value=0.0, bar_style='info', description='Progress:', layout=Layout(height='25px', width='50%'),…"
      ]
     },
     "metadata": {},
     "output_type": "display_data"
    },
    {
     "name": "stdout",
     "output_type": "stream",
     "text": [
      "+-----------+--------------------+----------------+----------------+-------------+--------------+------------------+\n",
      "|    stop_id|           stop_name|        stop_lat|        stop_lon|location_type|parent_station|              dist|\n",
      "+-----------+--------------------+----------------+----------------+-------------+--------------+------------------+\n",
      "|    8500926|Oetwil a.d.L., Sc...|47.4236270123012| 8.4031825286317|             |              |11.510621170348637|\n",
      "|    8502186|Dietikon Stoffelbach|47.3934058321612|8.39894248049007|             |      8502186P|10.798854022201352|\n",
      "|8502186:0:1|Dietikon Stoffelbach|47.3934666445388|8.39894248049007|             |      8502186P|10.799910068148662|\n",
      "|8502186:0:2|Dietikon Stoffelbach|47.3935274568464|8.39894248049007|             |      8502186P|10.800970241796682|\n",
      "|   8502186P|Dietikon Stoffelbach|47.3934058321612|8.39894248049007|            1|              |10.798854022201352|\n",
      "+-----------+--------------------+----------------+----------------+-------------+--------------+------------------+\n",
      "only showing top 5 rows"
     ]
    }
   ],
   "source": [
    "stops_inradius_df.show(5)"
   ]
  },
  {
   "cell_type": "code",
   "execution_count": 20,
   "metadata": {},
   "outputs": [
    {
     "data": {
      "application/vnd.jupyter.widget-view+json": {
       "model_id": "",
       "version_major": 2,
       "version_minor": 0
      },
      "text/plain": [
       "FloatProgress(value=0.0, bar_style='info', description='Progress:', layout=Layout(height='25px', width='50%'),…"
      ]
     },
     "metadata": {},
     "output_type": "display_data"
    },
    {
     "name": "stdout",
     "output_type": "stream",
     "text": [
      "+--------------------+------------+--------------+-----------+-------------+\n",
      "|             trip_id|arrival_time|departure_time|    stop_id|stop_sequence|\n",
      "+--------------------+------------+--------------+-----------+-------------+\n",
      "|1.TA.1-1-B-j19-1.1.R|    04:20:00|      04:20:00|8500010:0:3|            1|\n",
      "|1.TA.1-1-B-j19-1.1.R|    04:24:00|      04:24:00|8500020:0:3|            2|\n",
      "|1.TA.1-1-B-j19-1.1.R|    04:28:00|      04:28:00|8500021:0:5|            3|\n",
      "|1.TA.1-1-B-j19-1.1.R|    04:30:00|      04:30:00|8517131:0:2|            4|\n",
      "|1.TA.1-1-B-j19-1.1.R|    04:32:00|      04:32:00|8500300:0:5|            5|\n",
      "+--------------------+------------+--------------+-----------+-------------+\n",
      "only showing top 5 rows"
     ]
    }
   ],
   "source": [
    "\n",
    "stop_times_df = stop_times_df.drop(\"pickup_type\",\"drop_off_type\")\n",
    "stop_times_df.show(5)"
   ]
  },
  {
   "cell_type": "markdown",
   "metadata": {},
   "source": [
    "# Get stops in radius of 15km"
   ]
  },
  {
   "cell_type": "code",
   "execution_count": 21,
   "metadata": {},
   "outputs": [
    {
     "data": {
      "application/vnd.jupyter.widget-view+json": {
       "model_id": "",
       "version_major": 2,
       "version_minor": 0
      },
      "text/plain": [
       "FloatProgress(value=0.0, bar_style='info', description='Progress:', layout=Layout(height='25px', width='50%'),…"
      ]
     },
     "metadata": {},
     "output_type": "display_data"
    },
    {
     "name": "stdout",
     "output_type": "stream",
     "text": [
      "+--------------------+------------+--------------+---------------+-------------+------------------+----------------+----------------+-------------+--------------+\n",
      "|             trip_id|arrival_time|departure_time|        stop_id|stop_sequence|         stop_name|        stop_lat|        stop_lon|location_type|parent_station|\n",
      "+--------------------+------------+--------------+---------------+-------------+------------------+----------------+----------------+-------------+--------------+\n",
      "|5.TA.1-1-A-j19-1.3.H|    02:42:00|      02:42:00|    8503305:0:3|            2|        Effretikon|  47.42593043029|8.68666388288076|             |      8503305P|\n",
      "|5.TA.1-1-A-j19-1.3.H|    02:46:00|      02:46:00|    8503306:0:3|            3|         Dietlikon|47.4203145327083|8.61925430395105|             |      8503306P|\n",
      "|5.TA.1-1-A-j19-1.3.H|    02:50:00|      02:50:00|    8503147:0:1|            4|         Stettbach| 47.397334167601|8.59613166853459|             |      8503147P|\n",
      "|5.TA.1-1-A-j19-1.3.H|    02:55:00|      02:55:00|    8503003:0:1|            5|Zürich Stadelhofen|47.3667936853425|8.54846705955257|             |      8503003P|\n",
      "|5.TA.1-1-A-j19-1.3.H|    02:58:00|      03:00:00|8503000:0:41/42|            6|         Zürich HB|47.3782370338962|8.54019357578468|             |      8503000P|\n",
      "+--------------------+------------+--------------+---------------+-------------+------------------+----------------+----------------+-------------+--------------+\n",
      "only showing top 5 rows"
     ]
    }
   ],
   "source": [
    "stops_inradius_df = stops_inradius_df.drop(\"dist\")\n",
    "stops_joined_df = stop_times_df.join(stops_inradius_df,stop_times_df.stop_id == stops_inradius_df.stop_id ).drop(stops_inradius_df.stop_id)\n",
    "stops_joined_df.show(5)"
   ]
  },
  {
   "cell_type": "code",
   "execution_count": 22,
   "metadata": {},
   "outputs": [
    {
     "data": {
      "application/vnd.jupyter.widget-view+json": {
       "model_id": "",
       "version_major": 2,
       "version_minor": 0
      },
      "text/plain": [
       "FloatProgress(value=0.0, bar_style='info', description='Progress:', layout=Layout(height='25px', width='50%'),…"
      ]
     },
     "metadata": {},
     "output_type": "display_data"
    },
    {
     "name": "stdout",
     "output_type": "stream",
     "text": [
      "+--------+---------+----------------+----------------+-------------+--------------+\n",
      "| stop_id|stop_name|        stop_lat|        stop_lon|location_type|parent_station|\n",
      "+--------+---------+----------------+----------------+-------------+--------------+\n",
      "|8503306P|Dietlikon|47.4201929698596|8.61925430395105|            1|              |\n",
      "+--------+---------+----------------+----------------+-------------+--------------+"
     ]
    }
   ],
   "source": [
    "stops_inradius_df.filter(\"stop_id == '8503306P' \").show(5)"
   ]
  },
  {
   "cell_type": "markdown",
   "metadata": {},
   "source": [
    "# Create stop connections "
   ]
  },
  {
   "cell_type": "code",
   "execution_count": 23,
   "metadata": {},
   "outputs": [
    {
     "data": {
      "application/vnd.jupyter.widget-view+json": {
       "model_id": "",
       "version_major": 2,
       "version_minor": 0
      },
      "text/plain": [
       "FloatProgress(value=0.0, bar_style='info', description='Progress:', layout=Layout(height='25px', width='50%'),…"
      ]
     },
     "metadata": {},
     "output_type": "display_data"
    }
   ],
   "source": [
    "w1 = Window.partitionBy(\"trip_id\").orderBy(\"arrival_time\")\n",
    "#Previous stop name\n",
    "df_prev_stop = stops_joined_df.withColumn('prev_stop_name',\n",
    "                        F.lag(stops_joined_df.stop_name)\n",
    "                                 .over(w1))\n",
    "#Previous stop id\n",
    "df_prev_stop_id = df_prev_stop.withColumn('prev_stop_id',\n",
    "                        F.lag(df_prev_stop.stop_id)\n",
    "                                 .over(w1))\n",
    "#Departure time from previous stop                            \n",
    "df_prev_departure = df_prev_stop_id.withColumn('prev_departure',\n",
    "                        F.lag(df_prev_stop_id.departure_time)\n",
    "                                 .over(w1))"
   ]
  },
  {
   "cell_type": "code",
   "execution_count": 24,
   "metadata": {},
   "outputs": [
    {
     "data": {
      "application/vnd.jupyter.widget-view+json": {
       "model_id": "",
       "version_major": 2,
       "version_minor": 0
      },
      "text/plain": [
       "FloatProgress(value=0.0, bar_style='info', description='Progress:', layout=Layout(height='25px', width='50%'),…"
      ]
     },
     "metadata": {},
     "output_type": "display_data"
    },
    {
     "name": "stdout",
     "output_type": "stream",
     "text": [
      "+--------------------+--------------+------------+--------------------+--------------------+------------+------------+\n",
      "|             trip_id|prev_departure|arrival_time|      prev_stop_name|           stop_name|prev_stop_id|     stop_id|\n",
      "+--------------------+--------------+------------+--------------------+--------------------+------------+------------+\n",
      "|1.TA.26-18-j19-1.1.H|          null|    28:45:00|                null|      Zürich, Rehalp|        null|     8591315|\n",
      "|1.TA.26-18-j19-1.1.H|      28:45:00|    28:46:00|      Zürich, Rehalp|Zürich, Friedhof ...|     8591315|     8591142|\n",
      "|1.TA.26-18-j19-1.1.H|      28:46:00|    28:47:00|Zürich, Friedhof ...|     Zürich Balgrist|     8591142|     8530811|\n",
      "|1.TA.26-18-j19-1.1.H|      28:47:00|    28:48:00|     Zürich Balgrist|    Zürich, Burgwies|     8530811|     8591104|\n",
      "|1.TA.26-18-j19-1.1.H|      28:48:00|    28:50:00|    Zürich, Burgwies|Zürich, Wetlistrasse|     8591104|     8591429|\n",
      "|1.TA.26-18-j19-1.1.H|      28:50:00|    28:50:00|Zürich, Wetlistrasse| Zürich, Hedwigsteig|     8591429|     8591180|\n",
      "|1.TA.26-18-j19-1.1.H|      28:50:00|    28:52:00| Zürich, Hedwigsteig|Zürich Hegibachplatz|     8591180|     8530812|\n",
      "|1.TA.26-18-j19-1.1.H|      28:52:00|    28:53:00|Zürich Hegibachplatz|Zürich, Signaustr...|     8530812|     8591364|\n",
      "|1.TA.26-18-j19-1.1.H|      28:53:00|    28:54:00|Zürich, Signaustr...|   Zürich Kreuzplatz|     8591364|     8530813|\n",
      "|1.TA.63-138-Y-j19...|          null|    18:22:00|                null|           Zürich HB|        null|8503000:0:16|\n",
      "|10.TA.80-55-Y-j19...|          null|    07:38:00|                null|             Thalwil|        null| 8503202:0:5|\n",
      "|10.TA.80-55-Y-j19...|      07:39:00|    07:48:00|             Thalwil|           Zürich HB| 8503202:0:5|8503000:0:10|\n",
      "|1000.TA.26-768-j1...|          null|    22:45:00|                null|Zürich Oerlikon, ...|        null|     8580449|\n",
      "|1000.TA.26-768-j1...|      22:45:00|    22:46:00|Zürich Oerlikon, ...|Zürich Oerlikon, ...|     8580449|     8591063|\n",
      "|1000.TA.26-768-j1...|      22:46:00|    22:47:00|Zürich Oerlikon, ...|Zürich, Felsenrai...|     8591063|     8591127|\n",
      "|1000.TA.26-768-j1...|      22:47:00|    22:48:00|Zürich, Felsenrai...|Zürich, Seebacher...|     8591127|     8591355|\n",
      "|1000.TA.26-768-j1...|      22:48:00|    22:49:00|Zürich, Seebacher...|     Zürich, Seebach|     8591355|     8591354|\n",
      "|1000.TA.26-768-j1...|      22:49:00|    22:51:00|     Zürich, Seebach|   Zürich, Ettenfeld|     8591354|     8591124|\n",
      "|1000.TA.26-768-j1...|      22:51:00|    22:52:00|   Zürich, Ettenfeld|Glattbrugg, Frohb...|     8591124|     8590621|\n",
      "|1000.TA.26-768-j1...|      22:52:00|    22:53:00|Glattbrugg, Frohb...|    Glattbrugg, Post|     8590621|     8590629|\n",
      "+--------------------+--------------+------------+--------------------+--------------------+------------+------------+\n",
      "only showing top 20 rows"
     ]
    }
   ],
   "source": [
    "df_trip_network  = df_prev_departure.select(\"trip_id\",\"prev_departure\",\"arrival_time\",\"prev_stop_name\",\"stop_name\",\"prev_stop_id\",\"stop_id\")\n",
    "df_trip_network.show(20)"
   ]
  },
  {
   "cell_type": "code",
   "execution_count": 25,
   "metadata": {},
   "outputs": [
    {
     "data": {
      "application/vnd.jupyter.widget-view+json": {
       "model_id": "",
       "version_major": 2,
       "version_minor": 0
      },
      "text/plain": [
       "FloatProgress(value=0.0, bar_style='info', description='Progress:', layout=Layout(height='25px', width='50%'),…"
      ]
     },
     "metadata": {},
     "output_type": "display_data"
    },
    {
     "name": "stdout",
     "output_type": "stream",
     "text": [
      "+--------------------+--------------+------------+--------------------+--------------------+------------+------------+\n",
      "|             trip_id|prev_departure|arrival_time|      prev_stop_name|           stop_name|prev_stop_id|     stop_id|\n",
      "+--------------------+--------------+------------+--------------------+--------------------+------------+------------+\n",
      "|1.TA.63-138-Y-j19...|          null|    18:22:00|                null|           Zürich HB|        null|8503000:0:16|\n",
      "|10.TA.80-55-Y-j19...|          null|    07:38:00|                null|             Thalwil|        null| 8503202:0:5|\n",
      "|10.TA.80-55-Y-j19...|      07:39:00|    07:48:00|             Thalwil|           Zürich HB| 8503202:0:5|8503000:0:10|\n",
      "|1005.TA.26-131-j1...|          null|    16:14:00|                null|     Horgen, Bahnhof|        null| 8503855:0:F|\n",
      "|1005.TA.26-131-j1...|      16:14:00|    16:15:00|     Horgen, Bahnhof|Horgen, Gumelenst...| 8503855:0:F|     8589111|\n",
      "|1005.TA.26-131-j1...|      16:15:00|    16:16:00|Horgen, Gumelenst...|     Horgen, Stocker|     8589111|     8573553|\n",
      "|1005.TA.26-131-j1...|      16:16:00|    16:18:00|     Horgen, Stocker|Horgen Oberdorf, ...|     8573553|     8573554|\n",
      "|1005.TA.26-131-j1...|      16:18:00|    16:19:00|Horgen Oberdorf, ...|      Horgen, Bergli|     8573554|     8573555|\n",
      "|1005.TA.26-131-j1...|      16:19:00|    16:20:00|      Horgen, Bergli|     Horgen, Heubach|     8573555|     8588985|\n",
      "|1005.TA.26-131-j1...|      16:20:00|    16:21:00|     Horgen, Heubach|      Horgen, Gehren|     8588985|     8588984|\n",
      "|1014.TA.26-520-j1...|          null|    12:06:00|                null|Zürich Flughafen,...|        null| 8573205:0:H|\n",
      "|1014.TA.26-520-j1...|      12:06:00|    12:06:00|Zürich Flughafen,...|Zürich Flughafen,...| 8573205:0:H|     8580301|\n",
      "|1014.TA.26-520-j1...|      12:06:00|    12:07:00|Zürich Flughafen,...|Zürich Flughafen,...|     8580301|     8588553|\n",
      "|1014.TA.26-520-j1...|      12:07:00|    12:10:00|Zürich Flughafen,...|Kloten, Zum Wilde...|     8588553|     8573211|\n",
      "|1014.TA.26-520-j1...|      12:10:00|    12:12:00|Kloten, Zum Wilde...|  Kloten, Freienberg|     8573211|     8573232|\n",
      "|1014.TA.26-520-j1...|      12:12:00|    12:15:00|  Kloten, Freienberg|    Lufingen, Augwil|     8573232|     8573230|\n",
      "|1014.TA.26-520-j1...|      12:15:00|    12:16:00|    Lufingen, Augwil|Lufingen, Hinterm...|     8573230|     8573229|\n",
      "|1014.TA.26-520-j1...|      12:16:00|    12:17:00|Lufingen, Hinterm...|      Lufingen, Dorf|     8573229|     8506895|\n",
      "|1014.TA.26-520-j1...|      12:17:00|    12:18:00|      Lufingen, Dorf| Lufingen, Unterdorf|     8506895|     8573228|\n",
      "|1014.TA.26-520-j1...|      12:18:00|    12:19:00| Lufingen, Unterdorf|Embrach, Zürchers...|     8573228|     8573226|\n",
      "+--------------------+--------------+------------+--------------------+--------------------+------------+------------+\n",
      "only showing top 20 rows"
     ]
    }
   ],
   "source": [
    "# Filter reasonable hours between 07-21\n",
    "df_trip_network_reasonable = df_trip_network.filter(\" CAST(SUBSTRING(arrival_time,1,2) AS int) BETWEEN 7 AND 21 \")\n",
    "df_trip_network_reasonable.show(20)"
   ]
  },
  {
   "cell_type": "code",
   "execution_count": 26,
   "metadata": {},
   "outputs": [
    {
     "data": {
      "application/vnd.jupyter.widget-view+json": {
       "model_id": "",
       "version_major": 2,
       "version_minor": 0
      },
      "text/plain": [
       "FloatProgress(value=0.0, bar_style='info', description='Progress:', layout=Layout(height='25px', width='50%'),…"
      ]
     },
     "metadata": {},
     "output_type": "display_data"
    },
    {
     "name": "stdout",
     "output_type": "stream",
     "text": [
      "+-------+--------------------+----------------+---------------+-------------+--------------+-----------+--------------------+----------------+----------------+-------------+--------------+\n",
      "|stop_id|           stop_name|        stop_lat|       stop_lon|location_type|parent_station|    stop_id|           stop_name|        stop_lat|        stop_lon|location_type|parent_station|\n",
      "+-------+--------------------+----------------+---------------+-------------+--------------+-----------+--------------------+----------------+----------------+-------------+--------------+\n",
      "|8500926|Oetwil a.d.L., Sc...|47.4236270123012|8.4031825286317|             |              |    8500926|Oetwil a.d.L., Sc...|47.4236270123012| 8.4031825286317|             |              |\n",
      "|8500926|Oetwil a.d.L., Sc...|47.4236270123012|8.4031825286317|             |              |    8502186|Dietikon Stoffelbach|47.3934058321612|8.39894248049007|             |      8502186P|\n",
      "|8500926|Oetwil a.d.L., Sc...|47.4236270123012|8.4031825286317|             |              |8502186:0:1|Dietikon Stoffelbach|47.3934666445388|8.39894248049007|             |      8502186P|\n",
      "|8500926|Oetwil a.d.L., Sc...|47.4236270123012|8.4031825286317|             |              |8502186:0:2|Dietikon Stoffelbach|47.3935274568464|8.39894248049007|             |      8502186P|\n",
      "|8500926|Oetwil a.d.L., Sc...|47.4236270123012|8.4031825286317|             |              |   8502186P|Dietikon Stoffelbach|47.3934058321612|8.39894248049007|            1|              |\n",
      "+-------+--------------------+----------------+---------------+-------------+--------------+-----------+--------------------+----------------+----------------+-------------+--------------+\n",
      "only showing top 5 rows"
     ]
    }
   ],
   "source": [
    "stops_inradius_df.alias(\"stops1\").crossJoin(stops_inradius_df.alias(\"stops2\")).show(5)"
   ]
  },
  {
   "cell_type": "markdown",
   "metadata": {},
   "source": [
    "# Create Walking Connections"
   ]
  },
  {
   "cell_type": "code",
   "execution_count": 27,
   "metadata": {},
   "outputs": [
    {
     "data": {
      "application/vnd.jupyter.widget-view+json": {
       "model_id": "",
       "version_major": 2,
       "version_minor": 0
      },
      "text/plain": [
       "FloatProgress(value=0.0, bar_style='info', description='Progress:', layout=Layout(height='25px', width='50%'),…"
      ]
     },
     "metadata": {},
     "output_type": "display_data"
    }
   ],
   "source": [
    "@F.udf(T.DoubleType())\n",
    "def getDist(lat1,lon1,lat2,lon2):\n",
    "    geo1 = (lat1,lon1)\n",
    "    geo2 = (lat2,lon2)\n",
    "    dist = distance.distance(geo1, geo2).m\n",
    "    return dist\n",
    "\n",
    "stops_inradius_df = stops_inradius_df.drop(\"dist\")\n",
    "\n",
    "stopDist = stops_inradius_df.alias(\"stops1\").crossJoin(stops_inradius_df.alias(\"stops2\"))\\\n",
    ".where(getDist(\"stops1.stop_lat\",\"stops1.stop_lon\",\"stops2.stop_lat\",\"stops2.stop_lon\")<= 500)\\\n",
    ".withColumn(\"dist\",getDist(\"stops1.stop_lat\",\"stops1.stop_lon\",\"stops2.stop_lat\",\"stops2.stop_lon\"))\n",
    "\n",
    "\n",
    "#Other option is this but don't know if it is way more efficient or more or less similiar\n",
    "#stopDistFiltered = stops_inradius_df.alias(\"stops1\").join(stops_inradius_df.alias(\"stops2\")\\\n",
    "#,getDist(\"stops1.stop_lat\",\"stops1.stop_lon\",\"stops2.stop_lat\",\"stops2.stop_lon\")<=500)"
   ]
  },
  {
   "cell_type": "code",
   "execution_count": 28,
   "metadata": {},
   "outputs": [
    {
     "data": {
      "application/vnd.jupyter.widget-view+json": {
       "model_id": "",
       "version_major": 2,
       "version_minor": 0
      },
      "text/plain": [
       "FloatProgress(value=0.0, bar_style='info', description='Progress:', layout=Layout(height='25px', width='50%'),…"
      ]
     },
     "metadata": {},
     "output_type": "display_data"
    },
    {
     "name": "stderr",
     "output_type": "stream",
     "text": [
      "An error was encountered:\n",
      "name 'stopDistFiltered' is not defined\n",
      "Traceback (most recent call last):\n",
      "NameError: name 'stopDistFiltered' is not defined\n",
      "\n"
     ]
    }
   ],
   "source": [
    "stopDistFiltered"
   ]
  },
  {
   "cell_type": "code",
   "execution_count": 29,
   "metadata": {},
   "outputs": [
    {
     "data": {
      "application/vnd.jupyter.widget-view+json": {
       "model_id": "",
       "version_major": 2,
       "version_minor": 0
      },
      "text/plain": [
       "FloatProgress(value=0.0, bar_style='info', description='Progress:', layout=Layout(height='25px', width='50%'),…"
      ]
     },
     "metadata": {},
     "output_type": "display_data"
    }
   ],
   "source": [
    "\n",
    "\n",
    "stopDist = stopDist.select(F.col(\"stops1.stop_id\").alias(\"stop1_id\")\\\n",
    "               ,F.col(\"stops1.stop_name\").alias(\"stop1_name\")\\\n",
    "               ,F.col(\"stops1.stop_lat\").alias(\"stop1_lat\")\\\n",
    "               ,F.col(\"stops1.stop_lon\").alias(\"stop1_lon\")\\\n",
    "               ,F.col(\"stops2.stop_id\").alias(\"stop2_id\")\\\n",
    "               ,F.col(\"stops2.stop_name\").alias(\"stop2_name\")\\\n",
    "               ,F.col(\"stops2.stop_lat\").alias(\"stop2_lat\")\\\n",
    "               ,F.col(\"stops2.stop_lon\").alias(\"stop2_lon\")\\\n",
    "               ,F.col(\"dist\"))"
   ]
  },
  {
   "cell_type": "code",
   "execution_count": 30,
   "metadata": {},
   "outputs": [
    {
     "data": {
      "application/vnd.jupyter.widget-view+json": {
       "model_id": "",
       "version_major": 2,
       "version_minor": 0
      },
      "text/plain": [
       "FloatProgress(value=0.0, bar_style='info', description='Progress:', layout=Layout(height='25px', width='50%'),…"
      ]
     },
     "metadata": {},
     "output_type": "display_data"
    }
   ],
   "source": [
    "#stopDist.write.parquet(\"user/boecuego/walk_stops.parquet\")\n",
    "\n",
    "walk_stops = spark.read.parquet(\"user/boecuego/walk_stops.parquet\")"
   ]
  },
  {
   "cell_type": "code",
   "execution_count": 31,
   "metadata": {},
   "outputs": [
    {
     "data": {
      "application/vnd.jupyter.widget-view+json": {
       "model_id": "",
       "version_major": 2,
       "version_minor": 0
      },
      "text/plain": [
       "FloatProgress(value=0.0, bar_style='info', description='Progress:', layout=Layout(height='25px', width='50%'),…"
      ]
     },
     "metadata": {},
     "output_type": "display_data"
    },
    {
     "name": "stdout",
     "output_type": "stream",
     "text": [
      "14414"
     ]
    }
   ],
   "source": [
    "walk_stops.count()"
   ]
  },
  {
   "cell_type": "code",
   "execution_count": 32,
   "metadata": {},
   "outputs": [
    {
     "data": {
      "application/vnd.jupyter.widget-view+json": {
       "model_id": "",
       "version_major": 2,
       "version_minor": 0
      },
      "text/plain": [
       "FloatProgress(value=0.0, bar_style='info', description='Progress:', layout=Layout(height='25px', width='50%'),…"
      ]
     },
     "metadata": {},
     "output_type": "display_data"
    },
    {
     "name": "stdout",
     "output_type": "stream",
     "text": [
      "+-----------+--------------------+-----------+--------------------+------------------+\n",
      "|   stop1_id|          stop1_name|   stop2_id|          stop2_name|              dist|\n",
      "+-----------+--------------------+-----------+--------------------+------------------+\n",
      "|    8500926|Oetwil a.d.L., Sc...|    8590616|Geroldswil, Schwe...|122.61607002692374|\n",
      "|    8500926|Oetwil a.d.L., Sc...|    8590737|Oetwil an der Lim...|  300.671189772556|\n",
      "|    8502186|Dietikon Stoffelbach|8502186:0:1|Dietikon Stoffelbach| 6.761029676373361|\n",
      "|    8502186|Dietikon Stoffelbach|8502186:0:2|Dietikon Stoffelbach|  13.5220516429909|\n",
      "|    8502186|Dietikon Stoffelbach|    8502270|         Bergfrieden| 478.7847706261187|\n",
      "|    8502186|Dietikon Stoffelbach|8502270:0:1|         Bergfrieden|485.54354073977174|\n",
      "|    8502186|Dietikon Stoffelbach|    8590200|Bergdietikon, Bal...|483.67990364227626|\n",
      "|    8502186|Dietikon Stoffelbach|    8590203| Bergdietikon, Dünni|455.34915607314645|\n",
      "|8502186:0:1|Dietikon Stoffelbach|    8502186|Dietikon Stoffelbach| 6.761029676373361|\n",
      "|8502186:0:1|Dietikon Stoffelbach|8502186:0:2|Dietikon Stoffelbach|6.7610219666099205|\n",
      "+-----------+--------------------+-----------+--------------------+------------------+\n",
      "only showing top 10 rows"
     ]
    }
   ],
   "source": [
    "\n",
    "walk_stops = walk_stops.drop(\"stop1_lat\",\"stop1_lon\",\"stop2_lat\",\"stop2_lon\").filter(\"dist > 0\")\n",
    "walk_stops.show(10)"
   ]
  },
  {
   "cell_type": "markdown",
   "metadata": {},
   "source": [
    "# Create walking connections for each hour respect to timetable from connections"
   ]
  },
  {
   "cell_type": "code",
   "execution_count": 33,
   "metadata": {},
   "outputs": [
    {
     "data": {
      "application/vnd.jupyter.widget-view+json": {
       "model_id": "",
       "version_major": 2,
       "version_minor": 0
      },
      "text/plain": [
       "FloatProgress(value=0.0, bar_style='info', description='Progress:', layout=Layout(height='25px', width='50%'),…"
      ]
     },
     "metadata": {},
     "output_type": "display_data"
    },
    {
     "name": "stdout",
     "output_type": "stream",
     "text": [
      "+--------------------+--------------+------------+--------------------+--------------------+------------+------------+\n",
      "|             trip_id|prev_departure|arrival_time|      prev_stop_name|           stop_name|prev_stop_id|     stop_id|\n",
      "+--------------------+--------------+------------+--------------------+--------------------+------------+------------+\n",
      "|1.TA.63-138-Y-j19...|          null|    18:22:00|                null|           Zürich HB|        null|8503000:0:16|\n",
      "|10.TA.80-55-Y-j19...|          null|    07:38:00|                null|             Thalwil|        null| 8503202:0:5|\n",
      "|10.TA.80-55-Y-j19...|      07:39:00|    07:48:00|             Thalwil|           Zürich HB| 8503202:0:5|8503000:0:10|\n",
      "|1005.TA.26-131-j1...|          null|    16:14:00|                null|     Horgen, Bahnhof|        null| 8503855:0:F|\n",
      "|1005.TA.26-131-j1...|      16:14:00|    16:15:00|     Horgen, Bahnhof|Horgen, Gumelenst...| 8503855:0:F|     8589111|\n",
      "|1005.TA.26-131-j1...|      16:15:00|    16:16:00|Horgen, Gumelenst...|     Horgen, Stocker|     8589111|     8573553|\n",
      "|1005.TA.26-131-j1...|      16:16:00|    16:18:00|     Horgen, Stocker|Horgen Oberdorf, ...|     8573553|     8573554|\n",
      "|1005.TA.26-131-j1...|      16:18:00|    16:19:00|Horgen Oberdorf, ...|      Horgen, Bergli|     8573554|     8573555|\n",
      "|1005.TA.26-131-j1...|      16:19:00|    16:20:00|      Horgen, Bergli|     Horgen, Heubach|     8573555|     8588985|\n",
      "|1005.TA.26-131-j1...|      16:20:00|    16:21:00|     Horgen, Heubach|      Horgen, Gehren|     8588985|     8588984|\n",
      "+--------------------+--------------+------------+--------------------+--------------------+------------+------------+\n",
      "only showing top 10 rows"
     ]
    }
   ],
   "source": [
    "df_trip_network_reasonable.show(10)"
   ]
  },
  {
   "cell_type": "code",
   "execution_count": 34,
   "metadata": {},
   "outputs": [
    {
     "data": {
      "application/vnd.jupyter.widget-view+json": {
       "model_id": "",
       "version_major": 2,
       "version_minor": 0
      },
      "text/plain": [
       "FloatProgress(value=0.0, bar_style='info', description='Progress:', layout=Layout(height='25px', width='50%'),…"
      ]
     },
     "metadata": {},
     "output_type": "display_data"
    },
    {
     "name": "stdout",
     "output_type": "stream",
     "text": [
      "root\n",
      " |-- trip_id: string (nullable = true)\n",
      " |-- prev_departure: string (nullable = true)\n",
      " |-- arrival_time: string (nullable = true)\n",
      " |-- prev_stop_name: string (nullable = true)\n",
      " |-- stop_name: string (nullable = true)\n",
      " |-- prev_stop_id: string (nullable = true)\n",
      " |-- stop_id: string (nullable = true)"
     ]
    }
   ],
   "source": [
    "df_trip_network_reasonable.printSchema()"
   ]
  },
  {
   "cell_type": "code",
   "execution_count": 35,
   "metadata": {},
   "outputs": [
    {
     "data": {
      "application/vnd.jupyter.widget-view+json": {
       "model_id": "",
       "version_major": 2,
       "version_minor": 0
      },
      "text/plain": [
       "FloatProgress(value=0.0, bar_style='info', description='Progress:', layout=Layout(height='25px', width='50%'),…"
      ]
     },
     "metadata": {},
     "output_type": "display_data"
    },
    {
     "name": "stdout",
     "output_type": "stream",
     "text": [
      "1782051"
     ]
    }
   ],
   "source": [
    "df_trip_network_reasonable.count()"
   ]
  },
  {
   "cell_type": "code",
   "execution_count": 36,
   "metadata": {},
   "outputs": [
    {
     "data": {
      "application/vnd.jupyter.widget-view+json": {
       "model_id": "",
       "version_major": 2,
       "version_minor": 0
      },
      "text/plain": [
       "FloatProgress(value=0.0, bar_style='info', description='Progress:', layout=Layout(height='25px', width='50%'),…"
      ]
     },
     "metadata": {},
     "output_type": "display_data"
    }
   ],
   "source": [
    "df_stop_hours = df_trip_network_reasonable.select(\"arrival_time\",\"stop_id\")\n",
    "\n",
    "df_walk_stops_whours = df_stop_hours.join(walk_stops,df_stop_hours.stop_id == walk_stops.stop1_id).drop(\"stop_id\")"
   ]
  },
  {
   "cell_type": "code",
   "execution_count": 37,
   "metadata": {},
   "outputs": [
    {
     "data": {
      "application/vnd.jupyter.widget-view+json": {
       "model_id": "",
       "version_major": 2,
       "version_minor": 0
      },
      "text/plain": [
       "FloatProgress(value=0.0, bar_style='info', description='Progress:', layout=Layout(height='25px', width='50%'),…"
      ]
     },
     "metadata": {},
     "output_type": "display_data"
    }
   ],
   "source": [
    "columns = df_walk_stops_whours.columns[1:]"
   ]
  },
  {
   "cell_type": "code",
   "execution_count": 38,
   "metadata": {},
   "outputs": [
    {
     "data": {
      "application/vnd.jupyter.widget-view+json": {
       "model_id": "",
       "version_major": 2,
       "version_minor": 0
      },
      "text/plain": [
       "FloatProgress(value=0.0, bar_style='info', description='Progress:', layout=Layout(height='25px', width='50%'),…"
      ]
     },
     "metadata": {},
     "output_type": "display_data"
    }
   ],
   "source": [
    "df_walk_stops_whours  = df_walk_stops_whours.select(F.col(\"arrival_time\").alias(\"departure_time\"),*columns)"
   ]
  },
  {
   "cell_type": "code",
   "execution_count": 39,
   "metadata": {},
   "outputs": [
    {
     "data": {
      "application/vnd.jupyter.widget-view+json": {
       "model_id": "",
       "version_major": 2,
       "version_minor": 0
      },
      "text/plain": [
       "FloatProgress(value=0.0, bar_style='info', description='Progress:', layout=Layout(height='25px', width='50%'),…"
      ]
     },
     "metadata": {},
     "output_type": "display_data"
    },
    {
     "name": "stdout",
     "output_type": "stream",
     "text": [
      "+--------------+--------+--------------------+--------+--------------------+------------------+\n",
      "|departure_time|stop1_id|          stop1_name|stop2_id|          stop2_name|              dist|\n",
      "+--------------+--------+--------------------+--------+--------------------+------------------+\n",
      "|      18:51:00| 8578679|   Würenlos, Bettlen| 8590314|Würenlos, Büntens...|276.84035282176313|\n",
      "|      07:51:00| 8578679|   Würenlos, Bettlen| 8590314|Würenlos, Büntens...|276.84035282176313|\n",
      "|      10:05:00| 8590314|Würenlos, Büntens...| 8578679|   Würenlos, Bettlen|276.84035282176313|\n",
      "|      10:35:00| 8590314|Würenlos, Büntens...| 8578679|   Würenlos, Bettlen|276.84035282176313|\n",
      "|      10:36:00| 8578679|   Würenlos, Bettlen| 8590314|Würenlos, Büntens...|276.84035282176313|\n",
      "|      12:36:00| 8578679|   Würenlos, Bettlen| 8590314|Würenlos, Büntens...|276.84035282176313|\n",
      "|      14:05:00| 8590314|Würenlos, Büntens...| 8578679|   Würenlos, Bettlen|276.84035282176313|\n",
      "|      14:21:00| 8578679|   Würenlos, Bettlen| 8590314|Würenlos, Büntens...|276.84035282176313|\n",
      "|      14:35:00| 8590314|Würenlos, Büntens...| 8578679|   Würenlos, Bettlen|276.84035282176313|\n",
      "|      16:06:00| 8578679|   Würenlos, Bettlen| 8590314|Würenlos, Büntens...|276.84035282176313|\n",
      "+--------------+--------+--------------------+--------+--------------------+------------------+\n",
      "only showing top 10 rows"
     ]
    }
   ],
   "source": [
    "df_walk_stops_whours.sample(0.1,seed=12345).show(10)"
   ]
  },
  {
   "cell_type": "code",
   "execution_count": 40,
   "metadata": {},
   "outputs": [
    {
     "data": {
      "application/vnd.jupyter.widget-view+json": {
       "model_id": "",
       "version_major": 2,
       "version_minor": 0
      },
      "text/plain": [
       "FloatProgress(value=0.0, bar_style='info', description='Progress:', layout=Layout(height='25px', width='50%'),…"
      ]
     },
     "metadata": {},
     "output_type": "display_data"
    },
    {
     "name": "stdout",
     "output_type": "stream",
     "text": [
      "1491"
     ]
    }
   ],
   "source": [
    "df_walk_stops_whours.select(\"stop1_name\").distinct().count()"
   ]
  },
  {
   "cell_type": "code",
   "execution_count": 41,
   "metadata": {},
   "outputs": [
    {
     "data": {
      "application/vnd.jupyter.widget-view+json": {
       "model_id": "",
       "version_major": 2,
       "version_minor": 0
      },
      "text/plain": [
       "FloatProgress(value=0.0, bar_style='info', description='Progress:', layout=Layout(height='25px', width='50%'),…"
      ]
     },
     "metadata": {},
     "output_type": "display_data"
    },
    {
     "name": "stdout",
     "output_type": "stream",
     "text": [
      "13494097"
     ]
    }
   ],
   "source": [
    "df_walk_stops_whours.count()"
   ]
  },
  {
   "cell_type": "code",
   "execution_count": 54,
   "metadata": {},
   "outputs": [
    {
     "data": {
      "application/vnd.jupyter.widget-view+json": {
       "model_id": "",
       "version_major": 2,
       "version_minor": 0
      },
      "text/plain": [
       "FloatProgress(value=0.0, bar_style='info', description='Progress:', layout=Layout(height='25px', width='50%'),…"
      ]
     },
     "metadata": {},
     "output_type": "display_data"
    },
    {
     "name": "stdout",
     "output_type": "stream",
     "text": [
      "+--------------+--------+--------------------+--------+--------------------+------------------+--------------------+\n",
      "|departure_time|stop1_id|          stop1_name|stop2_id|          stop2_name|              dist|walking_duration_min|\n",
      "+--------------+--------+--------------------+--------+--------------------+------------------+--------------------+\n",
      "|      20:08:00| 8578679|   Würenlos, Bettlen| 8590314|Würenlos, Büntens...|276.84035282176313|                   6|\n",
      "|      20:08:00| 8590314|Würenlos, Büntens...| 8578679|   Würenlos, Bettlen|276.84035282176313|                   6|\n",
      "|      20:38:00| 8578679|   Würenlos, Bettlen| 8590314|Würenlos, Büntens...|276.84035282176313|                   6|\n",
      "|      20:38:00| 8590314|Würenlos, Büntens...| 8578679|   Würenlos, Bettlen|276.84035282176313|                   6|\n",
      "|      21:08:00| 8578679|   Würenlos, Bettlen| 8590314|Würenlos, Büntens...|276.84035282176313|                   6|\n",
      "|      21:08:00| 8590314|Würenlos, Büntens...| 8578679|   Würenlos, Bettlen|276.84035282176313|                   6|\n",
      "|      21:38:00| 8578679|   Würenlos, Bettlen| 8590314|Würenlos, Büntens...|276.84035282176313|                   6|\n",
      "|      21:38:00| 8590314|Würenlos, Büntens...| 8578679|   Würenlos, Bettlen|276.84035282176313|                   6|\n",
      "|      18:35:00| 8590314|Würenlos, Büntens...| 8578679|   Würenlos, Bettlen|276.84035282176313|                   6|\n",
      "|      18:36:00| 8578679|   Würenlos, Bettlen| 8590314|Würenlos, Büntens...|276.84035282176313|                   6|\n",
      "|      18:50:00| 8590314|Würenlos, Büntens...| 8578679|   Würenlos, Bettlen|276.84035282176313|                   6|\n",
      "|      18:51:00| 8578679|   Würenlos, Bettlen| 8590314|Würenlos, Büntens...|276.84035282176313|                   6|\n",
      "|      19:05:00| 8590314|Würenlos, Büntens...| 8578679|   Würenlos, Bettlen|276.84035282176313|                   6|\n",
      "|      19:06:00| 8578679|   Würenlos, Bettlen| 8590314|Würenlos, Büntens...|276.84035282176313|                   6|\n",
      "|      19:20:00| 8590314|Würenlos, Büntens...| 8578679|   Würenlos, Bettlen|276.84035282176313|                   6|\n",
      "|      19:21:00| 8578679|   Würenlos, Bettlen| 8590314|Würenlos, Büntens...|276.84035282176313|                   6|\n",
      "|      19:35:00| 8590314|Würenlos, Büntens...| 8578679|   Würenlos, Bettlen|276.84035282176313|                   6|\n",
      "|      19:36:00| 8578679|   Würenlos, Bettlen| 8590314|Würenlos, Büntens...|276.84035282176313|                   6|\n",
      "|      19:50:00| 8590314|Würenlos, Büntens...| 8578679|   Würenlos, Bettlen|276.84035282176313|                   6|\n",
      "|      19:51:00| 8578679|   Würenlos, Bettlen| 8590314|Würenlos, Büntens...|276.84035282176313|                   6|\n",
      "+--------------+--------+--------------------+--------+--------------------+------------------+--------------------+\n",
      "only showing top 20 rows"
     ]
    }
   ],
   "source": [
    "# Adding the walking_duration_min column considering that pedestrian walks 50m/min\n",
    "df_walk_stops_whours = df_walk_stops_whours.withColumn(\"walking_duration_min\", F.ceil(F.col(\"dist\")/50))\n",
    "df_walk_stops_whours.show()"
   ]
  },
  {
   "cell_type": "code",
   "execution_count": 56,
   "metadata": {},
   "outputs": [
    {
     "data": {
      "application/vnd.jupyter.widget-view+json": {
       "model_id": "",
       "version_major": 2,
       "version_minor": 0
      },
      "text/plain": [
       "FloatProgress(value=0.0, bar_style='info', description='Progress:', layout=Layout(height='25px', width='50%'),…"
      ]
     },
     "metadata": {},
     "output_type": "display_data"
    },
    {
     "name": "stdout",
     "output_type": "stream",
     "text": [
      "+--------------+--------+--------------------+--------+--------------------+------------------+--------------------+------------+\n",
      "|departure_time|stop1_id|          stop1_name|stop2_id|          stop2_name|              dist|walking_duration_min|arrival_time|\n",
      "+--------------+--------+--------------------+--------+--------------------+------------------+--------------------+------------+\n",
      "|      20:08:00| 8578679|   Würenlos, Bettlen| 8590314|Würenlos, Büntens...|276.84035282176313|                   6|    20:14:00|\n",
      "|      20:08:00| 8590314|Würenlos, Büntens...| 8578679|   Würenlos, Bettlen|276.84035282176313|                   6|    20:14:00|\n",
      "|      20:38:00| 8578679|   Würenlos, Bettlen| 8590314|Würenlos, Büntens...|276.84035282176313|                   6|    20:44:00|\n",
      "|      20:38:00| 8590314|Würenlos, Büntens...| 8578679|   Würenlos, Bettlen|276.84035282176313|                   6|    20:44:00|\n",
      "|      21:08:00| 8578679|   Würenlos, Bettlen| 8590314|Würenlos, Büntens...|276.84035282176313|                   6|    21:14:00|\n",
      "|      21:08:00| 8590314|Würenlos, Büntens...| 8578679|   Würenlos, Bettlen|276.84035282176313|                   6|    21:14:00|\n",
      "|      21:38:00| 8578679|   Würenlos, Bettlen| 8590314|Würenlos, Büntens...|276.84035282176313|                   6|    21:44:00|\n",
      "|      21:38:00| 8590314|Würenlos, Büntens...| 8578679|   Würenlos, Bettlen|276.84035282176313|                   6|    21:44:00|\n",
      "|      18:35:00| 8590314|Würenlos, Büntens...| 8578679|   Würenlos, Bettlen|276.84035282176313|                   6|    18:41:00|\n",
      "|      18:36:00| 8578679|   Würenlos, Bettlen| 8590314|Würenlos, Büntens...|276.84035282176313|                   6|    18:42:00|\n",
      "|      18:50:00| 8590314|Würenlos, Büntens...| 8578679|   Würenlos, Bettlen|276.84035282176313|                   6|    18:56:00|\n",
      "|      18:51:00| 8578679|   Würenlos, Bettlen| 8590314|Würenlos, Büntens...|276.84035282176313|                   6|    18:57:00|\n",
      "|      19:05:00| 8590314|Würenlos, Büntens...| 8578679|   Würenlos, Bettlen|276.84035282176313|                   6|    19:11:00|\n",
      "|      19:06:00| 8578679|   Würenlos, Bettlen| 8590314|Würenlos, Büntens...|276.84035282176313|                   6|    19:12:00|\n",
      "|      19:20:00| 8590314|Würenlos, Büntens...| 8578679|   Würenlos, Bettlen|276.84035282176313|                   6|    19:26:00|\n",
      "|      19:21:00| 8578679|   Würenlos, Bettlen| 8590314|Würenlos, Büntens...|276.84035282176313|                   6|    19:27:00|\n",
      "|      19:35:00| 8590314|Würenlos, Büntens...| 8578679|   Würenlos, Bettlen|276.84035282176313|                   6|    19:41:00|\n",
      "|      19:36:00| 8578679|   Würenlos, Bettlen| 8590314|Würenlos, Büntens...|276.84035282176313|                   6|    19:42:00|\n",
      "|      19:50:00| 8590314|Würenlos, Büntens...| 8578679|   Würenlos, Bettlen|276.84035282176313|                   6|    19:56:00|\n",
      "|      19:51:00| 8578679|   Würenlos, Bettlen| 8590314|Würenlos, Büntens...|276.84035282176313|                   6|    19:57:00|\n",
      "+--------------+--------+--------------------+--------+--------------------+------------------+--------------------+------------+\n",
      "only showing top 20 rows"
     ]
    }
   ],
   "source": [
    "df_walk_stops_whours = df_walk_stops_whours.withColumn(\"arrival_time\", F.from_unixtime(F.unix_timestamp(F.col(\"departure_time\").cast(\"timestamp\"))\n",
    "                                                                 + F.col(\"walking_duration_min\")*60, \"HH:mm:ss\"))\n",
    "df_walk_stops_whours.show()"
   ]
  },
  {
   "cell_type": "code",
   "execution_count": null,
   "metadata": {},
   "outputs": [],
   "source": []
  }
 ],
 "metadata": {
  "kernelspec": {
   "display_name": "PySpark",
   "language": "",
   "name": "pysparkkernel"
  },
  "language_info": {
   "codemirror_mode": {
    "name": "python",
    "version": 3
   },
   "mimetype": "text/x-python",
   "name": "pyspark",
   "pygments_lexer": "python3"
  }
 },
 "nbformat": 4,
 "nbformat_minor": 4
}
