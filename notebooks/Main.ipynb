{
 "cells": [
  {
   "cell_type": "code",
   "execution_count": 1,
   "metadata": {},
   "outputs": [
    {
     "data": {
      "text/html": [
       "Current session configs: <tt>{'conf': {'spark.app.name': 'oh-my-git_final'}, 'kind': 'pyspark'}</tt><br>"
      ],
      "text/plain": [
       "<IPython.core.display.HTML object>"
      ]
     },
     "metadata": {},
     "output_type": "display_data"
    },
    {
     "data": {
      "text/html": [
       "<table>\n",
       "<tr><th>ID</th><th>YARN Application ID</th><th>Kind</th><th>State</th><th>Spark UI</th><th>Driver log</th><th>Current session?</th></tr><tr><td>7611</td><td>application_1589299642358_2106</td><td>pyspark</td><td>idle</td><td><a target=\"_blank\" href=\"http://iccluster044.iccluster.epfl.ch:8088/proxy/application_1589299642358_2106/\">Link</a></td><td><a target=\"_blank\" href=\"http://iccluster067.iccluster.epfl.ch:8042/node/containerlogs/container_e06_1589299642358_2106_01_000001/ebouille\">Link</a></td><td></td></tr><tr><td>7632</td><td>application_1589299642358_2126</td><td>pyspark</td><td>idle</td><td><a target=\"_blank\" href=\"http://iccluster044.iccluster.epfl.ch:8088/proxy/application_1589299642358_2126/\">Link</a></td><td><a target=\"_blank\" href=\"http://iccluster072.iccluster.epfl.ch:8042/node/containerlogs/container_e06_1589299642358_2126_01_000001/ebouille\">Link</a></td><td></td></tr><tr><td>7633</td><td>application_1589299642358_2127</td><td>pyspark</td><td>idle</td><td><a target=\"_blank\" href=\"http://iccluster044.iccluster.epfl.ch:8088/proxy/application_1589299642358_2127/\">Link</a></td><td><a target=\"_blank\" href=\"http://iccluster068.iccluster.epfl.ch:8042/node/containerlogs/container_e06_1589299642358_2127_01_000001/ebouille\">Link</a></td><td></td></tr><tr><td>7644</td><td>application_1589299642358_2140</td><td>pyspark</td><td>idle</td><td><a target=\"_blank\" href=\"http://iccluster044.iccluster.epfl.ch:8088/proxy/application_1589299642358_2140/\">Link</a></td><td><a target=\"_blank\" href=\"http://iccluster066.iccluster.epfl.ch:8042/node/containerlogs/container_e06_1589299642358_2140_01_000001/ebouille\">Link</a></td><td></td></tr><tr><td>7670</td><td>application_1589299642358_2166</td><td>pyspark</td><td>busy</td><td><a target=\"_blank\" href=\"http://iccluster044.iccluster.epfl.ch:8088/proxy/application_1589299642358_2166/\">Link</a></td><td><a target=\"_blank\" href=\"http://iccluster069.iccluster.epfl.ch:8042/node/containerlogs/container_e06_1589299642358_2166_01_000001/ebouille\">Link</a></td><td></td></tr><tr><td>7674</td><td>application_1589299642358_2170</td><td>pyspark</td><td>idle</td><td><a target=\"_blank\" href=\"http://iccluster044.iccluster.epfl.ch:8088/proxy/application_1589299642358_2170/\">Link</a></td><td><a target=\"_blank\" href=\"http://iccluster066.iccluster.epfl.ch:8042/node/containerlogs/container_e06_1589299642358_2170_01_000001/ebouille\">Link</a></td><td></td></tr><tr><td>7676</td><td>application_1589299642358_2172</td><td>pyspark</td><td>busy</td><td><a target=\"_blank\" href=\"http://iccluster044.iccluster.epfl.ch:8088/proxy/application_1589299642358_2172/\">Link</a></td><td><a target=\"_blank\" href=\"http://iccluster069.iccluster.epfl.ch:8042/node/containerlogs/container_e06_1589299642358_2172_01_000001/ebouille\">Link</a></td><td></td></tr><tr><td>7677</td><td>application_1589299642358_2173</td><td>pyspark</td><td>dead</td><td><a target=\"_blank\" href=\"http://iccluster044.iccluster.epfl.ch:8088/cluster/app/application_1589299642358_2173\">Link</a></td><td><a target=\"_blank\" href=\"http://iccluster054.iccluster.epfl.ch:8188/applicationhistory/logs/iccluster070.iccluster.epfl.ch:45454/container_e06_1589299642358_2173_01_000001/container_e06_1589299642358_2173_01_000001/ebouille\">Link</a></td><td></td></tr><tr><td>7681</td><td>application_1589299642358_2177</td><td>pyspark</td><td>idle</td><td><a target=\"_blank\" href=\"http://iccluster044.iccluster.epfl.ch:8088/proxy/application_1589299642358_2177/\">Link</a></td><td><a target=\"_blank\" href=\"http://iccluster071.iccluster.epfl.ch:8042/node/containerlogs/container_e06_1589299642358_2177_01_000001/ebouille\">Link</a></td><td></td></tr><tr><td>7683</td><td>application_1589299642358_2179</td><td>pyspark</td><td>idle</td><td><a target=\"_blank\" href=\"http://iccluster044.iccluster.epfl.ch:8088/proxy/application_1589299642358_2179/\">Link</a></td><td><a target=\"_blank\" href=\"http://iccluster065.iccluster.epfl.ch:8042/node/containerlogs/container_e06_1589299642358_2179_01_000001/ebouille\">Link</a></td><td></td></tr><tr><td>7684</td><td>application_1589299642358_2180</td><td>pyspark</td><td>idle</td><td><a target=\"_blank\" href=\"http://iccluster044.iccluster.epfl.ch:8088/proxy/application_1589299642358_2180/\">Link</a></td><td><a target=\"_blank\" href=\"http://iccluster072.iccluster.epfl.ch:8042/node/containerlogs/container_e06_1589299642358_2180_01_000001/ebouille\">Link</a></td><td></td></tr><tr><td>7685</td><td>application_1589299642358_2181</td><td>pyspark</td><td>idle</td><td><a target=\"_blank\" href=\"http://iccluster044.iccluster.epfl.ch:8088/proxy/application_1589299642358_2181/\">Link</a></td><td><a target=\"_blank\" href=\"http://iccluster069.iccluster.epfl.ch:8042/node/containerlogs/container_e06_1589299642358_2181_01_000001/ebouille\">Link</a></td><td></td></tr><tr><td>7686</td><td>application_1589299642358_2182</td><td>pyspark</td><td>idle</td><td><a target=\"_blank\" href=\"http://iccluster044.iccluster.epfl.ch:8088/proxy/application_1589299642358_2182/\">Link</a></td><td><a target=\"_blank\" href=\"http://iccluster070.iccluster.epfl.ch:8042/node/containerlogs/container_e06_1589299642358_2182_01_000001/ebouille\">Link</a></td><td></td></tr><tr><td>7687</td><td>application_1589299642358_2183</td><td>pyspark</td><td>idle</td><td><a target=\"_blank\" href=\"http://iccluster044.iccluster.epfl.ch:8088/proxy/application_1589299642358_2183/\">Link</a></td><td><a target=\"_blank\" href=\"http://iccluster070.iccluster.epfl.ch:8042/node/containerlogs/container_e06_1589299642358_2183_01_000001/ebouille\">Link</a></td><td></td></tr><tr><td>7689</td><td>application_1589299642358_2185</td><td>pyspark</td><td>idle</td><td><a target=\"_blank\" href=\"http://iccluster044.iccluster.epfl.ch:8088/proxy/application_1589299642358_2185/\">Link</a></td><td><a target=\"_blank\" href=\"http://iccluster071.iccluster.epfl.ch:8042/node/containerlogs/container_e06_1589299642358_2185_01_000001/ebouille\">Link</a></td><td></td></tr><tr><td>7690</td><td>application_1589299642358_2186</td><td>pyspark</td><td>idle</td><td><a target=\"_blank\" href=\"http://iccluster044.iccluster.epfl.ch:8088/proxy/application_1589299642358_2186/\">Link</a></td><td><a target=\"_blank\" href=\"http://iccluster065.iccluster.epfl.ch:8042/node/containerlogs/container_e06_1589299642358_2186_01_000001/ebouille\">Link</a></td><td></td></tr><tr><td>7691</td><td>application_1589299642358_2187</td><td>pyspark</td><td>idle</td><td><a target=\"_blank\" href=\"http://iccluster044.iccluster.epfl.ch:8088/proxy/application_1589299642358_2187/\">Link</a></td><td><a target=\"_blank\" href=\"http://iccluster066.iccluster.epfl.ch:8042/node/containerlogs/container_e06_1589299642358_2187_01_000001/ebouille\">Link</a></td><td></td></tr><tr><td>7692</td><td>application_1589299642358_2188</td><td>pyspark</td><td>idle</td><td><a target=\"_blank\" href=\"http://iccluster044.iccluster.epfl.ch:8088/proxy/application_1589299642358_2188/\">Link</a></td><td><a target=\"_blank\" href=\"http://iccluster072.iccluster.epfl.ch:8042/node/containerlogs/container_e06_1589299642358_2188_01_000001/ebouille\">Link</a></td><td></td></tr><tr><td>7693</td><td>application_1589299642358_2189</td><td>pyspark</td><td>shutting_down</td><td><a target=\"_blank\" href=\"http://iccluster044.iccluster.epfl.ch:8088/proxy/application_1589299642358_2189/\">Link</a></td><td><a target=\"_blank\" href=\"http://iccluster067.iccluster.epfl.ch:8042/node/containerlogs/container_e06_1589299642358_2189_01_000001/ebouille\">Link</a></td><td></td></tr><tr><td>7694</td><td>application_1589299642358_2190</td><td>pyspark</td><td>idle</td><td><a target=\"_blank\" href=\"http://iccluster044.iccluster.epfl.ch:8088/proxy/application_1589299642358_2190/\">Link</a></td><td><a target=\"_blank\" href=\"http://iccluster065.iccluster.epfl.ch:8042/node/containerlogs/container_e06_1589299642358_2190_01_000001/ebouille\">Link</a></td><td></td></tr><tr><td>7696</td><td>application_1589299642358_2192</td><td>pyspark</td><td>idle</td><td><a target=\"_blank\" href=\"http://iccluster044.iccluster.epfl.ch:8088/proxy/application_1589299642358_2192/\">Link</a></td><td><a target=\"_blank\" href=\"http://iccluster069.iccluster.epfl.ch:8042/node/containerlogs/container_e06_1589299642358_2192_01_000001/ebouille\">Link</a></td><td></td></tr><tr><td>7697</td><td>application_1589299642358_2193</td><td>pyspark</td><td>idle</td><td><a target=\"_blank\" href=\"http://iccluster044.iccluster.epfl.ch:8088/proxy/application_1589299642358_2193/\">Link</a></td><td><a target=\"_blank\" href=\"http://iccluster065.iccluster.epfl.ch:8042/node/containerlogs/container_e06_1589299642358_2193_01_000001/ebouille\">Link</a></td><td></td></tr><tr><td>7698</td><td>application_1589299642358_2194</td><td>pyspark</td><td>idle</td><td><a target=\"_blank\" href=\"http://iccluster044.iccluster.epfl.ch:8088/proxy/application_1589299642358_2194/\">Link</a></td><td><a target=\"_blank\" href=\"http://iccluster071.iccluster.epfl.ch:8042/node/containerlogs/container_e06_1589299642358_2194_01_000001/ebouille\">Link</a></td><td></td></tr><tr><td>7699</td><td>application_1589299642358_2195</td><td>pyspark</td><td>busy</td><td><a target=\"_blank\" href=\"http://iccluster044.iccluster.epfl.ch:8088/proxy/application_1589299642358_2195/\">Link</a></td><td><a target=\"_blank\" href=\"http://iccluster068.iccluster.epfl.ch:8042/node/containerlogs/container_e06_1589299642358_2195_01_000001/ebouille\">Link</a></td><td></td></tr><tr><td>7700</td><td>application_1589299642358_2196</td><td>pyspark</td><td>idle</td><td><a target=\"_blank\" href=\"http://iccluster044.iccluster.epfl.ch:8088/proxy/application_1589299642358_2196/\">Link</a></td><td><a target=\"_blank\" href=\"http://iccluster072.iccluster.epfl.ch:8042/node/containerlogs/container_e06_1589299642358_2196_01_000001/ebouille\">Link</a></td><td></td></tr><tr><td>7701</td><td>application_1589299642358_2197</td><td>pyspark</td><td>idle</td><td><a target=\"_blank\" href=\"http://iccluster044.iccluster.epfl.ch:8088/proxy/application_1589299642358_2197/\">Link</a></td><td><a target=\"_blank\" href=\"http://iccluster070.iccluster.epfl.ch:8042/node/containerlogs/container_e06_1589299642358_2197_01_000001/ebouille\">Link</a></td><td></td></tr></table>"
      ],
      "text/plain": [
       "<IPython.core.display.HTML object>"
      ]
     },
     "metadata": {},
     "output_type": "display_data"
    }
   ],
   "source": [
    "%%configure\n",
    "{\"conf\": {\n",
    "    \"spark.app.name\":\"oh-my-git_final\"\n",
    "}}"
   ]
  },
  {
   "cell_type": "code",
   "execution_count": 2,
   "metadata": {},
   "outputs": [
    {
     "name": "stdout",
     "output_type": "stream",
     "text": [
      "Starting Spark application\n"
     ]
    },
    {
     "data": {
      "text/html": [
       "<table>\n",
       "<tr><th>ID</th><th>YARN Application ID</th><th>Kind</th><th>State</th><th>Spark UI</th><th>Driver log</th><th>Current session?</th></tr><tr><td>7702</td><td>application_1589299642358_2198</td><td>pyspark</td><td>idle</td><td><a target=\"_blank\" href=\"http://iccluster044.iccluster.epfl.ch:8088/proxy/application_1589299642358_2198/\">Link</a></td><td><a target=\"_blank\" href=\"http://iccluster067.iccluster.epfl.ch:8042/node/containerlogs/container_e06_1589299642358_2198_01_000001/ebouille\">Link</a></td><td>✔</td></tr></table>"
      ],
      "text/plain": [
       "<IPython.core.display.HTML object>"
      ]
     },
     "metadata": {},
     "output_type": "display_data"
    },
    {
     "data": {
      "application/vnd.jupyter.widget-view+json": {
       "model_id": "",
       "version_major": 2,
       "version_minor": 0
      },
      "text/plain": [
       "FloatProgress(value=0.0, bar_style='info', description='Progress:', layout=Layout(height='25px', width='50%'),…"
      ]
     },
     "metadata": {},
     "output_type": "display_data"
    },
    {
     "name": "stdout",
     "output_type": "stream",
     "text": [
      "SparkSession available as 'spark'.\n"
     ]
    },
    {
     "data": {
      "application/vnd.jupyter.widget-view+json": {
       "model_id": "",
       "version_major": 2,
       "version_minor": 0
      },
      "text/plain": [
       "FloatProgress(value=0.0, bar_style='info', description='Progress:', layout=Layout(height='25px', width='50%'),…"
      ]
     },
     "metadata": {},
     "output_type": "display_data"
    }
   ],
   "source": [
    "# Initialization"
   ]
  },
  {
   "cell_type": "code",
   "execution_count": 3,
   "metadata": {},
   "outputs": [
    {
     "data": {
      "application/vnd.jupyter.widget-view+json": {
       "model_id": "",
       "version_major": 2,
       "version_minor": 0
      },
      "text/plain": [
       "FloatProgress(value=0.0, bar_style='info', description='Progress:', layout=Layout(height='25px', width='50%'),…"
      ]
     },
     "metadata": {},
     "output_type": "display_data"
    },
    {
     "name": "stdout",
     "output_type": "stream",
     "text": [
      "234402.47499"
     ]
    }
   ],
   "source": [
    "from geopy import distance\n",
    "import pyspark.sql.types as T\n",
    "import pyspark.sql.functions  as F\n",
    "from pyspark.sql.window import Window\n",
    "import datetime\n",
    "import networkx as nx\n",
    "import pandas as pd\n",
    "zurichHB = (47.378177, 8.540192)\n",
    "cleveland_oh = (49.378177, 9.540192)\n",
    "print(distance.distance(zurichHB, cleveland_oh).m)"
   ]
  },
  {
   "cell_type": "code",
   "execution_count": 4,
   "metadata": {},
   "outputs": [
    {
     "data": {
      "application/vnd.jupyter.widget-view+json": {
       "model_id": "",
       "version_major": 2,
       "version_minor": 0
      },
      "text/plain": [
       "FloatProgress(value=0.0, bar_style='info', description='Progress:', layout=Layout(height='25px', width='50%'),…"
      ]
     },
     "metadata": {},
     "output_type": "display_data"
    }
   ],
   "source": [
    "stop_times_df = spark.read.orc(\"hdfs:///data/sbb/timetables/orc/stop_times\")\n",
    "stops_df = spark.read.orc(\"hdfs:///data/sbb/timetables/orc/stops\")\n",
    "trips_df = spark.read.orc(\"hdfs:///data/sbb/timetables/orc/trips\")\n",
    "calendar_df = spark.read.orc(\"hdfs:///data/sbb/timetables/orc/calendar\")\n",
    "routes_df = spark.read.orc(\"hdfs:///data/sbb/timetables/orc/routes\")"
   ]
  },
  {
   "cell_type": "markdown",
   "metadata": {},
   "source": [
    "First let's filter stations in 15km radius of Zurich HB"
   ]
  },
  {
   "cell_type": "code",
   "execution_count": 5,
   "metadata": {},
   "outputs": [
    {
     "data": {
      "application/vnd.jupyter.widget-view+json": {
       "model_id": "",
       "version_major": 2,
       "version_minor": 0
      },
      "text/plain": [
       "FloatProgress(value=0.0, bar_style='info', description='Progress:', layout=Layout(height='25px', width='50%'),…"
      ]
     },
     "metadata": {},
     "output_type": "display_data"
    }
   ],
   "source": [
    "@F.udf(T.DoubleType())\n",
    "def getDistToZurich(lat,lon):\n",
    "    zurichHB = (47.378177, 8.540192)\n",
    "    geo = (lat,lon)\n",
    "    return distance.distance(zurichHB, geo).km\n",
    "stops_inradius_df= stops_df.withColumn(\"dist\",getDistToZurich(\"stop_lat\",\"stop_lon\")).filter(\"dist <= 15\")"
   ]
  },
  {
   "cell_type": "markdown",
   "metadata": {},
   "source": [
    "Then get the trips of these stops"
   ]
  },
  {
   "cell_type": "code",
   "execution_count": 9,
   "metadata": {},
   "outputs": [
    {
     "data": {
      "application/vnd.jupyter.widget-view+json": {
       "model_id": "",
       "version_major": 2,
       "version_minor": 0
      },
      "text/plain": [
       "FloatProgress(value=0.0, bar_style='info', description='Progress:', layout=Layout(height='25px', width='50%'),…"
      ]
     },
     "metadata": {},
     "output_type": "display_data"
    },
    {
     "name": "stdout",
     "output_type": "stream",
     "text": [
      "+--------------------+------------+--------------+---------------+-------------+------------------+----------------+----------------+\n",
      "|             trip_id|arrival_time|departure_time|        stop_id|stop_sequence|         stop_name|        stop_lat|        stop_lon|\n",
      "+--------------------+------------+--------------+---------------+-------------+------------------+----------------+----------------+\n",
      "|5.TA.1-1-A-j19-1.3.H|    02:42:00|      02:42:00|    8503305:0:3|            2|        Effretikon|  47.42593043029|8.68666388288076|\n",
      "|5.TA.1-1-A-j19-1.3.H|    02:46:00|      02:46:00|    8503306:0:3|            3|         Dietlikon|47.4203145327083|8.61925430395105|\n",
      "|5.TA.1-1-A-j19-1.3.H|    02:50:00|      02:50:00|    8503147:0:1|            4|         Stettbach| 47.397334167601|8.59613166853459|\n",
      "|5.TA.1-1-A-j19-1.3.H|    02:55:00|      02:55:00|    8503003:0:1|            5|Zürich Stadelhofen|47.3667936853425|8.54846705955257|\n",
      "|5.TA.1-1-A-j19-1.3.H|    02:58:00|      03:00:00|8503000:0:41/42|            6|         Zürich HB|47.3782370338962|8.54019357578468|\n",
      "+--------------------+------------+--------------+---------------+-------------+------------------+----------------+----------------+\n",
      "only showing top 5 rows"
     ]
    }
   ],
   "source": [
    "stops_inradius_df = stops_inradius_df.drop(\"dist\")\n",
    "#Join the stops and trips\n",
    "stops_joined_df = stop_times_df.join(stops_inradius_df,stop_times_df.stop_id == stops_inradius_df.stop_id ).drop(stops_inradius_df.stop_id)\n",
    "stops_joined_df.drop(\"parent_station\",\"location_type\",\"pickup_type\",\"drop_off_type\").show(5)"
   ]
  },
  {
   "cell_type": "code",
   "execution_count": 10,
   "metadata": {},
   "outputs": [
    {
     "data": {
      "application/vnd.jupyter.widget-view+json": {
       "model_id": "",
       "version_major": 2,
       "version_minor": 0
      },
      "text/plain": [
       "FloatProgress(value=0.0, bar_style='info', description='Progress:', layout=Layout(height='25px', width='50%'),…"
      ]
     },
     "metadata": {},
     "output_type": "display_data"
    }
   ],
   "source": [
    "#Write this to use it later\n",
    "#stops_joined_df.write.parquet(\"user/boecuego/stops_joined_df.parquet\")\n",
    "\n",
    "stops_joined_df = spark.read.parquet(\"user/boecuego/stops_joined_df.parquet\")"
   ]
  },
  {
   "cell_type": "markdown",
   "metadata": {},
   "source": [
    "# Create Stop Connetions via Trips "
   ]
  },
  {
   "cell_type": "markdown",
   "metadata": {},
   "source": [
    "Here we are creating all possible stop connections reachable by public transports. For example, if we have stops_ids 1,2,3,4 for trip X, then connections are 1-2,1-3,1-4,2-3,2-4,3-4 (in other words combinations)"
   ]
  },
  {
   "cell_type": "code",
   "execution_count": 11,
   "metadata": {},
   "outputs": [
    {
     "data": {
      "application/vnd.jupyter.widget-view+json": {
       "model_id": "",
       "version_major": 2,
       "version_minor": 0
      },
      "text/plain": [
       "FloatProgress(value=0.0, bar_style='info', description='Progress:', layout=Layout(height='25px', width='50%'),…"
      ]
     },
     "metadata": {},
     "output_type": "display_data"
    }
   ],
   "source": [
    "#First Collect all relevant information for each trip_id"
   ]
  },
  {
   "cell_type": "code",
   "execution_count": 15,
   "metadata": {},
   "outputs": [
    {
     "data": {
      "application/vnd.jupyter.widget-view+json": {
       "model_id": "",
       "version_major": 2,
       "version_minor": 0
      },
      "text/plain": [
       "FloatProgress(value=0.0, bar_style='info', description='Progress:', layout=Layout(height='25px', width='50%'),…"
      ]
     },
     "metadata": {},
     "output_type": "display_data"
    }
   ],
   "source": [
    "df_grouped = stops_joined_df.groupBy(\"trip_id\").agg(F.collect_list(\"stop_id\").alias(\"stop_ids\"),F.collect_list(\"stop_sequence\").alias(\"stop_sequences\"),\\\n",
    "                                      F.collect_list(\"arrival_time\").alias(\"arrival_times\"),\\\n",
    "                                      F.collect_list(\"departure_time\").alias(\"departure_times\"),\\\n",
    "                                      )                                    "
   ]
  },
  {
   "cell_type": "markdown",
   "metadata": {},
   "source": [
    "Then create combinations of these information \n"
   ]
  },
  {
   "cell_type": "code",
   "execution_count": 16,
   "metadata": {},
   "outputs": [
    {
     "data": {
      "application/vnd.jupyter.widget-view+json": {
       "model_id": "",
       "version_major": 2,
       "version_minor": 0
      },
      "text/plain": [
       "FloatProgress(value=0.0, bar_style='info', description='Progress:', layout=Layout(height='25px', width='50%'),…"
      ]
     },
     "metadata": {},
     "output_type": "display_data"
    }
   ],
   "source": [
    "import itertools\n",
    "@F.udf(T.ArrayType(\n",
    "       T.ArrayType(T.StructType([\n",
    "    T.StructField(\"pair1\", T.StringType(), False),\n",
    "    T.StructField(\"pair2\", T.StringType(), False)\n",
    "]))))\n",
    "def pairs(stop_ids,stop_sequences,arrival_times,departure_times):\n",
    "    stop_id_pairs = list(itertools.combinations(stop_ids,2))\n",
    "    stop_sequence_pairs = list(itertools.combinations(stop_sequences,2))\n",
    "    arrival_time_pairs = list(itertools.combinations(arrival_times,2))\n",
    "    departure_time_pairs = list(itertools.combinations(departure_times,2))\n",
    "    return [stop_id_pairs,stop_sequence_pairs,arrival_time_pairs,departure_time_pairs]\n",
    "    "
   ]
  },
  {
   "cell_type": "code",
   "execution_count": 17,
   "metadata": {},
   "outputs": [
    {
     "data": {
      "application/vnd.jupyter.widget-view+json": {
       "model_id": "",
       "version_major": 2,
       "version_minor": 0
      },
      "text/plain": [
       "FloatProgress(value=0.0, bar_style='info', description='Progress:', layout=Layout(height='25px', width='50%'),…"
      ]
     },
     "metadata": {},
     "output_type": "display_data"
    },
    {
     "name": "stdout",
     "output_type": "stream",
     "text": [
      "173184"
     ]
    }
   ],
   "source": [
    "df_grouped.cache()\n",
    "df_grouped.take(1)\n",
    "df_grouped.count()"
   ]
  },
  {
   "cell_type": "code",
   "execution_count": 18,
   "metadata": {},
   "outputs": [
    {
     "data": {
      "application/vnd.jupyter.widget-view+json": {
       "model_id": "",
       "version_major": 2,
       "version_minor": 0
      },
      "text/plain": [
       "FloatProgress(value=0.0, bar_style='info', description='Progress:', layout=Layout(height='25px', width='50%'),…"
      ]
     },
     "metadata": {},
     "output_type": "display_data"
    }
   ],
   "source": [
    "df_pairs = df_grouped.withColumn(\"all_pairs\",pairs(\"stop_ids\",\"stop_sequences\",\"arrival_times\",\"departure_times\"))"
   ]
  },
  {
   "cell_type": "code",
   "execution_count": 19,
   "metadata": {},
   "outputs": [
    {
     "data": {
      "application/vnd.jupyter.widget-view+json": {
       "model_id": "",
       "version_major": 2,
       "version_minor": 0
      },
      "text/plain": [
       "FloatProgress(value=0.0, bar_style='info', description='Progress:', layout=Layout(height='25px', width='50%'),…"
      ]
     },
     "metadata": {},
     "output_type": "display_data"
    },
    {
     "name": "stdout",
     "output_type": "stream",
     "text": [
      "+--------------------+--------------------+--------------------+--------------------+--------------------+--------------------+\n",
      "|             trip_id|            stop_ids|      stop_sequences|       arrival_times|     departure_times|           all_pairs|\n",
      "+--------------------+--------------------+--------------------+--------------------+--------------------+--------------------+\n",
      "|1.TA.26-18-j19-1.1.H|[8591315, 8591142...|[1, 2, 3, 4, 5, 6...|[28:45:00, 28:46:...|[28:45:00, 28:46:...|[[[8591315, 85911...|\n",
      "+--------------------+--------------------+--------------------+--------------------+--------------------+--------------------+\n",
      "only showing top 1 row"
     ]
    }
   ],
   "source": [
    "df_pairs.show(1)"
   ]
  },
  {
   "cell_type": "code",
   "execution_count": 24,
   "metadata": {},
   "outputs": [
    {
     "data": {
      "application/vnd.jupyter.widget-view+json": {
       "model_id": "",
       "version_major": 2,
       "version_minor": 0
      },
      "text/plain": [
       "FloatProgress(value=0.0, bar_style='info', description='Progress:', layout=Layout(height='25px', width='50%'),…"
      ]
     },
     "metadata": {},
     "output_type": "display_data"
    }
   ],
   "source": [
    "df_pairs_sep = df_pairs.withColumn(\"stop_id_pairs\",F.col(\"all_pairs\")[0])\\\n",
    "                        .withColumn(\"stop_sequence_pairs\",F.col(\"all_pairs\")[1])\\\n",
    "                        .withColumn(\"arrival_time_pairs\",F.col(\"all_pairs\")[2])\\\n",
    "                        .withColumn(\"departure_time_pairs\",F.col(\"all_pairs\")[3])"
   ]
  },
  {
   "cell_type": "markdown",
   "metadata": {},
   "source": [
    "For example this is how it looks for stop_id pairs, same applies for other columns."
   ]
  },
  {
   "cell_type": "code",
   "execution_count": 29,
   "metadata": {},
   "outputs": [
    {
     "data": {
      "application/vnd.jupyter.widget-view+json": {
       "model_id": "",
       "version_major": 2,
       "version_minor": 0
      },
      "text/plain": [
       "FloatProgress(value=0.0, bar_style='info', description='Progress:', layout=Layout(height='25px', width='50%'),…"
      ]
     },
     "metadata": {},
     "output_type": "display_data"
    },
    {
     "name": "stdout",
     "output_type": "stream",
     "text": [
      "+--------------------+------------------+----+\n",
      "|             trip_id|      stop_id_pair|rown|\n",
      "+--------------------+------------------+----+\n",
      "|1.TA.26-18-j19-1.1.H|[8591315, 8591142]|   0|\n",
      "|1.TA.26-18-j19-1.1.H|[8591315, 8530811]|   1|\n",
      "|1.TA.26-18-j19-1.1.H|[8591315, 8591104]|   2|\n",
      "|1.TA.26-18-j19-1.1.H|[8591315, 8591429]|   3|\n",
      "|1.TA.26-18-j19-1.1.H|[8591315, 8591180]|   4|\n",
      "|1.TA.26-18-j19-1.1.H|[8591315, 8530812]|   5|\n",
      "|1.TA.26-18-j19-1.1.H|[8591315, 8591364]|   6|\n",
      "|1.TA.26-18-j19-1.1.H|[8591315, 8530813]|   7|\n",
      "|1.TA.26-18-j19-1.1.H|[8591142, 8530811]|   8|\n",
      "|1.TA.26-18-j19-1.1.H|[8591142, 8591104]|   9|\n",
      "+--------------------+------------------+----+\n",
      "only showing top 10 rows"
     ]
    }
   ],
   "source": [
    "df_pairs_sep.select(\"trip_id\",F.explode(\"stop_id_pairs\").alias(\"stop_id_pair\")).withColumn(\"rown\",F.monotonically_increasing_id()).show(10)"
   ]
  },
  {
   "cell_type": "code",
   "execution_count": 30,
   "metadata": {},
   "outputs": [
    {
     "data": {
      "application/vnd.jupyter.widget-view+json": {
       "model_id": "",
       "version_major": 2,
       "version_minor": 0
      },
      "text/plain": [
       "FloatProgress(value=0.0, bar_style='info', description='Progress:', layout=Layout(height='25px', width='50%'),…"
      ]
     },
     "metadata": {},
     "output_type": "display_data"
    }
   ],
   "source": [
    "sti = df_pairs_sep.select(\"trip_id\",F.explode(\"stop_id_pairs\").alias(\"stop_id_pair\")).withColumn(\"rown\",F.monotonically_increasing_id()).alias(\"sti\")\n",
    "ssp = df_pairs_sep.select(F.explode(\"stop_sequence_pairs\").alias(\"stop_sequence_pair\"),F.monotonically_increasing_id().alias(\"rown\")).alias(\"ssp\")\n",
    "atp = df_pairs_sep.select(F.explode(\"arrival_time_pairs\").alias(\"arrival_time_pair\"),F.monotonically_increasing_id().alias(\"rown\")).alias(\"atp\")\n",
    "dtp = df_pairs_sep.select(F.explode(\"departure_time_pairs\").alias(\"departure_time_pair\"),F.monotonically_increasing_id().alias(\"rown\")).alias(\"dtp\")\n",
    "\n"
   ]
  },
  {
   "cell_type": "code",
   "execution_count": 36,
   "metadata": {},
   "outputs": [
    {
     "data": {
      "application/vnd.jupyter.widget-view+json": {
       "model_id": "",
       "version_major": 2,
       "version_minor": 0
      },
      "text/plain": [
       "FloatProgress(value=0.0, bar_style='info', description='Progress:', layout=Layout(height='25px', width='50%'),…"
      ]
     },
     "metadata": {},
     "output_type": "display_data"
    }
   ],
   "source": [
    "#Uncomment this to run faster later\n",
    "\n",
    "#ti.cache()\n",
    "#ssp.cache()\n",
    "#atp.cache()\n",
    "#dtp.cache()\n",
    "#sti.count()\n",
    "#ssp.count()\n",
    "#atp.count()\n",
    "#dtp.count()\n",
    "\n",
    "#Uncomment this to run faster later"
   ]
  },
  {
   "cell_type": "code",
   "execution_count": 37,
   "metadata": {},
   "outputs": [
    {
     "data": {
      "application/vnd.jupyter.widget-view+json": {
       "model_id": "",
       "version_major": 2,
       "version_minor": 0
      },
      "text/plain": [
       "FloatProgress(value=0.0, bar_style='info', description='Progress:', layout=Layout(height='25px', width='50%'),…"
      ]
     },
     "metadata": {},
     "output_type": "display_data"
    }
   ],
   "source": [
    "joined = sti.join(ssp,sti.rown == ssp.rown).drop(ssp.rown).join(atp,sti.rown == atp.rown).drop(atp.rown).join(dtp,sti.rown == dtp.rown).drop(dtp.rown)"
   ]
  },
  {
   "cell_type": "code",
   "execution_count": 38,
   "metadata": {},
   "outputs": [
    {
     "data": {
      "application/vnd.jupyter.widget-view+json": {
       "model_id": "",
       "version_major": 2,
       "version_minor": 0
      },
      "text/plain": [
       "FloatProgress(value=0.0, bar_style='info', description='Progress:', layout=Layout(height='25px', width='50%'),…"
      ]
     },
     "metadata": {},
     "output_type": "display_data"
    }
   ],
   "source": [
    "#joined.write.mode(\"overwrite\").parquet(\"user/boecuego/df_all_stop_connections.parquet\")\n",
    "joined = spark.read.parquet(\"user/boecuego/df_all_stop_connections.parquet\")\n"
   ]
  },
  {
   "cell_type": "markdown",
   "metadata": {},
   "source": [
    "Now let's see the final table"
   ]
  },
  {
   "cell_type": "code",
   "execution_count": 40,
   "metadata": {},
   "outputs": [
    {
     "data": {
      "application/vnd.jupyter.widget-view+json": {
       "model_id": "",
       "version_major": 2,
       "version_minor": 0
      },
      "text/plain": [
       "FloatProgress(value=0.0, bar_style='info', description='Progress:', layout=Layout(height='25px', width='50%'),…"
      ]
     },
     "metadata": {},
     "output_type": "display_data"
    },
    {
     "name": "stdout",
     "output_type": "stream",
     "text": [
      "+--------------------+--------------------+----+------------------+--------------------+--------------------+\n",
      "|             trip_id|        stop_id_pair|rown|stop_sequence_pair|   arrival_time_pair| departure_time_pair|\n",
      "+--------------------+--------------------+----+------------------+--------------------+--------------------+\n",
      "|1.TA.26-18-j19-1.1.H|  [8591142, 8591429]|  10|            [2, 5]|[28:46:00, 28:50:00]|[28:46:00, 28:50:00]|\n",
      "|1005.TA.26-131-j1...|[8503855:0:F, 858...| 120|            [1, 7]|[16:14:00, 16:21:00]|[16:14:00, 16:21:00]|\n",
      "|1022.TA.26-33E-j1...|  [8591230, 8591196]| 423|            [6, 7]|[18:44:00, 18:46:00]|[18:44:00, 18:46:00]|\n",
      "|1022.TA.26-33E-j1...|  [8576198, 8576182]| 485|          [14, 17]|[18:55:00, 18:59:00]|[18:55:00, 18:59:00]|\n",
      "|103.TA.26-1-A-j19...|[8503512:0:2, 850...| 500|          [14, 17]|[02:51:00, 03:00:00]|[02:51:00, 03:00:00]|\n",
      "+--------------------+--------------------+----+------------------+--------------------+--------------------+\n",
      "only showing top 5 rows"
     ]
    }
   ],
   "source": [
    "joined.show(5)"
   ]
  },
  {
   "cell_type": "markdown",
   "metadata": {},
   "source": [
    "#### Filter for weekdays"
   ]
  },
  {
   "cell_type": "markdown",
   "metadata": {},
   "source": [
    "Now we need to filter rows to obtain trips that are available Only on Weekdays (monday,tuesday,wednesday,thursday,friday)"
   ]
  },
  {
   "cell_type": "code",
   "execution_count": 46,
   "metadata": {},
   "outputs": [
    {
     "data": {
      "application/vnd.jupyter.widget-view+json": {
       "model_id": "",
       "version_major": 2,
       "version_minor": 0
      },
      "text/plain": [
       "FloatProgress(value=0.0, bar_style='info', description='Progress:', layout=Layout(height='25px', width='50%'),…"
      ]
     },
     "metadata": {},
     "output_type": "display_data"
    }
   ],
   "source": [
    "stop_times_df = spark.read.orc(\"hdfs:///data/sbb/timetables/orc/stop_times\")\n",
    "stops_df = spark.read.orc(\"hdfs:///data/sbb/timetables/orc/stops\")\n",
    "trips_df = spark.read.orc(\"hdfs:///data/sbb/timetables/orc/trips\")\n",
    "calendar_df = spark.read.orc(\"hdfs:///data/sbb/timetables/orc/calendar\")\n",
    "routes_df = spark.read.orc(\"hdfs:///data/sbb/timetables/orc/routes\")"
   ]
  },
  {
   "cell_type": "code",
   "execution_count": 62,
   "metadata": {},
   "outputs": [
    {
     "data": {
      "application/vnd.jupyter.widget-view+json": {
       "model_id": "",
       "version_major": 2,
       "version_minor": 0
      },
      "text/plain": [
       "FloatProgress(value=0.0, bar_style='info', description='Progress:', layout=Layout(height='25px', width='50%'),…"
      ]
     },
     "metadata": {},
     "output_type": "display_data"
    }
   ],
   "source": [
    "df_service  =joined.join(trips_df,trips_df.trip_id ==joined.trip_id  )\n",
    "df_days = df_service.join(calendar_df,calendar_df.service_id == df_service.service_id)\n",
    "df_weekdays = df_days.filter(\"monday == 'true' AND tuesday == 'true' AND wednesday == 'true' AND thursday == 'true' AND friday == 'true' \")\n",
    "cols = joined.columns\n",
    "df_weekdays = df_weekdays.drop(trips_df.trip_id)\n",
    "joined_filtered  = df_weekdays.select(*cols)"
   ]
  },
  {
   "cell_type": "code",
   "execution_count": 55,
   "metadata": {},
   "outputs": [
    {
     "data": {
      "application/vnd.jupyter.widget-view+json": {
       "model_id": "",
       "version_major": 2,
       "version_minor": 0
      },
      "text/plain": [
       "FloatProgress(value=0.0, bar_style='info', description='Progress:', layout=Layout(height='25px', width='50%'),…"
      ]
     },
     "metadata": {},
     "output_type": "display_data"
    }
   ],
   "source": [
    "#joined_filtered.write.mode(\"overwrite\").parquet(\"user/boecuego/df_all_stop_connections_filtered.parquet\")\n",
    "joined_filtered = spark.read.parquet(\"user/boecuego/df_all_stop_connections_filtered.parquet\")\n"
   ]
  },
  {
   "cell_type": "code",
   "execution_count": 56,
   "metadata": {},
   "outputs": [
    {
     "data": {
      "application/vnd.jupyter.widget-view+json": {
       "model_id": "",
       "version_major": 2,
       "version_minor": 0
      },
      "text/plain": [
       "FloatProgress(value=0.0, bar_style='info', description='Progress:', layout=Layout(height='25px', width='50%'),…"
      ]
     },
     "metadata": {},
     "output_type": "display_data"
    }
   ],
   "source": [
    "#Sort dataframe and selet only interested columns\n",
    "joineds = joined_filtered.sort(\"rown\").select(\"trip_id\",F.col(\"stop_id_pair\").pair1.alias(\"stop_id1\")\\\n",
    "                        ,F.col(\"stop_id_pair\").pair2.alias(\"stop_id2\")\\\n",
    "                        ,F.col(\"stop_sequence_pair\").pair1.alias(\"stop_sequence1\")\\\n",
    "                        ,F.col(\"stop_sequence_pair\").pair2.alias(\"stop_sequence2\")\\\n",
    "                        ,F.col(\"arrival_time_pair\").pair1.alias(\"arrival_time1\")\\\n",
    "                        ,F.col(\"arrival_time_pair\").pair2.alias(\"arrival_time2\")\\\n",
    "                        ,F.col(\"departure_time_pair\").pair1.alias(\"departure_time1\")\\\n",
    "                        ,F.col(\"departure_time_pair\").pair2.alias(\"departure_time2\"))"
   ]
  },
  {
   "cell_type": "markdown",
   "metadata": {},
   "source": [
    "Finally we have all reachable stops"
   ]
  },
  {
   "cell_type": "code",
   "execution_count": 57,
   "metadata": {},
   "outputs": [
    {
     "data": {
      "application/vnd.jupyter.widget-view+json": {
       "model_id": "",
       "version_major": 2,
       "version_minor": 0
      },
      "text/plain": [
       "FloatProgress(value=0.0, bar_style='info', description='Progress:', layout=Layout(height='25px', width='50%'),…"
      ]
     },
     "metadata": {},
     "output_type": "display_data"
    },
    {
     "name": "stdout",
     "output_type": "stream",
     "text": [
      "+--------------------+-----------+--------+--------------+--------------+-------------+-------------+---------------+---------------+\n",
      "|             trip_id|   stop_id1|stop_id2|stop_sequence1|stop_sequence2|arrival_time1|arrival_time2|departure_time1|departure_time2|\n",
      "+--------------------+-----------+--------+--------------+--------------+-------------+-------------+---------------+---------------+\n",
      "|1005.TA.26-131-j1...|8503855:0:F| 8589111|             1|             2|     16:14:00|     16:15:00|       16:14:00|       16:15:00|\n",
      "|1005.TA.26-131-j1...|8503855:0:F| 8573553|             1|             3|     16:14:00|     16:16:00|       16:14:00|       16:16:00|\n",
      "|1005.TA.26-131-j1...|8503855:0:F| 8573554|             1|             4|     16:14:00|     16:18:00|       16:14:00|       16:18:00|\n",
      "|1005.TA.26-131-j1...|8503855:0:F| 8573555|             1|             5|     16:14:00|     16:19:00|       16:14:00|       16:19:00|\n",
      "|1005.TA.26-131-j1...|8503855:0:F| 8588985|             1|             6|     16:14:00|     16:20:00|       16:14:00|       16:20:00|\n",
      "+--------------------+-----------+--------+--------------+--------------+-------------+-------------+---------------+---------------+\n",
      "only showing top 5 rows"
     ]
    }
   ],
   "source": [
    "joineds.show(5)"
   ]
  },
  {
   "cell_type": "markdown",
   "metadata": {},
   "source": [
    "# Create Stop Connections via Walking"
   ]
  },
  {
   "cell_type": "markdown",
   "metadata": {},
   "source": [
    "Get all walkable stop pair\n",
    "\n",
    "**Conditions:**\n",
    "- If distance(stop1,stop2) < 500 meters\n",
    "- If stop in radius (15km from Zurich)\n",
    "\n",
    "**Walking speed :** 50 meters in 1 minute"
   ]
  },
  {
   "cell_type": "code",
   "execution_count": 63,
   "metadata": {},
   "outputs": [
    {
     "data": {
      "application/vnd.jupyter.widget-view+json": {
       "model_id": "",
       "version_major": 2,
       "version_minor": 0
      },
      "text/plain": [
       "FloatProgress(value=0.0, bar_style='info', description='Progress:', layout=Layout(height='25px', width='50%'),…"
      ]
     },
     "metadata": {},
     "output_type": "display_data"
    }
   ],
   "source": [
    "@F.udf(T.DoubleType())\n",
    "def getDist(lat1,lon1,lat2,lon2):\n",
    "    geo1 = (lat1,lon1)\n",
    "    geo2 = (lat2,lon2)\n",
    "    dist = distance.distance(geo1, geo2).m\n",
    "    return dist\n",
    "\n",
    "stops_inradius_df = stops_inradius_df.drop(\"dist\")\n",
    "\n",
    "stopDist = stops_inradius_df.alias(\"stops1\").crossJoin(stops_inradius_df.alias(\"stops2\"))\\\n",
    ".where(getDist(\"stops1.stop_lat\",\"stops1.stop_lon\",\"stops2.stop_lat\",\"stops2.stop_lon\")<= 500)\\\n",
    ".withColumn(\"dist\",getDist(\"stops1.stop_lat\",\"stops1.stop_lon\",\"stops2.stop_lat\",\"stops2.stop_lon\"))\n",
    "\n",
    "\n",
    "#Other option is this but don't know if it is way more efficient or more or less similiar\n",
    "#stopDistFiltered = stops_inradius_df.alias(\"stops1\").join(stops_inradius_df.alias(\"stops2\")\\\n",
    "#,getDist(\"stops1.stop_lat\",\"stops1.stop_lon\",\"stops2.stop_lat\",\"stops2.stop_lon\")<=500)"
   ]
  },
  {
   "cell_type": "code",
   "execution_count": 66,
   "metadata": {},
   "outputs": [
    {
     "data": {
      "application/vnd.jupyter.widget-view+json": {
       "model_id": "",
       "version_major": 2,
       "version_minor": 0
      },
      "text/plain": [
       "FloatProgress(value=0.0, bar_style='info', description='Progress:', layout=Layout(height='25px', width='50%'),…"
      ]
     },
     "metadata": {},
     "output_type": "display_data"
    }
   ],
   "source": [
    "#Rename columns\n",
    "walk_stops = stopDist.select(F.col(\"stops1.stop_id\").alias(\"stop1_id\")\\\n",
    "               ,F.col(\"stops1.stop_name\").alias(\"stop1_name\")\\\n",
    "               ,F.col(\"stops1.stop_lat\").alias(\"stop1_lat\")\\\n",
    "               ,F.col(\"stops1.stop_lon\").alias(\"stop1_lon\")\\\n",
    "               ,F.col(\"stops2.stop_id\").alias(\"stop2_id\")\\\n",
    "               ,F.col(\"stops2.stop_name\").alias(\"stop2_name\")\\\n",
    "               ,F.col(\"stops2.stop_lat\").alias(\"stop2_lat\")\\\n",
    "               ,F.col(\"stops2.stop_lon\").alias(\"stop2_lon\")\\\n",
    "               ,F.col(\"dist\"))"
   ]
  },
  {
   "cell_type": "code",
   "execution_count": 4,
   "metadata": {},
   "outputs": [
    {
     "data": {
      "application/vnd.jupyter.widget-view+json": {
       "model_id": "",
       "version_major": 2,
       "version_minor": 0
      },
      "text/plain": [
       "FloatProgress(value=0.0, bar_style='info', description='Progress:', layout=Layout(height='25px', width='50%'),…"
      ]
     },
     "metadata": {},
     "output_type": "display_data"
    }
   ],
   "source": [
    "#walk_stops.write.parquet(\"user/boecuego/walk_stops.parquet\")\n",
    "\n",
    "walk_stops = spark.read.parquet(\"user/boecuego/walk_stops.parquet\")"
   ]
  },
  {
   "cell_type": "code",
   "execution_count": 8,
   "metadata": {},
   "outputs": [
    {
     "data": {
      "application/vnd.jupyter.widget-view+json": {
       "model_id": "",
       "version_major": 2,
       "version_minor": 0
      },
      "text/plain": [
       "FloatProgress(value=0.0, bar_style='info', description='Progress:', layout=Layout(height='25px', width='50%'),…"
      ]
     },
     "metadata": {},
     "output_type": "display_data"
    },
    {
     "name": "stdout",
     "output_type": "stream",
     "text": [
      "+--------+--------------------+-----------+--------------------+------------------+\n",
      "|stop1_id|          stop1_name|   stop2_id|          stop2_name|              dist|\n",
      "+--------+--------------------+-----------+--------------------+------------------+\n",
      "| 8500926|Oetwil a.d.L., Sc...|    8500926|Oetwil a.d.L., Sc...|               0.0|\n",
      "| 8500926|Oetwil a.d.L., Sc...|    8590616|Geroldswil, Schwe...|122.61607002692374|\n",
      "| 8500926|Oetwil a.d.L., Sc...|    8590737|Oetwil an der Lim...|  300.671189772556|\n",
      "| 8502186|Dietikon Stoffelbach|    8502186|Dietikon Stoffelbach|               0.0|\n",
      "| 8502186|Dietikon Stoffelbach|8502186:0:1|Dietikon Stoffelbach| 6.761029676373361|\n",
      "+--------+--------------------+-----------+--------------------+------------------+\n",
      "only showing top 5 rows"
     ]
    }
   ],
   "source": [
    "#Dist is distance between two stops\n",
    "walk_stops.drop(\"stop1_lat\",\"stop1_lon\",\"stop2_lat\",\"stop2_lon\").show(5)"
   ]
  },
  {
   "cell_type": "markdown",
   "metadata": {},
   "source": [
    "# Create Graph "
   ]
  },
  {
   "cell_type": "code",
   "execution_count": 4,
   "metadata": {},
   "outputs": [
    {
     "data": {
      "application/vnd.jupyter.widget-view+json": {
       "model_id": "",
       "version_major": 2,
       "version_minor": 0
      },
      "text/plain": [
       "FloatProgress(value=0.0, bar_style='info', description='Progress:', layout=Layout(height='25px', width='50%'),…"
      ]
     },
     "metadata": {},
     "output_type": "display_data"
    }
   ],
   "source": [
    "df_trip_network_reasonable_main = spark.read.parquet(\"user/boecuego/df_all_stop_connections_filtered.parquet\")\n",
    "walk_stops_main = spark.read.parquet(\"user/boecuego/walk_stops.parquet\")\n",
    "df_trip_network_reasonable = df_trip_network_reasonable_main\n",
    "walk_stops = walk_stops_main"
   ]
  },
  {
   "cell_type": "code",
   "execution_count": 5,
   "metadata": {},
   "outputs": [
    {
     "data": {
      "application/vnd.jupyter.widget-view+json": {
       "model_id": "",
       "version_major": 2,
       "version_minor": 0
      },
      "text/plain": [
       "FloatProgress(value=0.0, bar_style='info', description='Progress:', layout=Layout(height='25px', width='50%'),…"
      ]
     },
     "metadata": {},
     "output_type": "display_data"
    }
   ],
   "source": [
    "df_trip_network_reasonable = df_trip_network_reasonable.sort(\"rown\").select(\"trip_id\",F.col(\"stop_id_pair\").pair1.alias(\"stop_id1\")\\\n",
    "                        ,F.col(\"stop_id_pair\").pair2.alias(\"stop_id2\")\\\n",
    "                        ,F.col(\"stop_sequence_pair\").pair1.alias(\"stop_sequence1\")\\\n",
    "                        ,F.col(\"stop_sequence_pair\").pair2.alias(\"stop_sequence2\")\\\n",
    "                        ,F.col(\"arrival_time_pair\").pair1.alias(\"arrival_time1\")\\\n",
    "                        ,F.col(\"arrival_time_pair\").pair2.alias(\"arrival_time2\")\\\n",
    "                        ,F.col(\"departure_time_pair\").pair1.alias(\"departure_time1\")\\\n",
    "                        ,F.col(\"departure_time_pair\").pair2.alias(\"departure_time2\"))\n",
    "joineds = df_trip_network_reasonable"
   ]
  },
  {
   "cell_type": "markdown",
   "metadata": {},
   "source": [
    "**Calculate the cost between two trip nodes:** (Arrival time of stop 2) - (Departure time of stop 1)"
   ]
  },
  {
   "cell_type": "code",
   "execution_count": 6,
   "metadata": {},
   "outputs": [
    {
     "data": {
      "application/vnd.jupyter.widget-view+json": {
       "model_id": "",
       "version_major": 2,
       "version_minor": 0
      },
      "text/plain": [
       "FloatProgress(value=0.0, bar_style='info', description='Progress:', layout=Layout(height='25px', width='50%'),…"
      ]
     },
     "metadata": {},
     "output_type": "display_data"
    }
   ],
   "source": [
    "timeDiff = (F.unix_timestamp('arrival_time2', format=\"HH:mm:ss\")\n",
    "            - F.unix_timestamp('departure_time1', format=\"HH:mm:ss\"))\n",
    "df_trip_network_reasonable = df_trip_network_reasonable.withColumn(\"cost\",F.ceil(timeDiff/60))"
   ]
  },
  {
   "cell_type": "markdown",
   "metadata": {},
   "source": [
    "**Calculate the cost between two walking nodes:** Distance/50 + 2minutes transfer delay"
   ]
  },
  {
   "cell_type": "code",
   "execution_count": 7,
   "metadata": {},
   "outputs": [
    {
     "data": {
      "application/vnd.jupyter.widget-view+json": {
       "model_id": "",
       "version_major": 2,
       "version_minor": 0
      },
      "text/plain": [
       "FloatProgress(value=0.0, bar_style='info', description='Progress:', layout=Layout(height='25px', width='50%'),…"
      ]
     },
     "metadata": {},
     "output_type": "display_data"
    }
   ],
   "source": [
    "walk_stops = walk_stops.withColumn(\"cost\", F.ceil(F.col(\"dist\")/50)+2)\n",
    "walk_stops = walk_stops.select(F.col('stop1_id').alias('stop_id1'), F.col('stop2_id').alias('stop_id2'), 'cost')"
   ]
  },
  {
   "cell_type": "code",
   "execution_count": 8,
   "metadata": {},
   "outputs": [
    {
     "data": {
      "application/vnd.jupyter.widget-view+json": {
       "model_id": "",
       "version_major": 2,
       "version_minor": 0
      },
      "text/plain": [
       "FloatProgress(value=0.0, bar_style='info', description='Progress:', layout=Layout(height='25px', width='50%'),…"
      ]
     },
     "metadata": {},
     "output_type": "display_data"
    }
   ],
   "source": [
    "df_trip_network_reasonables =  df_trip_network_reasonable.select(\"stop_id1\",\"stop_id2\",\"cost\")"
   ]
  },
  {
   "cell_type": "code",
   "execution_count": 9,
   "metadata": {},
   "outputs": [
    {
     "data": {
      "application/vnd.jupyter.widget-view+json": {
       "model_id": "",
       "version_major": 2,
       "version_minor": 0
      },
      "text/plain": [
       "FloatProgress(value=0.0, bar_style='info', description='Progress:', layout=Layout(height='25px', width='50%'),…"
      ]
     },
     "metadata": {},
     "output_type": "display_data"
    }
   ],
   "source": [
    "df_trip_network_reasonables=df_trip_network_reasonables.withColumn(\"type\",F.lit(\"trip\"))\n",
    "walk_stops = walk_stops.withColumn(\"type\",F.lit(\"walk\"))\n",
    "unioned_df = df_trip_network_reasonables.union(walk_stops)\n",
    "unioned_df = unioned_df.dropna()"
   ]
  },
  {
   "cell_type": "markdown",
   "metadata": {},
   "source": [
    "**Asumption for simplicity:** If there are multiple edges between two nodes we only get the edge with minimum"
   ]
  },
  {
   "cell_type": "code",
   "execution_count": 10,
   "metadata": {},
   "outputs": [
    {
     "data": {
      "application/vnd.jupyter.widget-view+json": {
       "model_id": "",
       "version_major": 2,
       "version_minor": 0
      },
      "text/plain": [
       "FloatProgress(value=0.0, bar_style='info', description='Progress:', layout=Layout(height='25px', width='50%'),…"
      ]
     },
     "metadata": {},
     "output_type": "display_data"
    }
   ],
   "source": [
    "unioned_df_unique = unioned_df.groupBy(\"stop_id1\",\"stop_id2\").agg(F.min(\"cost\").alias(\"cost\"),F.collect_set(\"type\").alias(\"types\"))"
   ]
  },
  {
   "cell_type": "markdown",
   "metadata": {},
   "source": [
    "**Asumption:** We want to penalize using too many transfers so we add extra 10minutes of cost to each edge\n",
    "\n",
    "- A --> B --> C\n",
    "- A --> C\n",
    "\n",
    "we prioritize A -->C\n",
    "We are also doing this because these two routes may belong to same trip and we don't want the intermediate stops"
   ]
  },
  {
   "cell_type": "code",
   "execution_count": 11,
   "metadata": {},
   "outputs": [
    {
     "data": {
      "application/vnd.jupyter.widget-view+json": {
       "model_id": "",
       "version_major": 2,
       "version_minor": 0
      },
      "text/plain": [
       "FloatProgress(value=0.0, bar_style='info', description='Progress:', layout=Layout(height='25px', width='50%'),…"
      ]
     },
     "metadata": {},
     "output_type": "display_data"
    }
   ],
   "source": [
    "unioned_df_unique = unioned_df_unique.withColumn(\"cost\",F.col(\"cost\")+10)"
   ]
  },
  {
   "cell_type": "code",
   "execution_count": 12,
   "metadata": {},
   "outputs": [
    {
     "data": {
      "application/vnd.jupyter.widget-view+json": {
       "model_id": "",
       "version_major": 2,
       "version_minor": 0
      },
      "text/plain": [
       "FloatProgress(value=0.0, bar_style='info', description='Progress:', layout=Layout(height='25px', width='50%'),…"
      ]
     },
     "metadata": {},
     "output_type": "display_data"
    }
   ],
   "source": [
    "pd_df = unioned_df_unique.toPandas()"
   ]
  },
  {
   "cell_type": "code",
   "execution_count": 13,
   "metadata": {},
   "outputs": [
    {
     "data": {
      "application/vnd.jupyter.widget-view+json": {
       "model_id": "",
       "version_major": 2,
       "version_minor": 0
      },
      "text/plain": [
       "FloatProgress(value=0.0, bar_style='info', description='Progress:', layout=Layout(height='25px', width='50%'),…"
      ]
     },
     "metadata": {},
     "output_type": "display_data"
    }
   ],
   "source": [
    "import networkx as nx\n",
    "import pandas as pd"
   ]
  },
  {
   "cell_type": "markdown",
   "metadata": {},
   "source": [
    "Create the grapgh with networkx, we store cost(journey duration in minutes + penalty) and types(walking or public transport) in the edges"
   ]
  },
  {
   "cell_type": "code",
   "execution_count": 14,
   "metadata": {},
   "outputs": [
    {
     "data": {
      "application/vnd.jupyter.widget-view+json": {
       "model_id": "",
       "version_major": 2,
       "version_minor": 0
      },
      "text/plain": [
       "FloatProgress(value=0.0, bar_style='info', description='Progress:', layout=Layout(height='25px', width='50%'),…"
      ]
     },
     "metadata": {},
     "output_type": "display_data"
    }
   ],
   "source": [
    "mygraph = nx.from_pandas_edgelist(pd_df, 'stop_id1', 'stop_id2',[\"cost\",\"types\"])"
   ]
  },
  {
   "cell_type": "markdown",
   "metadata": {},
   "source": [
    "# Find the shortest path"
   ]
  },
  {
   "cell_type": "code",
   "execution_count": 15,
   "metadata": {},
   "outputs": [
    {
     "data": {
      "application/vnd.jupyter.widget-view+json": {
       "model_id": "",
       "version_major": 2,
       "version_minor": 0
      },
      "text/plain": [
       "FloatProgress(value=0.0, bar_style='info', description='Progress:', layout=Layout(height='25px', width='50%'),…"
      ]
     },
     "metadata": {},
     "output_type": "display_data"
    }
   ],
   "source": [
    "#Find the k shortest paths\n",
    "from itertools import islice\n",
    "def k_shortest_paths(G, source, target, k, weight):\n",
    "    return list(islice(nx.shortest_simple_paths(G, source, target, weight=weight), k))\n",
    "\n"
   ]
  },
  {
   "cell_type": "markdown",
   "metadata": {},
   "source": [
    "Find **k** shortest path between two stops"
   ]
  },
  {
   "cell_type": "code",
   "execution_count": 16,
   "metadata": {},
   "outputs": [
    {
     "data": {
      "application/vnd.jupyter.widget-view+json": {
       "model_id": "",
       "version_major": 2,
       "version_minor": 0
      },
      "text/plain": [
       "FloatProgress(value=0.0, bar_style='info', description='Progress:', layout=Layout(height='25px', width='50%'),…"
      ]
     },
     "metadata": {},
     "output_type": "display_data"
    }
   ],
   "source": [
    "src = \"8503000:0:41/42\"\n",
    "tgt  =\"8591049\"\n",
    "#k = 10\n",
    "\n",
    "paths = k_shortest_paths(mygraph, src, tgt,10,weight = \"cost\")"
   ]
  },
  {
   "cell_type": "code",
   "execution_count": 19,
   "metadata": {},
   "outputs": [
    {
     "data": {
      "application/vnd.jupyter.widget-view+json": {
       "model_id": "",
       "version_major": 2,
       "version_minor": 0
      },
      "text/plain": [
       "FloatProgress(value=0.0, bar_style='info', description='Progress:', layout=Layout(height='25px', width='50%'),…"
      ]
     },
     "metadata": {},
     "output_type": "display_data"
    }
   ],
   "source": [
    "\n",
    "#This is a helper to get pairs in a list\n",
    "from itertools import tee, izip\n",
    "def pairwise(iterable):\n",
    "    \"s -> (s0,s1), (s1,s2), (s2, s3), ...\"\n",
    "    a, b = tee(iterable)\n",
    "    next(b, None)\n",
    "    return izip(a, b)\n",
    "#When converting a date to string this is a helper\n",
    "def append_zero(x):\n",
    "    if len(str(x)) == 1:\n",
    "        return \"0\"+str(x)\n",
    "    return str(x)\n",
    "#Helper to remove adjecent walks\n",
    "def remove_adjecent_walks(paths):\n",
    "    no_adjecentwalk =[]\n",
    "    for pr in paths:\n",
    "        check = True\n",
    "        for p1,p2 in pairwise(pairwise(pr)):\n",
    "\n",
    "            if mygraph[p1[0]][p1[1]][\"types\"] == [\"walk\"] and mygraph[p2[0]][p2[1]][\"types\"] == [\"walk\"]:\n",
    "                #print(counter)\n",
    "                check = False\n",
    "\n",
    "        if check:\n",
    "            no_adjecentwalk.append(pr)\n",
    "    return no_adjecentwalk\n",
    "\n",
    "#Helper to reverse route\n",
    "def get_reverse_route(paths):\n",
    "    reversed_routes  = []\n",
    "    for route in paths:\n",
    "        lst = []\n",
    "        for a in pairwise(route):\n",
    "            lst.append(a)\n",
    "        lst_reversed = lst[::-1]\n",
    "        reversed_routes.append(lst_reversed)\n",
    "    return reversed_routes"
   ]
  },
  {
   "cell_type": "markdown",
   "metadata": {},
   "source": [
    "We don't want two consecutive walks, so filter them if any"
   ]
  },
  {
   "cell_type": "code",
   "execution_count": 20,
   "metadata": {},
   "outputs": [
    {
     "data": {
      "application/vnd.jupyter.widget-view+json": {
       "model_id": "",
       "version_major": 2,
       "version_minor": 0
      },
      "text/plain": [
       "FloatProgress(value=0.0, bar_style='info', description='Progress:', layout=Layout(height='25px', width='50%'),…"
      ]
     },
     "metadata": {},
     "output_type": "display_data"
    }
   ],
   "source": [
    "no_adjecentwalk = remove_adjecent_walks(paths)"
   ]
  },
  {
   "cell_type": "markdown",
   "metadata": {},
   "source": [
    "Since we know arrival time we need to **reverse** the path"
   ]
  },
  {
   "cell_type": "code",
   "execution_count": 21,
   "metadata": {},
   "outputs": [
    {
     "data": {
      "application/vnd.jupyter.widget-view+json": {
       "model_id": "",
       "version_major": 2,
       "version_minor": 0
      },
      "text/plain": [
       "FloatProgress(value=0.0, bar_style='info', description='Progress:', layout=Layout(height='25px', width='50%'),…"
      ]
     },
     "metadata": {},
     "output_type": "display_data"
    }
   ],
   "source": [
    "reversed_routes = get_reverse_route(no_adjecentwalk)"
   ]
  },
  {
   "cell_type": "code",
   "execution_count": 22,
   "metadata": {},
   "outputs": [
    {
     "data": {
      "application/vnd.jupyter.widget-view+json": {
       "model_id": "",
       "version_major": 2,
       "version_minor": 0
      },
      "text/plain": [
       "FloatProgress(value=0.0, bar_style='info', description='Progress:', layout=Layout(height='25px', width='50%'),…"
      ]
     },
     "metadata": {},
     "output_type": "display_data"
    },
    {
     "name": "stdout",
     "output_type": "stream",
     "text": [
      "[Row(trip_id=u'1005.TA.26-131-j19-1.9.H', stop_id1=u'8503855:0:F', stop_id2=u'8589111', stop_sequence1=u'1', stop_sequence2=u'2', arrival_time1=u'16:14:00', arrival_time2=u'16:15:00', departure_time1=u'16:14:00', departure_time2=u'16:15:00')]"
     ]
    }
   ],
   "source": [
    "joineds.cache()\n",
    "joineds.take(1)\n"
   ]
  },
  {
   "cell_type": "code",
   "execution_count": 31,
   "metadata": {},
   "outputs": [
    {
     "data": {
      "application/vnd.jupyter.widget-view+json": {
       "model_id": "",
       "version_major": 2,
       "version_minor": 0
      },
      "text/plain": [
       "FloatProgress(value=0.0, bar_style='info', description='Progress:', layout=Layout(height='25px', width='50%'),…"
      ]
     },
     "metadata": {},
     "output_type": "display_data"
    }
   ],
   "source": [
    "#This is arrival_time\n",
    "current_time = datetime.datetime(2019,1,1,12,30,0,0)\n",
    "cut_off_time = datetime.datetime(2019,1,1,11,50,0,0)"
   ]
  },
  {
   "cell_type": "markdown",
   "metadata": {},
   "source": [
    "**Algorihm:** Starting from the last connection, we try to find most suitable  trips(if not possible walks) by comparing from timetables matching the arrival time and backtrace from there"
   ]
  },
  {
   "cell_type": "code",
   "execution_count": 48,
   "metadata": {},
   "outputs": [
    {
     "data": {
      "application/vnd.jupyter.widget-view+json": {
       "model_id": "",
       "version_major": 2,
       "version_minor": 0
      },
      "text/plain": [
       "FloatProgress(value=0.0, bar_style='info', description='Progress:', layout=Layout(height='25px', width='50%'),…"
      ]
     },
     "metadata": {},
     "output_type": "display_data"
    }
   ],
   "source": [
    "\n",
    "def find_possible_routes(reversed_routes,current_timez,cut_off_time):\n",
    "    \n",
    "    shorts = []\n",
    "    longs = []\n",
    "    for route in reversed_routes:\n",
    "        current_time = current_timez\n",
    "        current_trip_id = \"\"\n",
    "        \n",
    "        route_with_timetable = []\n",
    "        trip = []\n",
    "        prints  = []\n",
    "        for p1,p2 in route:\n",
    "            #p2 arrival\n",
    "            #p1 departure\n",
    "            if mygraph[p1][p2][\"types\"] == [\"walk\"]:\n",
    "\n",
    "                prints.append((\"after_walk\",current_time))\n",
    "                cost = mygraph[p1][p2][\"cost\"]\n",
    "                current_time  = current_time - datetime.timedelta(minutes=cost-10)#-2\n",
    "                prints.append((\"before_walk\",current_time))\n",
    "                current_trip_id=\"\"\n",
    "                prints.append((p1,p2))\n",
    "                continue\n",
    "            else:\n",
    "                #Get current times hour and minute\n",
    "                hour = current_time.hour\n",
    "                minute = current_time.minute\n",
    "\n",
    "                #Convert it to string\n",
    "                strtime = append_zero(hour)+\":\"+append_zero(minute)+\":00\"\n",
    "\n",
    "                #Get closest trip to current time with matching stop_ids\n",
    "                if current_trip_id != \"\":\n",
    "                    trip = joineds.filter(F.col(\"trip_id\") == current_trip_id)\\\n",
    "                    .filter(\"stop_id1 == '\"+p1+\"'\"+\" AND \"+\"stop_id2 == '\"+p2+\"'\").take(1)\n",
    "               #trip = df_trip_network_reasonable2.filter(\"prev_stop_id == '\"+p1+\"'\"+\" AND \"+\"stop_id == '\"+p2+\"'\").filter(\"arrival_time <='\"+strtime+\"'\").sort(F.desc(\"arrival_time\")).take(1)[0]\n",
    "\n",
    "                #If previous trip_id was different from this trip's id then put 2 minute waiting time\n",
    "                if trip == [] or current_trip_id == \"\":\n",
    "\n",
    "                    #2 min waiting\n",
    "                    if current_trip_id != \"\":\n",
    "                        current_time = current_time - datetime.timedelta(minutes = 2)\n",
    "\n",
    "                    #Get hours, minutes\n",
    "                    hour = current_time.hour\n",
    "                    minute = current_time.minute\n",
    "                    strtime = append_zero(hour)+\":\"+append_zero(minute)+\":00\"\n",
    "\n",
    "                    #With new current time get new trip\n",
    "                    trip = joineds.filter(\"stop_id1 == '\"+p1+\"'\"+\" AND \"+\"stop_id2 == '\"+p2+\"'\").filter(\"arrival_time2 <='\"+strtime+\"'\").sort(F.desc(\"arrival_time2\")).take(1)\n",
    "                    #update current trip_id\n",
    "                try:\n",
    "                    trip = trip[0]\n",
    "                except:\n",
    "                    print(\"Encountered a route that is not possible currently\")\n",
    "                    break\n",
    "                current_trip_id  = trip.trip_id\n",
    "\n",
    "                #Update current time\n",
    "                prints.append((trip.trip_id,trip.arrival_time1,trip.departure_time1,trip.arrival_time2,trip.departure_time2))\n",
    "                hms = trip.departure_time1.split(\":\")\n",
    "                h = int(hms[0])\n",
    "                m = int(hms[1])\n",
    "                current_time = datetime.datetime(2019,1,1,h,m,0,0)\n",
    "\n",
    "            prints.append((p1,p2))\n",
    "        if current_time >= cut_off_time:\n",
    "            shorts.append(prints)\n",
    "            shorts.append(\"---------------------------------------------------------------\")\n",
    "        else:\n",
    "            longs.append(prints)\n",
    "            longs.append(\"---------------------------------------------------------------\")\n",
    "    return shorts,longs"
   ]
  },
  {
   "cell_type": "code",
   "execution_count": 49,
   "metadata": {},
   "outputs": [
    {
     "data": {
      "application/vnd.jupyter.widget-view+json": {
       "model_id": "",
       "version_major": 2,
       "version_minor": 0
      },
      "text/plain": [
       "FloatProgress(value=0.0, bar_style='info', description='Progress:', layout=Layout(height='25px', width='50%'),…"
      ]
     },
     "metadata": {},
     "output_type": "display_data"
    },
    {
     "name": "stdout",
     "output_type": "stream",
     "text": [
      "Encountered a route that is not possible currently"
     ]
    }
   ],
   "source": [
    "good_routes,bad_routes = find_possible_routes(reversed_routes,current_time,cut_off_time)\n",
    "\n"
   ]
  },
  {
   "cell_type": "code",
   "execution_count": 50,
   "metadata": {},
   "outputs": [
    {
     "data": {
      "application/vnd.jupyter.widget-view+json": {
       "model_id": "",
       "version_major": 2,
       "version_minor": 0
      },
      "text/plain": [
       "FloatProgress(value=0.0, bar_style='info', description='Progress:', layout=Layout(height='25px', width='50%'),…"
      ]
     },
     "metadata": {},
     "output_type": "display_data"
    },
    {
     "name": "stdout",
     "output_type": "stream",
     "text": [
      "\n",
      "(u'1914.TA.26-11-A-j19-1.27.R', u'12:01:00', u'12:01:00', u'12:24:00', u'12:24:00')\n",
      "(u'8587349', '8591049')\n",
      "('after_walk', datetime.datetime(2019, 1, 1, 12, 1))\n",
      "('before_walk', datetime.datetime(2019, 1, 1, 11, 56))\n",
      "('8503000:0:41/42', u'8587349')\n",
      "\n",
      "---------------------------------------------------------------\n",
      "(u'1914.TA.26-11-A-j19-1.27.R', u'12:03:00', u'12:03:00', u'12:24:00', u'12:24:00')\n",
      "(u'8591379', '8591049')\n",
      "('after_walk', datetime.datetime(2019, 1, 1, 12, 3))\n",
      "('before_walk', datetime.datetime(2019, 1, 1, 11, 55))\n",
      "('8503000:0:41/42', u'8591379')\n",
      "\n",
      "---------------------------------------------------------------\n",
      "(u'1914.TA.26-11-A-j19-1.27.R', u'12:15:00', u'12:15:00', u'12:24:00', u'12:24:00')\n",
      "(u'8580449', '8591049')\n",
      "('after_walk', datetime.datetime(2019, 1, 1, 12, 15))\n",
      "('before_walk', datetime.datetime(2019, 1, 1, 12, 11))\n",
      "(u'8503006:0:7', u'8580449')\n",
      "(u'235.TA.26-15-j19-1.41.H', u'11:50:00', u'11:52:00', u'11:58:00', u'11:59:00')\n",
      "('8503000:0:41/42', u'8503006:0:7')\n",
      "\n",
      "---------------------------------------------------------------\n",
      "(u'168.TA.26-12-A-j19-1.2.H', u'12:23:00', u'12:23:00', u'12:29:00', u'12:29:00')\n",
      "(u'8590620', '8591049')\n",
      "('after_walk', datetime.datetime(2019, 1, 1, 12, 23))\n",
      "('before_walk', datetime.datetime(2019, 1, 1, 12, 19))\n",
      "(u'8503310:0:3', u'8590620')\n",
      "(u'20.TA.26-9-A-j19-1.2.H', u'12:02:00', u'12:07:00', u'12:17:00', u'12:18:00')\n",
      "('8503000:0:41/42', u'8503310:0:3')\n",
      "\n",
      "---------------------------------------------------------------\n",
      "(u'1914.TA.26-11-A-j19-1.27.R', u'12:15:00', u'12:15:00', u'12:24:00', u'12:24:00')\n",
      "(u'8580449', '8591049')\n",
      "('after_walk', datetime.datetime(2019, 1, 1, 12, 15))\n",
      "('before_walk', datetime.datetime(2019, 1, 1, 12, 11))\n",
      "(u'8503006:0:8', u'8580449')\n",
      "(u'248.TA.26-6-A-j19-1.45.H', u'11:59:00', u'12:01:00', u'12:08:00', u'12:09:00')\n",
      "('8503000:0:41/42', u'8503006:0:8')\n",
      "\n",
      "---------------------------------------------------------------\n",
      "(u'1914.TA.26-11-A-j19-1.27.R', u'12:17:00', u'12:17:00', u'12:24:00', u'12:24:00')\n",
      "(u'8591382', '8591049')\n",
      "('after_walk', datetime.datetime(2019, 1, 1, 12, 17))\n",
      "('before_walk', datetime.datetime(2019, 1, 1, 12, 9))\n",
      "(u'8503006:0:7', u'8591382')\n",
      "(u'235.TA.26-15-j19-1.41.H', u'11:50:00', u'11:52:00', u'11:58:00', u'11:59:00')\n",
      "('8503000:0:41/42', u'8503006:0:7')\n",
      "\n",
      "---------------------------------------------------------------\n",
      "(u'1914.TA.26-11-A-j19-1.27.R', u'11:59:00', u'11:59:00', u'12:24:00', u'12:24:00')\n",
      "(u'8591067', '8591049')\n",
      "('after_walk', datetime.datetime(2019, 1, 1, 11, 59))\n",
      "('before_walk', datetime.datetime(2019, 1, 1, 11, 53))\n",
      "('8503000:0:41/42', u'8591067')\n",
      "\n",
      "---------------------------------------------------------------\n",
      "(u'1914.TA.26-11-A-j19-1.27.R', u'12:17:00', u'12:17:00', u'12:24:00', u'12:24:00')\n",
      "(u'8591382', '8591049')\n",
      "('after_walk', datetime.datetime(2019, 1, 1, 12, 17))\n",
      "('before_walk', datetime.datetime(2019, 1, 1, 12, 10))\n",
      "(u'8503006:0:8', u'8591382')\n",
      "(u'248.TA.26-6-A-j19-1.45.H', u'11:59:00', u'12:01:00', u'12:08:00', u'12:09:00')\n",
      "('8503000:0:41/42', u'8503006:0:8')"
     ]
    }
   ],
   "source": [
    "dashes = \"\"\n",
    "for route in good_routes:\n",
    "    print(dashes)\n",
    "    dashes = \"\"\n",
    "    for s in route:\n",
    "        if s != \"-\":\n",
    "            print(s)\n",
    "        else:\n",
    "            dashes+=\"-\"\n",
    "        "
   ]
  },
  {
   "cell_type": "code",
   "execution_count": null,
   "metadata": {},
   "outputs": [],
   "source": []
  }
 ],
 "metadata": {
  "kernelspec": {
   "display_name": "PySpark",
   "language": "",
   "name": "pysparkkernel"
  },
  "language_info": {
   "codemirror_mode": {
    "name": "python",
    "version": 3
   },
   "mimetype": "text/x-python",
   "name": "pyspark",
   "pygments_lexer": "python3"
  }
 },
 "nbformat": 4,
 "nbformat_minor": 4
}
